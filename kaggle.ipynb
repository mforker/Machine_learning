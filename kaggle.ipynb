{
  "nbformat": 4,
  "nbformat_minor": 0,
  "metadata": {
    "colab": {
      "provenance": [],
      "authorship_tag": "ABX9TyNx48dR1vmbBq1YVqTB9lp+",
      "include_colab_link": true
    },
    "kernelspec": {
      "name": "python3",
      "display_name": "Python 3"
    },
    "language_info": {
      "name": "python"
    }
  },
  "cells": [
    {
      "cell_type": "markdown",
      "metadata": {
        "id": "view-in-github",
        "colab_type": "text"
      },
      "source": [
        "<a href=\"https://colab.research.google.com/github/mforker/kaggle/blob/main/kaggle.ipynb\" target=\"_parent\"><img src=\"https://colab.research.google.com/assets/colab-badge.svg\" alt=\"Open In Colab\"/></a>"
      ]
    },
    {
      "cell_type": "code",
      "execution_count": null,
      "metadata": {
        "id": "z3sLWAMxIKDB"
      },
      "outputs": [],
      "source": [
        "import pandas as pd\n",
        "import numpy as np\n",
        "import matplotlib.pyplot as plt\n",
        "import seaborn as sns\n",
        "from xgboost import XGBRegressor\n",
        "from sklearn.model_selection import train_test_split\n",
        "from sklearn.preprocessing import LabelEncoder\n",
        "from sklearn.metrics import mean_absolute_error, mean_squared_error, r2_score\n"
      ]
    },
    {
      "cell_type": "code",
      "source": [
        "df = pd.read_csv('train.csv')\n",
        "df.info()"
      ],
      "metadata": {
        "colab": {
          "base_uri": "https://localhost:8080/"
        },
        "id": "kN908G0c2Sru",
        "outputId": "e832d892-52de-4e76-808a-bc61295840c2"
      },
      "execution_count": null,
      "outputs": [
        {
          "output_type": "stream",
          "name": "stdout",
          "text": [
            "<class 'pandas.core.frame.DataFrame'>\n",
            "RangeIndex: 750000 entries, 0 to 749999\n",
            "Data columns (total 12 columns):\n",
            " #   Column                       Non-Null Count   Dtype  \n",
            "---  ------                       --------------   -----  \n",
            " 0   id                           750000 non-null  int64  \n",
            " 1   Podcast_Name                 750000 non-null  object \n",
            " 2   Episode_Title                750000 non-null  object \n",
            " 3   Episode_Length_minutes       662907 non-null  float64\n",
            " 4   Genre                        750000 non-null  object \n",
            " 5   Host_Popularity_percentage   750000 non-null  float64\n",
            " 6   Publication_Day              750000 non-null  object \n",
            " 7   Publication_Time             750000 non-null  object \n",
            " 8   Guest_Popularity_percentage  603970 non-null  float64\n",
            " 9   Number_of_Ads                749999 non-null  float64\n",
            " 10  Episode_Sentiment            750000 non-null  object \n",
            " 11  Listening_Time_minutes       750000 non-null  float64\n",
            "dtypes: float64(5), int64(1), object(6)\n",
            "memory usage: 68.7+ MB\n"
          ]
        }
      ]
    },
    {
      "cell_type": "code",
      "source": [
        "print(df.shape)"
      ],
      "metadata": {
        "colab": {
          "base_uri": "https://localhost:8080/"
        },
        "id": "mXGn1dMLPRch",
        "outputId": "3c94c815-2640-42d7-a314-e639067bad8e"
      },
      "execution_count": null,
      "outputs": [
        {
          "output_type": "stream",
          "name": "stdout",
          "text": [
            "(750000, 12)\n"
          ]
        }
      ]
    },
    {
      "cell_type": "code",
      "source": [
        "df = df.drop_duplicates()\n",
        "print(df.shape)"
      ],
      "metadata": {
        "colab": {
          "base_uri": "https://localhost:8080/"
        },
        "id": "9qH3W4-F3DCh",
        "outputId": "712dcf21-e895-4f19-ae95-5c76e0539a72"
      },
      "execution_count": null,
      "outputs": [
        {
          "output_type": "stream",
          "name": "stdout",
          "text": [
            "(750000, 12)\n"
          ]
        }
      ]
    },
    {
      "cell_type": "code",
      "source": [
        "print(df.isna().sum())"
      ],
      "metadata": {
        "colab": {
          "base_uri": "https://localhost:8080/"
        },
        "id": "-s5JDWUMPBVs",
        "outputId": "99751fb9-2e85-40d5-c4ed-014541c190c8"
      },
      "execution_count": null,
      "outputs": [
        {
          "output_type": "stream",
          "name": "stdout",
          "text": [
            "id                                  0\n",
            "Podcast_Name                        0\n",
            "Episode_Title                       0\n",
            "Episode_Length_minutes          87093\n",
            "Genre                               0\n",
            "Host_Popularity_percentage          0\n",
            "Publication_Day                     0\n",
            "Publication_Time                    0\n",
            "Guest_Popularity_percentage    146030\n",
            "Number_of_Ads                       1\n",
            "Episode_Sentiment                   0\n",
            "Listening_Time_minutes              0\n",
            "dtype: int64\n"
          ]
        }
      ]
    },
    {
      "cell_type": "code",
      "source": [
        "df = df[~df['Number_of_Ads'].isna()]\n",
        "print(df.shape)"
      ],
      "metadata": {
        "colab": {
          "base_uri": "https://localhost:8080/"
        },
        "id": "ZniCCbK0PsXm",
        "outputId": "950e17c3-1aa5-45bb-9750-c26ea4038423"
      },
      "execution_count": null,
      "outputs": [
        {
          "output_type": "stream",
          "name": "stdout",
          "text": [
            "(749999, 12)\n"
          ]
        }
      ]
    },
    {
      "cell_type": "code",
      "source": [
        "sns.boxplot(x = df['Episode_Length_minutes'])\n",
        "plt.xlabel('Episode Length (Minutes)')\n",
        "plt.title('Boxplot of Episode Lengths')\n",
        "plt.show()"
      ],
      "metadata": {
        "colab": {
          "base_uri": "https://localhost:8080/",
          "height": 472
        },
        "id": "-88II55rYHf5",
        "outputId": "5b8d79d6-2bdc-4385-d8f2-645c4218d7af"
      },
      "execution_count": null,
      "outputs": [
        {
          "output_type": "display_data",
          "data": {
            "text/plain": [
              "<Figure size 640x480 with 1 Axes>"
            ],
            "image/png": "[encoded data removed]"
          },
          "metadata": {}
        }
      ]
    },
    {
      "cell_type": "code",
      "source": [
        "sns.boxplot(x = df['Guest_Popularity_percentage'])\n",
        "plt.xlabel('Guest Popularity Percentage')\n",
        "plt.title('Boxplot of Guest Popularity Percentages')\n",
        "plt.show()"
      ],
      "metadata": {
        "colab": {
          "base_uri": "https://localhost:8080/",
          "height": 472
        },
        "id": "sZYCwXL_ZBGk",
        "outputId": "f8a5e774-0f13-40b8-9206-55f76aa10033"
      },
      "execution_count": null,
      "outputs": [
        {
          "output_type": "display_data",
          "data": {
            "text/plain": [
              "<Figure size 640x480 with 1 Axes>"
            ],
            "image/png": "[encoded data removed]"
          },
          "metadata": {}
        }
      ]
    },
    {
      "cell_type": "code",
      "source": [
        "q1 = df['Episode_Length_minutes'].quantile(0.25)\n",
        "q3 = df['Episode_Length_minutes'].quantile(0.75)\n",
        "iqr = q3 - q1\n",
        "lower_bound = q1 - 1.5 * iqr\n",
        "upper_bound = q3 + 1.5 * iqr\n",
        "df_nan = df[df['Episode_Length_minutes'].isna()]\n",
        "df = df[~df['Episode_Length_minutes'].isna()]\n",
        "df = df[(df['Episode_Length_minutes'] >= lower_bound) & (df['Episode_Length_minutes'] <= upper_bound)]\n",
        "df = pd.concat([df,df_nan])\n",
        "print(df.shape)"
      ],
      "metadata": {
        "colab": {
          "base_uri": "https://localhost:8080/"
        },
        "id": "4K3mh4e3ZFGl",
        "outputId": "7d7c863f-6df9-4a2d-a58d-33451ffbdfc2"
      },
      "execution_count": null,
      "outputs": [
        {
          "output_type": "stream",
          "name": "stdout",
          "text": [
            "(749998, 12)\n"
          ]
        }
      ]
    },
    {
      "cell_type": "code",
      "source": [
        "# imputing Episode Length Minutes\n",
        "mean_len = df.groupby('Podcast_Name')['Episode_Length_minutes'].mean().reset_index(name = 'Mean_Dur')\n",
        "mean_len_map = mean_len.set_index('Podcast_Name')['Mean_Dur'].to_dict()\n",
        "mean_len_map\n"
      ],
      "metadata": {
        "colab": {
          "base_uri": "https://localhost:8080/"
        },
        "collapsed": true,
        "id": "d9KZjKRmQKLf",
        "outputId": "edccbdee-89e3-488f-9519-bbf099b991ca"
      },
      "execution_count": null,
      "outputs": [
        {
          "output_type": "execute_result",
          "data": {
            "text/plain": [
              "{\"Athlete's Arena\": 65.84145002666152,\n",
              " 'Brain Boost': 63.45841916371799,\n",
              " 'Business Briefs': 66.67273117600233,\n",
              " 'Business Insights': 62.85052578646617,\n",
              " 'Comedy Corner': 62.63431605846771,\n",
              " 'Crime Chronicles': 66.09590660730763,\n",
              " 'Criminal Minds': 61.44970857441532,\n",
              " 'Current Affairs': 62.01022120059374,\n",
              " 'Daily Digest': 65.28976221517944,\n",
              " 'Detective Diaries': 65.8284852482099,\n",
              " 'Digital Digest': 63.4173656755638,\n",
              " 'Educational Nuggets': 65.06675002035371,\n",
              " 'Fashion Forward': 64.62641731163349,\n",
              " 'Finance Focus': 62.0513269868116,\n",
              " 'Fitness First': 65.38452896585173,\n",
              " 'Funny Folks': 63.73354234956822,\n",
              " 'Gadget Geek': 65.03048366346326,\n",
              " 'Game Day': 62.7135723936742,\n",
              " 'Global News': 65.77577336517001,\n",
              " 'Health Hour': 64.42347040587816,\n",
              " 'Healthy Living': 64.53538735710995,\n",
              " 'Home & Living': 66.50949387549903,\n",
              " 'Humor Hub': 65.41717706239568,\n",
              " 'Innovators': 64.52611539726462,\n",
              " 'Joke Junction': 61.348252092201896,\n",
              " 'Laugh Line': 63.03206505745214,\n",
              " 'Learning Lab': 65.2761204178481,\n",
              " 'Life Lessons': 64.58458663705046,\n",
              " 'Lifestyle Lounge': 64.30525008571662,\n",
              " 'Market Masters': 65.20796240727051,\n",
              " 'Melody Mix': 67.9097364390318,\n",
              " 'Mind & Body': 66.28200243170421,\n",
              " 'Money Matters': 66.89709626346625,\n",
              " 'Music Matters': 65.19286744002962,\n",
              " 'Mystery Matters': 64.3884612689252,\n",
              " 'News Roundup': 61.108864215386326,\n",
              " 'Sound Waves': 64.08596366471062,\n",
              " 'Sport Spot': 64.51232737636283,\n",
              " 'Sports Central': 60.81053624579165,\n",
              " 'Sports Weekly': 67.11740574405195,\n",
              " 'Study Sessions': 65.980351101018,\n",
              " 'Style Guide': 64.39016450927645,\n",
              " 'Tech Talks': 64.30774070262983,\n",
              " 'Tech Trends': 63.16688750312118,\n",
              " 'True Crime Stories': 64.94377054370266,\n",
              " 'Tune Time': 66.07705168437427,\n",
              " 'Wellness Wave': 65.54557358418718,\n",
              " 'World Watch': 63.52654019797761}"
            ]
          },
          "metadata": {},
          "execution_count": 197
        }
      ]
    },
    {
      "cell_type": "code",
      "source": [
        "df.loc[df['Episode_Length_minutes'].isna(),'Episode_Length_minutes'] = (df.loc[df['Episode_Length_minutes'].isna(),'Podcast_Name'].map(mean_len_map))\n",
        "print(df.isna().sum())\n",
        "df.loc[df['Podcast_Name']=='Music Matters',:]"
      ],
      "metadata": {
        "colab": {
          "base_uri": "https://localhost:8080/",
          "height": 679
        },
        "id": "YAl7rOh_RGwG",
        "outputId": "843a6723-222c-4fdc-fe0a-deb0466ac1ad"
      },
      "execution_count": null,
      "outputs": [
        {
          "output_type": "stream",
          "name": "stdout",
          "text": [
            "id                                  0\n",
            "Podcast_Name                        0\n",
            "Episode_Title                       0\n",
            "Episode_Length_minutes              0\n",
            "Genre                               0\n",
            "Host_Popularity_percentage          0\n",
            "Publication_Day                     0\n",
            "Publication_Time                    0\n",
            "Guest_Popularity_percentage    146030\n",
            "Number_of_Ads                       0\n",
            "Episode_Sentiment                   0\n",
            "Listening_Time_minutes              0\n",
            "dtype: int64\n"
          ]
        },
        {
          "output_type": "execute_result",
          "data": {
            "text/plain": [
              "            id   Podcast_Name Episode_Title  Episode_Length_minutes  Genre  \\\n",
              "38          38  Music Matters    Episode 32               86.840000  Music   \n",
              "64          64  Music Matters    Episode 69               81.130000  Music   \n",
              "85          85  Music Matters    Episode 23                9.730000  Music   \n",
              "127        127  Music Matters    Episode 59               64.570000  Music   \n",
              "209        209  Music Matters    Episode 21               85.180000  Music   \n",
              "...        ...            ...           ...                     ...    ...   \n",
              "745564  745564  Music Matters    Episode 45               65.192867  Music   \n",
              "745642  745642  Music Matters    Episode 69               65.192867  Music   \n",
              "748086  748086  Music Matters    Episode 85               65.192867  Music   \n",
              "749364  749364  Music Matters    Episode 34               65.192867  Music   \n",
              "749812  749812  Music Matters    Episode 48               65.192867  Music   \n",
              "\n",
              "        Host_Popularity_percentage Publication_Day Publication_Time  \\\n",
              "38                           86.65        Thursday          Morning   \n",
              "64                           66.37       Wednesday          Evening   \n",
              "85                           31.68         Tuesday          Morning   \n",
              "127                          84.75        Thursday          Morning   \n",
              "209                          85.61       Wednesday          Evening   \n",
              "...                            ...             ...              ...   \n",
              "745564                       71.76         Tuesday            Night   \n",
              "745642                       23.22          Sunday        Afternoon   \n",
              "748086                       41.10        Saturday        Afternoon   \n",
              "749364                       76.19          Friday          Morning   \n",
              "749812                       37.21        Saturday          Evening   \n",
              "\n",
              "        Guest_Popularity_percentage  Number_of_Ads Episode_Sentiment  \\\n",
              "38                            28.27            1.0           Neutral   \n",
              "64                            97.43            1.0          Negative   \n",
              "85                            52.06            1.0           Neutral   \n",
              "127                             NaN            1.0           Neutral   \n",
              "209                           96.45            1.0           Neutral   \n",
              "...                             ...            ...               ...   \n",
              "745564                        33.56            2.0          Negative   \n",
              "745642                        18.90            0.0          Negative   \n",
              "748086                        79.40            0.0          Positive   \n",
              "749364                        99.08            3.0          Positive   \n",
              "749812                         1.51            1.0          Positive   \n",
              "\n",
              "        Listening_Time_minutes  \n",
              "38                    81.49839  \n",
              "64                    55.97010  \n",
              "85                     6.01368  \n",
              "127                   53.49181  \n",
              "209                   73.71758  \n",
              "...                        ...  \n",
              "745564                97.47198  \n",
              "745642                66.61818  \n",
              "748086                91.31101  \n",
              "749364                51.55510  \n",
              "749812                 0.00000  \n",
              "\n",
              "[12652 rows x 12 columns]"
            ],
            "text/html": [
              "\n",
              "  <div id=\"df-46d1e311-962e-495c-827f-f47ed780cfba\" class=\"colab-df-container\">\n",
              "    <div>\n",
              "<style scoped>\n",
              "    .dataframe tbody tr th:only-of-type {\n",
              "        vertical-align: middle;\n",
              "    }\n",
              "\n",
              "    .dataframe tbody tr th {\n",
              "        vertical-align: top;\n",
              "    }\n",
              "\n",
              "    .dataframe thead th {\n",
              "        text-align: right;\n",
              "    }\n",
              "</style>\n",
              "<table border=\"1\" class=\"dataframe\">\n",
              "  <thead>\n",
              "    <tr style=\"text-align: right;\">\n",
              "      <th></th>\n",
              "      <th>id</th>\n",
              "      <th>Podcast_Name</th>\n",
              "      <th>Episode_Title</th>\n",
              "      <th>Episode_Length_minutes</th>\n",
              "      <th>Genre</th>\n",
              "      <th>Host_Popularity_percentage</th>\n",
              "      <th>Publication_Day</th>\n",
              "      <th>Publication_Time</th>\n",
              "      <th>Guest_Popularity_percentage</th>\n",
              "      <th>Number_of_Ads</th>\n",
              "      <th>Episode_Sentiment</th>\n",
              "      <th>Listening_Time_minutes</th>\n",
              "    </tr>\n",
              "  </thead>\n",
              "  <tbody>\n",
              "    <tr>\n",
              "      <th>38</th>\n",
              "      <td>38</td>\n",
              "      <td>Music Matters</td>\n",
              "      <td>Episode 32</td>\n",
              "      <td>86.840000</td>\n",
              "      <td>Music</td>\n",
              "      <td>86.65</td>\n",
              "      <td>Thursday</td>\n",
              "      <td>Morning</td>\n",
              "      <td>28.27</td>\n",
              "      <td>1.0</td>\n",
              "      <td>Neutral</td>\n",
              "      <td>81.49839</td>\n",
              "    </tr>\n",
              "    <tr>\n",
              "      <th>64</th>\n",
              "      <td>64</td>\n",
              "      <td>Music Matters</td>\n",
              "      <td>Episode 69</td>\n",
              "      <td>81.130000</td>\n",
              "      <td>Music</td>\n",
              "      <td>66.37</td>\n",
              "      <td>Wednesday</td>\n",
              "      <td>Evening</td>\n",
              "      <td>97.43</td>\n",
              "      <td>1.0</td>\n",
              "      <td>Negative</td>\n",
              "      <td>55.97010</td>\n",
              "    </tr>\n",
              "    <tr>\n",
              "      <th>85</th>\n",
              "      <td>85</td>\n",
              "      <td>Music Matters</td>\n",
              "      <td>Episode 23</td>\n",
              "      <td>9.730000</td>\n",
              "      <td>Music</td>\n",
              "      <td>31.68</td>\n",
              "      <td>Tuesday</td>\n",
              "      <td>Morning</td>\n",
              "      <td>52.06</td>\n",
              "      <td>1.0</td>\n",
              "      <td>Neutral</td>\n",
              "      <td>6.01368</td>\n",
              "    </tr>\n",
              "    <tr>\n",
              "      <th>127</th>\n",
              "      <td>127</td>\n",
              "      <td>Music Matters</td>\n",
              "      <td>Episode 59</td>\n",
              "      <td>64.570000</td>\n",
              "      <td>Music</td>\n",
              "      <td>84.75</td>\n",
              "      <td>Thursday</td>\n",
              "      <td>Morning</td>\n",
              "      <td>NaN</td>\n",
              "      <td>1.0</td>\n",
              "      <td>Neutral</td>\n",
              "      <td>53.49181</td>\n",
              "    </tr>\n",
              "    <tr>\n",
              "      <th>209</th>\n",
              "      <td>209</td>\n",
              "      <td>Music Matters</td>\n",
              "      <td>Episode 21</td>\n",
              "      <td>85.180000</td>\n",
              "      <td>Music</td>\n",
              "      <td>85.61</td>\n",
              "      <td>Wednesday</td>\n",
              "      <td>Evening</td>\n",
              "      <td>96.45</td>\n",
              "      <td>1.0</td>\n",
              "      <td>Neutral</td>\n",
              "      <td>73.71758</td>\n",
              "    </tr>\n",
              "    <tr>\n",
              "      <th>...</th>\n",
              "      <td>...</td>\n",
              "      <td>...</td>\n",
              "      <td>...</td>\n",
              "      <td>...</td>\n",
              "      <td>...</td>\n",
              "      <td>...</td>\n",
              "      <td>...</td>\n",
              "      <td>...</td>\n",
              "      <td>...</td>\n",
              "      <td>...</td>\n",
              "      <td>...</td>\n",
              "      <td>...</td>\n",
              "    </tr>\n",
              "    <tr>\n",
              "      <th>745564</th>\n",
              "      <td>745564</td>\n",
              "      <td>Music Matters</td>\n",
              "      <td>Episode 45</td>\n",
              "      <td>65.192867</td>\n",
              "      <td>Music</td>\n",
              "      <td>71.76</td>\n",
              "      <td>Tuesday</td>\n",
              "      <td>Night</td>\n",
              "      <td>33.56</td>\n",
              "      <td>2.0</td>\n",
              "      <td>Negative</td>\n",
              "      <td>97.47198</td>\n",
              "    </tr>\n",
              "    <tr>\n",
              "      <th>745642</th>\n",
              "      <td>745642</td>\n",
              "      <td>Music Matters</td>\n",
              "      <td>Episode 69</td>\n",
              "      <td>65.192867</td>\n",
              "      <td>Music</td>\n",
              "      <td>23.22</td>\n",
              "      <td>Sunday</td>\n",
              "      <td>Afternoon</td>\n",
              "      <td>18.90</td>\n",
              "      <td>0.0</td>\n",
              "      <td>Negative</td>\n",
              "      <td>66.61818</td>\n",
              "    </tr>\n",
              "    <tr>\n",
              "      <th>748086</th>\n",
              "      <td>748086</td>\n",
              "      <td>Music Matters</td>\n",
              "      <td>Episode 85</td>\n",
              "      <td>65.192867</td>\n",
              "      <td>Music</td>\n",
              "      <td>41.10</td>\n",
              "      <td>Saturday</td>\n",
              "      <td>Afternoon</td>\n",
              "      <td>79.40</td>\n",
              "      <td>0.0</td>\n",
              "      <td>Positive</td>\n",
              "      <td>91.31101</td>\n",
              "    </tr>\n",
              "    <tr>\n",
              "      <th>749364</th>\n",
              "      <td>749364</td>\n",
              "      <td>Music Matters</td>\n",
              "      <td>Episode 34</td>\n",
              "      <td>65.192867</td>\n",
              "      <td>Music</td>\n",
              "      <td>76.19</td>\n",
              "      <td>Friday</td>\n",
              "      <td>Morning</td>\n",
              "      <td>99.08</td>\n",
              "      <td>3.0</td>\n",
              "      <td>Positive</td>\n",
              "      <td>51.55510</td>\n",
              "    </tr>\n",
              "    <tr>\n",
              "      <th>749812</th>\n",
              "      <td>749812</td>\n",
              "      <td>Music Matters</td>\n",
              "      <td>Episode 48</td>\n",
              "      <td>65.192867</td>\n",
              "      <td>Music</td>\n",
              "      <td>37.21</td>\n",
              "      <td>Saturday</td>\n",
              "      <td>Evening</td>\n",
              "      <td>1.51</td>\n",
              "      <td>1.0</td>\n",
              "      <td>Positive</td>\n",
              "      <td>0.00000</td>\n",
              "    </tr>\n",
              "  </tbody>\n",
              "</table>\n",
              "<p>12652 rows × 12 columns</p>\n",
              "</div>\n",
              "    <div class=\"colab-df-buttons\">\n",
              "\n",
              "  <div class=\"colab-df-container\">\n",
              "    <button class=\"colab-df-convert\" onclick=\"convertToInteractive('df-46d1e311-962e-495c-827f-f47ed780cfba')\"\n",
              "            title=\"Convert this dataframe to an interactive table.\"\n",
              "            style=\"display:none;\">\n",
              "\n",
              "  <svg xmlns=\"http://www.w3.org/2000/svg\" height=\"24px\" viewBox=\"0 -960 960 960\">\n",
              "    <path d=\"M120-120v-720h720v720H120Zm60-500h600v-160H180v160Zm220 220h160v-160H400v160Zm0 220h160v-160H400v160ZM180-400h160v-160H180v160Zm440 0h160v-160H620v160ZM180-180h160v-160H180v160Zm440 0h160v-160H620v160Z\"/>\n",
              "  </svg>\n",
              "    </button>\n",
              "\n",
              "  <style>\n",
              "    .colab-df-container {\n",
              "      display:flex;\n",
              "      gap: 12px;\n",
              "    }\n",
              "\n",
              "    .colab-df-convert {\n",
              "      background-color: #E8F0FE;\n",
              "      border: none;\n",
              "      border-radius: 50%;\n",
              "      cursor: pointer;\n",
              "      display: none;\n",
              "      fill: #1967D2;\n",
              "      height: 32px;\n",
              "      padding: 0 0 0 0;\n",
              "      width: 32px;\n",
              "    }\n",
              "\n",
              "    .colab-df-convert:hover {\n",
              "      background-color: #E2EBFA;\n",
              "      box-shadow: 0px 1px 2px rgba(60, 64, 67, 0.3), 0px 1px 3px 1px rgba(60, 64, 67, 0.15);\n",
              "      fill: #174EA6;\n",
              "    }\n",
              "\n",
              "    .colab-df-buttons div {\n",
              "      margin-bottom: 4px;\n",
              "    }\n",
              "\n",
              "    [theme=dark] .colab-df-convert {\n",
              "      background-color: #3B4455;\n",
              "      fill: #D2E3FC;\n",
              "    }\n",
              "\n",
              "    [theme=dark] .colab-df-convert:hover {\n",
              "      background-color: #434B5C;\n",
              "      box-shadow: 0px 1px 3px 1px rgba(0, 0, 0, 0.15);\n",
              "      filter: drop-shadow(0px 1px 2px rgba(0, 0, 0, 0.3));\n",
              "      fill: #FFFFFF;\n",
              "    }\n",
              "  </style>\n",
              "\n",
              "    <script>\n",
              "      const buttonEl =\n",
              "        document.querySelector('#df-46d1e311-962e-495c-827f-f47ed780cfba button.colab-df-convert');\n",
              "      buttonEl.style.display =\n",
              "        google.colab.kernel.accessAllowed ? 'block' : 'none';\n",
              "\n",
              "      async function convertToInteractive(key) {\n",
              "        const element = document.querySelector('#df-46d1e311-962e-495c-827f-f47ed780cfba');\n",
              "        const dataTable =\n",
              "          await google.colab.kernel.invokeFunction('convertToInteractive',\n",
              "                                                    [key], {});\n",
              "        if (!dataTable) return;\n",
              "\n",
              "        const docLinkHtml = 'Like what you see? Visit the ' +\n",
              "          '<a target=\"_blank\" href=https://colab.research.google.com/notebooks/data_table.ipynb>data table notebook</a>'\n",
              "          + ' to learn more about interactive tables.';\n",
              "        element.innerHTML = '';\n",
              "        dataTable['output_type'] = 'display_data';\n",
              "        await google.colab.output.renderOutput(dataTable, element);\n",
              "        const docLink = document.createElement('div');\n",
              "        docLink.innerHTML = docLinkHtml;\n",
              "        element.appendChild(docLink);\n",
              "      }\n",
              "    </script>\n",
              "  </div>\n",
              "\n",
              "\n",
              "<div id=\"df-041f31f5-745e-48ff-888d-4ddd582eb2cb\">\n",
              "  <button class=\"colab-df-quickchart\" onclick=\"quickchart('df-041f31f5-745e-48ff-888d-4ddd582eb2cb')\"\n",
              "            title=\"Suggest charts\"\n",
              "            style=\"display:none;\">\n",
              "\n",
              "<svg xmlns=\"http://www.w3.org/2000/svg\" height=\"24px\"viewBox=\"0 0 24 24\"\n",
              "     width=\"24px\">\n",
              "    <g>\n",
              "        <path d=\"M19 3H5c-1.1 0-2 .9-2 2v14c0 1.1.9 2 2 2h14c1.1 0 2-.9 2-2V5c0-1.1-.9-2-2-2zM9 17H7v-7h2v7zm4 0h-2V7h2v10zm4 0h-2v-4h2v4z\"/>\n",
              "    </g>\n",
              "</svg>\n",
              "  </button>\n",
              "\n",
              "<style>\n",
              "  .colab-df-quickchart {\n",
              "      --bg-color: #E8F0FE;\n",
              "      --fill-color: #1967D2;\n",
              "      --hover-bg-color: #E2EBFA;\n",
              "      --hover-fill-color: #174EA6;\n",
              "      --disabled-fill-color: #AAA;\n",
              "      --disabled-bg-color: #DDD;\n",
              "  }\n",
              "\n",
              "  [theme=dark] .colab-df-quickchart {\n",
              "      --bg-color: #3B4455;\n",
              "      --fill-color: #D2E3FC;\n",
              "      --hover-bg-color: #434B5C;\n",
              "      --hover-fill-color: #FFFFFF;\n",
              "      --disabled-bg-color: #3B4455;\n",
              "      --disabled-fill-color: #666;\n",
              "  }\n",
              "\n",
              "  .colab-df-quickchart {\n",
              "    background-color: var(--bg-color);\n",
              "    border: none;\n",
              "    border-radius: 50%;\n",
              "    cursor: pointer;\n",
              "    display: none;\n",
              "    fill: var(--fill-color);\n",
              "    height: 32px;\n",
              "    padding: 0;\n",
              "    width: 32px;\n",
              "  }\n",
              "\n",
              "  .colab-df-quickchart:hover {\n",
              "    background-color: var(--hover-bg-color);\n",
              "    box-shadow: 0 1px 2px rgba(60, 64, 67, 0.3), 0 1px 3px 1px rgba(60, 64, 67, 0.15);\n",
              "    fill: var(--button-hover-fill-color);\n",
              "  }\n",
              "\n",
              "  .colab-df-quickchart-complete:disabled,\n",
              "  .colab-df-quickchart-complete:disabled:hover {\n",
              "    background-color: var(--disabled-bg-color);\n",
              "    fill: var(--disabled-fill-color);\n",
              "    box-shadow: none;\n",
              "  }\n",
              "\n",
              "  .colab-df-spinner {\n",
              "    border: 2px solid var(--fill-color);\n",
              "    border-color: transparent;\n",
              "    border-bottom-color: var(--fill-color);\n",
              "    animation:\n",
              "      spin 1s steps(1) infinite;\n",
              "  }\n",
              "\n",
              "  @keyframes spin {\n",
              "    0% {\n",
              "      border-color: transparent;\n",
              "      border-bottom-color: var(--fill-color);\n",
              "      border-left-color: var(--fill-color);\n",
              "    }\n",
              "    20% {\n",
              "      border-color: transparent;\n",
              "      border-left-color: var(--fill-color);\n",
              "      border-top-color: var(--fill-color);\n",
              "    }\n",
              "    30% {\n",
              "      border-color: transparent;\n",
              "      border-left-color: var(--fill-color);\n",
              "      border-top-color: var(--fill-color);\n",
              "      border-right-color: var(--fill-color);\n",
              "    }\n",
              "    40% {\n",
              "      border-color: transparent;\n",
              "      border-right-color: var(--fill-color);\n",
              "      border-top-color: var(--fill-color);\n",
              "    }\n",
              "    60% {\n",
              "      border-color: transparent;\n",
              "      border-right-color: var(--fill-color);\n",
              "    }\n",
              "    80% {\n",
              "      border-color: transparent;\n",
              "      border-right-color: var(--fill-color);\n",
              "      border-bottom-color: var(--fill-color);\n",
              "    }\n",
              "    90% {\n",
              "      border-color: transparent;\n",
              "      border-bottom-color: var(--fill-color);\n",
              "    }\n",
              "  }\n",
              "</style>\n",
              "\n",
              "  <script>\n",
              "    async function quickchart(key) {\n",
              "      const quickchartButtonEl =\n",
              "        document.querySelector('#' + key + ' button');\n",
              "      quickchartButtonEl.disabled = true;  // To prevent multiple clicks.\n",
              "      quickchartButtonEl.classList.add('colab-df-spinner');\n",
              "      try {\n",
              "        const charts = await google.colab.kernel.invokeFunction(\n",
              "            'suggestCharts', [key], {});\n",
              "      } catch (error) {\n",
              "        console.error('Error during call to suggestCharts:', error);\n",
              "      }\n",
              "      quickchartButtonEl.classList.remove('colab-df-spinner');\n",
              "      quickchartButtonEl.classList.add('colab-df-quickchart-complete');\n",
              "    }\n",
              "    (() => {\n",
              "      let quickchartButtonEl =\n",
              "        document.querySelector('#df-041f31f5-745e-48ff-888d-4ddd582eb2cb button');\n",
              "      quickchartButtonEl.style.display =\n",
              "        google.colab.kernel.accessAllowed ? 'block' : 'none';\n",
              "    })();\n",
              "  </script>\n",
              "</div>\n",
              "\n",
              "    </div>\n",
              "  </div>\n"
            ],
            "application/vnd.google.colaboratory.intrinsic+json": {
              "type": "dataframe",
              "summary": "{\n  \"name\": \"df\",\n  \"rows\": 12652,\n  \"fields\": [\n    {\n      \"column\": \"id\",\n      \"properties\": {\n        \"dtype\": \"number\",\n        \"std\": 216206,\n        \"min\": 9,\n        \"max\": 749988,\n        \"num_unique_values\": 12652,\n        \"samples\": [\n          322793,\n          489441,\n          632158\n        ],\n        \"semantic_type\": \"\",\n        \"description\": \"\"\n      }\n    },\n    {\n      \"column\": \"Podcast_Name\",\n      \"properties\": {\n        \"dtype\": \"category\",\n        \"num_unique_values\": 1,\n        \"samples\": [\n          \"Music Matters\"\n        ],\n        \"semantic_type\": \"\",\n        \"description\": \"\"\n      }\n    },\n    {\n      \"column\": \"Episode_Title\",\n      \"properties\": {\n        \"dtype\": \"category\",\n        \"num_unique_values\": 100,\n        \"samples\": [\n          \"Episode 58\"\n        ],\n        \"semantic_type\": \"\",\n        \"description\": \"\"\n      }\n    },\n    {\n      \"column\": \"Episode_Length_minutes\",\n      \"properties\": {\n        \"dtype\": \"number\",\n        \"std\": 31.514123783956215,\n        \"min\": 5.0,\n        \"max\": 119.95,\n        \"num_unique_values\": 5808,\n        \"samples\": [\n          89.67\n        ],\n        \"semantic_type\": \"\",\n        \"description\": \"\"\n      }\n    },\n    {\n      \"column\": \"Genre\",\n      \"properties\": {\n        \"dtype\": \"category\",\n        \"num_unique_values\": 3,\n        \"samples\": [\n          \"Music\"\n        ],\n        \"semantic_type\": \"\",\n        \"description\": \"\"\n      }\n    },\n    {\n      \"column\": \"Host_Popularity_percentage\",\n      \"properties\": {\n        \"dtype\": \"number\",\n        \"std\": 22.641318435611236,\n        \"min\": 20.01,\n        \"max\": 99.99,\n        \"num_unique_values\": 5485,\n        \"samples\": [\n          47.6\n        ],\n        \"semantic_type\": \"\",\n        \"description\": \"\"\n      }\n    },\n    {\n      \"column\": \"Publication_Day\",\n      \"properties\": {\n        \"dtype\": \"category\",\n        \"num_unique_values\": 7,\n        \"samples\": [\n          \"Thursday\"\n        ],\n        \"semantic_type\": \"\",\n        \"description\": \"\"\n      }\n    },\n    {\n      \"column\": \"Publication_Time\",\n      \"properties\": {\n        \"dtype\": \"category\",\n        \"num_unique_values\": 4,\n        \"samples\": [\n          \"Evening\"\n        ],\n        \"semantic_type\": \"\",\n        \"description\": \"\"\n      }\n    },\n    {\n      \"column\": \"Guest_Popularity_percentage\",\n      \"properties\": {\n        \"dtype\": \"number\",\n        \"std\": 28.202930088233288,\n        \"min\": 0.01,\n        \"max\": 107.58,\n        \"num_unique_values\": 5490,\n        \"samples\": [\n          27.73\n        ],\n        \"semantic_type\": \"\",\n        \"description\": \"\"\n      }\n    },\n    {\n      \"column\": \"Number_of_Ads\",\n      \"properties\": {\n        \"dtype\": \"number\",\n        \"std\": 1.097067174360251,\n        \"min\": 0.0,\n        \"max\": 3.0,\n        \"num_unique_values\": 4,\n        \"samples\": [\n          2.0\n        ],\n        \"semantic_type\": \"\",\n        \"description\": \"\"\n      }\n    },\n    {\n      \"column\": \"Episode_Sentiment\",\n      \"properties\": {\n        \"dtype\": \"category\",\n        \"num_unique_values\": 3,\n        \"samples\": [\n          \"Neutral\"\n        ],\n        \"semantic_type\": \"\",\n        \"description\": \"\"\n      }\n    },\n    {\n      \"column\": \"Listening_Time_minutes\",\n      \"properties\": {\n        \"dtype\": \"number\",\n        \"std\": 28.274913656629558,\n        \"min\": 0.0,\n        \"max\": 119.66,\n        \"num_unique_values\": 8888,\n        \"samples\": [\n          46.44844\n        ],\n        \"semantic_type\": \"\",\n        \"description\": \"\"\n      }\n    }\n  ]\n}"
            }
          },
          "metadata": {},
          "execution_count": 198
        }
      ]
    },
    {
      "cell_type": "code",
      "source": [
        "pop_rating_gener = df.groupby('Genre')['Guest_Popularity_percentage'].mean().reset_index(name = 'Mean_Pop')\n",
        "rating_map = pop_rating_gener.set_index('Genre')['Mean_Pop'].to_dict()\n",
        "rating_map"
      ],
      "metadata": {
        "colab": {
          "base_uri": "https://localhost:8080/"
        },
        "id": "QrEQMvyOWIi6",
        "outputId": "7297b880-9540-4eed-886b-9aa0fd5aadff"
      },
      "execution_count": null,
      "outputs": [
        {
          "output_type": "execute_result",
          "data": {
            "text/plain": [
              "{'Business': 51.22199563894205,\n",
              " 'Comedy': 53.36126372340106,\n",
              " 'Education': 52.3152052570545,\n",
              " 'Health': 51.441919825348535,\n",
              " 'Lifestyle': 51.757591048236094,\n",
              " 'Music': 52.052459037467706,\n",
              " 'News': 52.43683772161711,\n",
              " 'Sports': 53.076813456170484,\n",
              " 'Technology': 51.83673721373768,\n",
              " 'True Crime': 52.71503734356076}"
            ]
          },
          "metadata": {},
          "execution_count": 199
        }
      ]
    },
    {
      "cell_type": "code",
      "source": [
        "df.loc[df['Guest_Popularity_percentage'].isna(),'Guest_Popularity_percentage'] = (df.loc[df['Guest_Popularity_percentage'].isna(),'Genre'].map(rating_map))\n",
        "print(df.isna().sum())"
      ],
      "metadata": {
        "colab": {
          "base_uri": "https://localhost:8080/"
        },
        "id": "Blx6uNpGXVp-",
        "outputId": "c3a60c21-b671-4453-e91a-a07baf6e22b8"
      },
      "execution_count": null,
      "outputs": [
        {
          "output_type": "stream",
          "name": "stdout",
          "text": [
            "id                             0\n",
            "Podcast_Name                   0\n",
            "Episode_Title                  0\n",
            "Episode_Length_minutes         0\n",
            "Genre                          0\n",
            "Host_Popularity_percentage     0\n",
            "Publication_Day                0\n",
            "Publication_Time               0\n",
            "Guest_Popularity_percentage    0\n",
            "Number_of_Ads                  0\n",
            "Episode_Sentiment              0\n",
            "Listening_Time_minutes         0\n",
            "dtype: int64\n"
          ]
        }
      ]
    },
    {
      "cell_type": "code",
      "source": [],
      "metadata": {
        "id": "Lgwa1frdZyzX"
      },
      "execution_count": null,
      "outputs": []
    },
    {
      "cell_type": "code",
      "source": [],
      "metadata": {
        "id": "JooUYEprZ73m"
      },
      "execution_count": null,
      "outputs": []
    }
  ]
}