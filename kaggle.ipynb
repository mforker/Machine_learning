{
  "nbformat": 4,
  "nbformat_minor": 0,
  "metadata": {
    "colab": {
      "provenance": [],
      "authorship_tag": "ABX9TyMvhj4DGV6pxzYo5rTMLBF7",
      "include_colab_link": true
    },
    "kernelspec": {
      "name": "python3",
      "display_name": "Python 3"
    },
    "language_info": {
      "name": "python"
    }
  },
  "cells": [
    {
      "cell_type": "markdown",
      "metadata": {
        "id": "view-in-github",
        "colab_type": "text"
      },
      "source": [
        "<a href=\"https://colab.research.google.com/github/mforker/kaggle/blob/main/kaggle.ipynb\" target=\"_parent\"><img src=\"https://colab.research.google.com/assets/colab-badge.svg\" alt=\"Open In Colab\"/></a>"
      ]
    },
    {
      "cell_type": "code",
      "execution_count": null,
      "metadata": {
        "id": "z3sLWAMxIKDB"
      },
      "outputs": [],
      "source": [
        "import pandas as pd\n",
        "import numpy as np\n",
        "import matplotlib.pyplot as plt\n",
        "import seaborn as sns\n",
        "from xgboost import XGBRegressor\n",
        "from sklearn.ensemble import RandomForestRegressor, GradientBoostingRegressor\n",
        "from sklearn.model_selection import train_test_split\n",
        "from sklearn.preprocessing import LabelEncoder, MinMaxScaler\n",
        "from sklearn.metrics import mean_absolute_error, mean_squared_error, r2_score\n"
      ]
    },
    {
      "cell_type": "code",
      "source": [
        "df = pd.read_csv('train.csv')\n",
        "df_test = pd.read_csv('test.csv')\n",
        "\n",
        "print(df.info())\n",
        "print(df_test.info())"
      ],
      "metadata": {
        "colab": {
          "base_uri": "https://localhost:8080/"
        },
        "id": "kN908G0c2Sru",
        "outputId": "51d5b050-a39e-418e-e6e6-b364bc621068"
      },
      "execution_count": null,
      "outputs": [
        {
          "output_type": "stream",
          "name": "stdout",
          "text": [
            "<class 'pandas.core.frame.DataFrame'>\n",
            "RangeIndex: 750000 entries, 0 to 749999\n",
            "Data columns (total 12 columns):\n",
            " #   Column                       Non-Null Count   Dtype  \n",
            "---  ------                       --------------   -----  \n",
            " 0   id                           750000 non-null  int64  \n",
            " 1   Podcast_Name                 750000 non-null  object \n",
            " 2   Episode_Title                750000 non-null  object \n",
            " 3   Episode_Length_minutes       662907 non-null  float64\n",
            " 4   Genre                        750000 non-null  object \n",
            " 5   Host_Popularity_percentage   750000 non-null  float64\n",
            " 6   Publication_Day              750000 non-null  object \n",
            " 7   Publication_Time             750000 non-null  object \n",
            " 8   Guest_Popularity_percentage  603970 non-null  float64\n",
            " 9   Number_of_Ads                749999 non-null  float64\n",
            " 10  Episode_Sentiment            750000 non-null  object \n",
            " 11  Listening_Time_minutes       750000 non-null  float64\n",
            "dtypes: float64(5), int64(1), object(6)\n",
            "memory usage: 68.7+ MB\n",
            "None\n",
            "<class 'pandas.core.frame.DataFrame'>\n",
            "RangeIndex: 250000 entries, 0 to 249999\n",
            "Data columns (total 11 columns):\n",
            " #   Column                       Non-Null Count   Dtype  \n",
            "---  ------                       --------------   -----  \n",
            " 0   id                           250000 non-null  int64  \n",
            " 1   Podcast_Name                 250000 non-null  object \n",
            " 2   Episode_Title                250000 non-null  object \n",
            " 3   Episode_Length_minutes       221264 non-null  float64\n",
            " 4   Genre                        250000 non-null  object \n",
            " 5   Host_Popularity_percentage   250000 non-null  float64\n",
            " 6   Publication_Day              250000 non-null  object \n",
            " 7   Publication_Time             250000 non-null  object \n",
            " 8   Guest_Popularity_percentage  201168 non-null  float64\n",
            " 9   Number_of_Ads                250000 non-null  float64\n",
            " 10  Episode_Sentiment            250000 non-null  object \n",
            "dtypes: float64(4), int64(1), object(6)\n",
            "memory usage: 21.0+ MB\n",
            "None\n"
          ]
        }
      ]
    },
    {
      "cell_type": "code",
      "source": [
        "print(df.shape)\n",
        "print(df_test.shape)"
      ],
      "metadata": {
        "colab": {
          "base_uri": "https://localhost:8080/"
        },
        "id": "mXGn1dMLPRch",
        "outputId": "d749c2fe-74f0-4da7-d60e-73956cfb6dff"
      },
      "execution_count": null,
      "outputs": [
        {
          "output_type": "stream",
          "name": "stdout",
          "text": [
            "(750000, 12)\n",
            "(250000, 11)\n"
          ]
        }
      ]
    },
    {
      "cell_type": "code",
      "source": [
        "df = df.drop_duplicates()\n",
        "df_test = df_test.drop_duplicates()\n",
        "print(df.shape)\n",
        "print(df_test.shape)"
      ],
      "metadata": {
        "colab": {
          "base_uri": "https://localhost:8080/"
        },
        "id": "9qH3W4-F3DCh",
        "outputId": "c181f8be-0d54-47f8-87f3-aa490593439d"
      },
      "execution_count": null,
      "outputs": [
        {
          "output_type": "stream",
          "name": "stdout",
          "text": [
            "(750000, 12)\n",
            "(250000, 11)\n"
          ]
        }
      ]
    },
    {
      "cell_type": "code",
      "source": [
        "print('--------------train data----------')\n",
        "print(df.isna().sum())\n",
        "print('--------------test data------------')\n",
        "print(df_test.isna().sum())"
      ],
      "metadata": {
        "colab": {
          "base_uri": "https://localhost:8080/"
        },
        "id": "-s5JDWUMPBVs",
        "outputId": "5e65a1ce-9716-4e32-be0d-7bbf5aa945a5"
      },
      "execution_count": null,
      "outputs": [
        {
          "output_type": "stream",
          "name": "stdout",
          "text": [
            "--------------train data----------\n",
            "id                                  0\n",
            "Podcast_Name                        0\n",
            "Episode_Title                       0\n",
            "Episode_Length_minutes          87093\n",
            "Genre                               0\n",
            "Host_Popularity_percentage          0\n",
            "Publication_Day                     0\n",
            "Publication_Time                    0\n",
            "Guest_Popularity_percentage    146030\n",
            "Number_of_Ads                       1\n",
            "Episode_Sentiment                   0\n",
            "Listening_Time_minutes              0\n",
            "dtype: int64\n",
            "--------------test data------------\n",
            "id                                 0\n",
            "Podcast_Name                       0\n",
            "Episode_Title                      0\n",
            "Episode_Length_minutes         28736\n",
            "Genre                              0\n",
            "Host_Popularity_percentage         0\n",
            "Publication_Day                    0\n",
            "Publication_Time                   0\n",
            "Guest_Popularity_percentage    48832\n",
            "Number_of_Ads                      0\n",
            "Episode_Sentiment                  0\n",
            "dtype: int64\n"
          ]
        }
      ]
    },
    {
      "cell_type": "code",
      "source": [
        "df = df[~df['Number_of_Ads'].isna()]\n",
        "print('train data shape:',df.shape)\n",
        "\n",
        "df_test = df_test[~df_test['Number_of_Ads'].isna()]\n",
        "print('test data shape:',df_test.shape)"
      ],
      "metadata": {
        "colab": {
          "base_uri": "https://localhost:8080/"
        },
        "id": "ZniCCbK0PsXm",
        "outputId": "e74d4550-d67b-4016-8b82-6c91c8739d55"
      },
      "execution_count": null,
      "outputs": [
        {
          "output_type": "stream",
          "name": "stdout",
          "text": [
            "train data shape: (749999, 12)\n",
            "test data shape: (250000, 11)\n"
          ]
        }
      ]
    },
    {
      "cell_type": "code",
      "source": [
        "# # rough\n",
        "# for col in df_test.columns:\n",
        "#     if df_test[col].dtype == 'int' or df_test[col].dtype == 'float':\n",
        "#       sns.boxplot(x = df_test[col])\n",
        "#       plt.xlabel(col)\n",
        "#       plt.title(f'Boxplot of test_data:{col}')\n",
        "#       plt.show()\n",
        "#"
      ],
      "metadata": {
        "id": "jUyH2lFnF9NO"
      },
      "execution_count": null,
      "outputs": []
    },
    {
      "cell_type": "code",
      "source": [
        "#plotting outliers for train data\n",
        "sns.boxplot(x = df['Episode_Length_minutes'])\n",
        "plt.xlabel('Episode Length (Minutes)')\n",
        "plt.title('Boxplot of Episode Lengths')\n",
        "plt.show()"
      ],
      "metadata": {
        "colab": {
          "base_uri": "https://localhost:8080/",
          "height": 472
        },
        "id": "-88II55rYHf5",
        "outputId": "50e93832-ef59-43d5-b4bf-5b0539386a4e"
      },
      "execution_count": null,
      "outputs": [
        {
          "output_type": "display_data",
          "data": {
            "text/plain": [
              "<Figure size 640x480 with 1 Axes>"
            ],
            "image/png": "[encoded data removed]"
          },
          "metadata": {}
        }
      ]
    },
    {
      "cell_type": "code",
      "source": [
        "#plotting outliers for train data\n",
        "sns.boxplot(x = df['Number_of_Ads'])\n",
        "plt.xlabel('Number_of_Ads')\n",
        "plt.title('Boxplot of Number_of_Ads')\n",
        "plt.show()"
      ],
      "metadata": {
        "colab": {
          "base_uri": "https://localhost:8080/",
          "height": 472
        },
        "id": "sZYCwXL_ZBGk",
        "outputId": "1826b579-d80b-4c7b-bb56-2c68c42da089"
      },
      "execution_count": null,
      "outputs": [
        {
          "output_type": "display_data",
          "data": {
            "text/plain": [
              "<Figure size 640x480 with 1 Axes>"
            ],
            "image/png": "[encoded data removed]"
          },
          "metadata": {}
        }
      ]
    },
    {
      "cell_type": "code",
      "source": [
        "# removing outliers for train data\n",
        "q1 = df['Episode_Length_minutes'].quantile(0.25)\n",
        "q3 = df['Episode_Length_minutes'].quantile(0.75)\n",
        "iqr = q3 - q1\n",
        "lower_bound = q1 - 1.5 * iqr\n",
        "upper_bound = q3 + 1.5 * iqr\n",
        "df_nan = df[df['Episode_Length_minutes'].isna()]\n",
        "df = df[~df['Episode_Length_minutes'].isna()]\n",
        "df = df[(df['Episode_Length_minutes'] >= lower_bound) & (df['Episode_Length_minutes'] <= upper_bound)]\n",
        "df = pd.concat([df,df_nan])\n",
        "print(df.shape)"
      ],
      "metadata": {
        "colab": {
          "base_uri": "https://localhost:8080/"
        },
        "id": "-AFbLYmbG74c",
        "outputId": "93fb11e2-3c17-4b96-b0cc-3c9831847681"
      },
      "execution_count": null,
      "outputs": [
        {
          "output_type": "stream",
          "name": "stdout",
          "text": [
            "(749998, 12)\n"
          ]
        }
      ]
    },
    {
      "cell_type": "code",
      "source": [
        "# removing outliers for train data\n",
        "q1 = df['Number_of_Ads'].quantile(0.25)\n",
        "q3 = df['Number_of_Ads'].quantile(0.75)\n",
        "iqr = q3 - q1\n",
        "lower_bound = q1 - 1.5 * iqr\n",
        "upper_bound = q3 + 1.5 * iqr\n",
        "df_nan = df[df['Number_of_Ads'].isna()]\n",
        "df = df[~df['Number_of_Ads'].isna()]\n",
        "df = df[(df['Number_of_Ads'] >= lower_bound) & (df['Number_of_Ads'] <= upper_bound)]\n",
        "df = pd.concat([df,df_nan])\n",
        "print(df.shape)"
      ],
      "metadata": {
        "colab": {
          "base_uri": "https://localhost:8080/"
        },
        "id": "4K3mh4e3ZFGl",
        "outputId": "dad3febf-e227-4d85-c5ae-013b065d842a"
      },
      "execution_count": null,
      "outputs": [
        {
          "output_type": "stream",
          "name": "stdout",
          "text": [
            "(749989, 12)\n"
          ]
        }
      ]
    },
    {
      "cell_type": "code",
      "source": [
        "#plotting outliers for train data\n",
        "sns.boxplot(x = df_test['Episode_Length_minutes'])\n",
        "plt.xlabel('Episode Length (Minutes)')\n",
        "plt.title('Boxplot of Episode Lengths (test_data)')\n",
        "plt.show()"
      ],
      "metadata": {
        "colab": {
          "base_uri": "https://localhost:8080/",
          "height": 472
        },
        "id": "BOlpZjt_HpHP",
        "outputId": "7219d2c2-7b64-45d8-d371-2311abb01339"
      },
      "execution_count": null,
      "outputs": [
        {
          "output_type": "display_data",
          "data": {
            "text/plain": [
              "<Figure size 640x480 with 1 Axes>"
            ],
            "image/png": "[encoded data removed]"
          },
          "metadata": {}
        }
      ]
    },
    {
      "cell_type": "code",
      "source": [
        "#plotting outliers for train data\n",
        "sns.boxplot(x = df_test['Number_of_Ads'])\n",
        "plt.xlabel('Number_of_Ads')\n",
        "plt.title('Boxplot of Number_of_Ads (test_data)')\n",
        "plt.show()"
      ],
      "metadata": {
        "colab": {
          "base_uri": "https://localhost:8080/",
          "height": 472
        },
        "id": "H3WxSYkrHyKJ",
        "outputId": "7f752aec-9df5-4a1b-8e29-14d459b03da8"
      },
      "execution_count": null,
      "outputs": [
        {
          "output_type": "display_data",
          "data": {
            "text/plain": [
              "<Figure size 640x480 with 1 Axes>"
            ],
            "image/png": "[encoded data removed]"
          },
          "metadata": {}
        }
      ]
    },
    {
      "cell_type": "code",
      "source": [
        "# removing outliers for test data\n",
        "q1 = df_test['Episode_Length_minutes'].quantile(0.25)\n",
        "q3 = df_test['Episode_Length_minutes'].quantile(0.75)\n",
        "iqr = q3 - q1\n",
        "lower_bound = q1 - 1.5 * iqr\n",
        "upper_bound = q3 + 1.5 * iqr\n",
        "df_test_nan = df_test[df_test['Episode_Length_minutes'].isna()]\n",
        "df_test = df_test[~df_test['Episode_Length_minutes'].isna()]\n",
        "df_test = df_test[(df_test['Episode_Length_minutes'] >= lower_bound) & (df_test['Episode_Length_minutes'] <= upper_bound)]\n",
        "df_test = pd.concat([df_test,df_test_nan])\n",
        "print(df_test.shape)"
      ],
      "metadata": {
        "colab": {
          "base_uri": "https://localhost:8080/"
        },
        "id": "_sqTYfn8H7lI",
        "outputId": "3f7b1c3a-6b6e-485a-b380-19a962b62dd5"
      },
      "execution_count": null,
      "outputs": [
        {
          "output_type": "stream",
          "name": "stdout",
          "text": [
            "(249998, 11)\n"
          ]
        }
      ]
    },
    {
      "cell_type": "code",
      "source": [
        "# removing outliers for test data\n",
        "q1 = df_test['Number_of_Ads'].quantile(0.25)\n",
        "q3 = df_test['Number_of_Ads'].quantile(0.75)\n",
        "iqr = q3 - q1\n",
        "lower_bound = q1 - 1.5 * iqr\n",
        "upper_bound = q3 + 1.5 * iqr\n",
        "df_test_nan = df_test[df_test['Number_of_Ads'].isna()]\n",
        "df_test = df_test[~df_test['Number_of_Ads'].isna()]\n",
        "df_test = df_test[(df_test['Number_of_Ads'] >= lower_bound) & (df_test['Number_of_Ads'] <= upper_bound)]\n",
        "df_test = pd.concat([df_test,df_test_nan])\n",
        "print(df_test.shape)"
      ],
      "metadata": {
        "colab": {
          "base_uri": "https://localhost:8080/"
        },
        "id": "2zZaLflXH7h2",
        "outputId": "df3e0017-9a64-4943-844e-68838f9671a1"
      },
      "execution_count": null,
      "outputs": [
        {
          "output_type": "stream",
          "name": "stdout",
          "text": [
            "(249996, 11)\n"
          ]
        }
      ]
    },
    {
      "cell_type": "code",
      "source": [
        "# imputing Episode Length Minutes train data\n",
        "mean_len = df.groupby('Podcast_Name')['Episode_Length_minutes'].mean().reset_index(name = 'Mean_Dur')\n",
        "mean_len_map = mean_len.set_index('Podcast_Name')['Mean_Dur'].to_dict()\n",
        "mean_len_map\n"
      ],
      "metadata": {
        "colab": {
          "base_uri": "https://localhost:8080/"
        },
        "collapsed": true,
        "id": "d9KZjKRmQKLf",
        "outputId": "92deb2be-fea8-402a-d192-11ed19b58beb"
      },
      "execution_count": null,
      "outputs": [
        {
          "output_type": "execute_result",
          "data": {
            "text/plain": [
              "{\"Athlete's Arena\": 65.84145002666152,\n",
              " 'Brain Boost': 63.45841916371799,\n",
              " 'Business Briefs': 66.67273117600233,\n",
              " 'Business Insights': 62.85052578646617,\n",
              " 'Comedy Corner': 62.63415984873937,\n",
              " 'Crime Chronicles': 66.09306282286539,\n",
              " 'Criminal Minds': 61.44970857441532,\n",
              " 'Current Affairs': 62.01022120059374,\n",
              " 'Daily Digest': 65.28976221517944,\n",
              " 'Detective Diaries': 65.83168232027475,\n",
              " 'Digital Digest': 63.4173656755638,\n",
              " 'Educational Nuggets': 65.06675002035371,\n",
              " 'Fashion Forward': 64.62641731163349,\n",
              " 'Finance Focus': 62.0513269868116,\n",
              " 'Fitness First': 65.38452896585173,\n",
              " 'Funny Folks': 63.73354234956822,\n",
              " 'Gadget Geek': 65.03048366346326,\n",
              " 'Game Day': 62.7135723936742,\n",
              " 'Global News': 65.77577336517001,\n",
              " 'Health Hour': 64.41884199562652,\n",
              " 'Healthy Living': 64.53538735710995,\n",
              " 'Home & Living': 66.50949387549903,\n",
              " 'Humor Hub': 65.41717706239568,\n",
              " 'Innovators': 64.52611539726462,\n",
              " 'Joke Junction': 61.348252092201896,\n",
              " 'Laugh Line': 63.03206505745214,\n",
              " 'Learning Lab': 65.2761204178481,\n",
              " 'Life Lessons': 64.58458663705046,\n",
              " 'Lifestyle Lounge': 64.30525008571662,\n",
              " 'Market Masters': 65.20796240727051,\n",
              " 'Melody Mix': 67.9097364390318,\n",
              " 'Mind & Body': 66.28200243170421,\n",
              " 'Money Matters': 66.89709626346625,\n",
              " 'Music Matters': 65.19286744002962,\n",
              " 'Mystery Matters': 64.3884612689252,\n",
              " 'News Roundup': 61.108864215386326,\n",
              " 'Sound Waves': 64.0740686061277,\n",
              " 'Sport Spot': 64.51232737636283,\n",
              " 'Sports Central': 60.80670948747911,\n",
              " 'Sports Weekly': 67.11740574405195,\n",
              " 'Study Sessions': 65.980351101018,\n",
              " 'Style Guide': 64.39016450927645,\n",
              " 'Tech Talks': 64.30774070262983,\n",
              " 'Tech Trends': 63.16688750312118,\n",
              " 'True Crime Stories': 64.94377054370266,\n",
              " 'Tune Time': 66.07705168437427,\n",
              " 'Wellness Wave': 65.54562688575768,\n",
              " 'World Watch': 63.52654019797761}"
            ]
          },
          "metadata": {},
          "execution_count": 77
        }
      ]
    },
    {
      "cell_type": "code",
      "source": [
        "# imputing Guest_Popularity_percentage train data\n",
        "pop_rating_gener = df.groupby('Genre')['Guest_Popularity_percentage'].mean().reset_index(name = 'Mean_Pop')\n",
        "rating_map = pop_rating_gener.set_index('Genre')['Mean_Pop'].to_dict()\n",
        "rating_map"
      ],
      "metadata": {
        "colab": {
          "base_uri": "https://localhost:8080/"
        },
        "id": "QrEQMvyOWIi6",
        "outputId": "85102433-005e-4403-dbfa-5f05f9eaa457"
      },
      "execution_count": null,
      "outputs": [
        {
          "output_type": "execute_result",
          "data": {
            "text/plain": [
              "{'Business': 51.22199563894205,\n",
              " 'Comedy': 53.36126372340106,\n",
              " 'Education': 52.3152052570545,\n",
              " 'Health': 51.441465000343804,\n",
              " 'Lifestyle': 51.757591048236094,\n",
              " 'Music': 52.054404132064754,\n",
              " 'News': 52.43683772161711,\n",
              " 'Sports': 53.077234609328485,\n",
              " 'Technology': 51.83673721373768,\n",
              " 'True Crime': 52.714811690746025}"
            ]
          },
          "metadata": {},
          "execution_count": 78
        }
      ]
    },
    {
      "cell_type": "code",
      "source": [
        "df.loc[df['Guest_Popularity_percentage'].isna(),'Guest_Popularity_percentage'] = (df.loc[df['Guest_Popularity_percentage'].isna(),'Genre'].map(rating_map))\n",
        "print(df.isna().sum())"
      ],
      "metadata": {
        "colab": {
          "base_uri": "https://localhost:8080/"
        },
        "id": "Blx6uNpGXVp-",
        "outputId": "bc387b3f-7f16-42bf-b3f2-daf2189bbb9f"
      },
      "execution_count": null,
      "outputs": [
        {
          "output_type": "stream",
          "name": "stdout",
          "text": [
            "id                                 0\n",
            "Podcast_Name                       0\n",
            "Episode_Title                      0\n",
            "Episode_Length_minutes         87093\n",
            "Genre                              0\n",
            "Host_Popularity_percentage         0\n",
            "Publication_Day                    0\n",
            "Publication_Time                   0\n",
            "Guest_Popularity_percentage        0\n",
            "Number_of_Ads                      0\n",
            "Episode_Sentiment                  0\n",
            "Listening_Time_minutes             0\n",
            "dtype: int64\n"
          ]
        }
      ]
    },
    {
      "cell_type": "code",
      "source": [
        "df.loc[df['Episode_Length_minutes'].isna(),'Episode_Length_minutes'] = (df.loc[df['Episode_Length_minutes'].isna(),'Podcast_Name'].map(mean_len_map))\n",
        "print(df.isna().sum())\n",
        "df.loc[df['Podcast_Name']=='Music Matters',:]"
      ],
      "metadata": {
        "colab": {
          "base_uri": "https://localhost:8080/",
          "height": 679
        },
        "id": "YAl7rOh_RGwG",
        "outputId": "d8bf8e9b-ce99-4598-beef-80d5e661acf9"
      },
      "execution_count": null,
      "outputs": [
        {
          "output_type": "stream",
          "name": "stdout",
          "text": [
            "id                             0\n",
            "Podcast_Name                   0\n",
            "Episode_Title                  0\n",
            "Episode_Length_minutes         0\n",
            "Genre                          0\n",
            "Host_Popularity_percentage     0\n",
            "Publication_Day                0\n",
            "Publication_Time               0\n",
            "Guest_Popularity_percentage    0\n",
            "Number_of_Ads                  0\n",
            "Episode_Sentiment              0\n",
            "Listening_Time_minutes         0\n",
            "dtype: int64\n"
          ]
        },
        {
          "output_type": "execute_result",
          "data": {
            "text/plain": [
              "            id   Podcast_Name Episode_Title  Episode_Length_minutes  Genre  \\\n",
              "38          38  Music Matters    Episode 32               86.840000  Music   \n",
              "64          64  Music Matters    Episode 69               81.130000  Music   \n",
              "85          85  Music Matters    Episode 23                9.730000  Music   \n",
              "127        127  Music Matters    Episode 59               64.570000  Music   \n",
              "209        209  Music Matters    Episode 21               85.180000  Music   \n",
              "...        ...            ...           ...                     ...    ...   \n",
              "745564  745564  Music Matters    Episode 45               65.192867  Music   \n",
              "745642  745642  Music Matters    Episode 69               65.192867  Music   \n",
              "748086  748086  Music Matters    Episode 85               65.192867  Music   \n",
              "749364  749364  Music Matters    Episode 34               65.192867  Music   \n",
              "749812  749812  Music Matters    Episode 48               65.192867  Music   \n",
              "\n",
              "        Host_Popularity_percentage Publication_Day Publication_Time  \\\n",
              "38                           86.65        Thursday          Morning   \n",
              "64                           66.37       Wednesday          Evening   \n",
              "85                           31.68         Tuesday          Morning   \n",
              "127                          84.75        Thursday          Morning   \n",
              "209                          85.61       Wednesday          Evening   \n",
              "...                            ...             ...              ...   \n",
              "745564                       71.76         Tuesday            Night   \n",
              "745642                       23.22          Sunday        Afternoon   \n",
              "748086                       41.10        Saturday        Afternoon   \n",
              "749364                       76.19          Friday          Morning   \n",
              "749812                       37.21        Saturday          Evening   \n",
              "\n",
              "        Guest_Popularity_percentage  Number_of_Ads Episode_Sentiment  \\\n",
              "38                        28.270000            1.0           Neutral   \n",
              "64                        97.430000            1.0          Negative   \n",
              "85                        52.060000            1.0           Neutral   \n",
              "127                       52.054404            1.0           Neutral   \n",
              "209                       96.450000            1.0           Neutral   \n",
              "...                             ...            ...               ...   \n",
              "745564                    33.560000            2.0          Negative   \n",
              "745642                    18.900000            0.0          Negative   \n",
              "748086                    79.400000            0.0          Positive   \n",
              "749364                    99.080000            3.0          Positive   \n",
              "749812                     1.510000            1.0          Positive   \n",
              "\n",
              "        Listening_Time_minutes  \n",
              "38                    81.49839  \n",
              "64                    55.97010  \n",
              "85                     6.01368  \n",
              "127                   53.49181  \n",
              "209                   73.71758  \n",
              "...                        ...  \n",
              "745564                97.47198  \n",
              "745642                66.61818  \n",
              "748086                91.31101  \n",
              "749364                51.55510  \n",
              "749812                 0.00000  \n",
              "\n",
              "[12652 rows x 12 columns]"
            ],
            "text/html": [
              "\n",
              "  <div id=\"df-d1172059-4722-4266-9173-f542ae30d8d4\" class=\"colab-df-container\">\n",
              "    <div>\n",
              "<style scoped>\n",
              "    .dataframe tbody tr th:only-of-type {\n",
              "        vertical-align: middle;\n",
              "    }\n",
              "\n",
              "    .dataframe tbody tr th {\n",
              "        vertical-align: top;\n",
              "    }\n",
              "\n",
              "    .dataframe thead th {\n",
              "        text-align: right;\n",
              "    }\n",
              "</style>\n",
              "<table border=\"1\" class=\"dataframe\">\n",
              "  <thead>\n",
              "    <tr style=\"text-align: right;\">\n",
              "      <th></th>\n",
              "      <th>id</th>\n",
              "      <th>Podcast_Name</th>\n",
              "      <th>Episode_Title</th>\n",
              "      <th>Episode_Length_minutes</th>\n",
              "      <th>Genre</th>\n",
              "      <th>Host_Popularity_percentage</th>\n",
              "      <th>Publication_Day</th>\n",
              "      <th>Publication_Time</th>\n",
              "      <th>Guest_Popularity_percentage</th>\n",
              "      <th>Number_of_Ads</th>\n",
              "      <th>Episode_Sentiment</th>\n",
              "      <th>Listening_Time_minutes</th>\n",
              "    </tr>\n",
              "  </thead>\n",
              "  <tbody>\n",
              "    <tr>\n",
              "      <th>38</th>\n",
              "      <td>38</td>\n",
              "      <td>Music Matters</td>\n",
              "      <td>Episode 32</td>\n",
              "      <td>86.840000</td>\n",
              "      <td>Music</td>\n",
              "      <td>86.65</td>\n",
              "      <td>Thursday</td>\n",
              "      <td>Morning</td>\n",
              "      <td>28.270000</td>\n",
              "      <td>1.0</td>\n",
              "      <td>Neutral</td>\n",
              "      <td>81.49839</td>\n",
              "    </tr>\n",
              "    <tr>\n",
              "      <th>64</th>\n",
              "      <td>64</td>\n",
              "      <td>Music Matters</td>\n",
              "      <td>Episode 69</td>\n",
              "      <td>81.130000</td>\n",
              "      <td>Music</td>\n",
              "      <td>66.37</td>\n",
              "      <td>Wednesday</td>\n",
              "      <td>Evening</td>\n",
              "      <td>97.430000</td>\n",
              "      <td>1.0</td>\n",
              "      <td>Negative</td>\n",
              "      <td>55.97010</td>\n",
              "    </tr>\n",
              "    <tr>\n",
              "      <th>85</th>\n",
              "      <td>85</td>\n",
              "      <td>Music Matters</td>\n",
              "      <td>Episode 23</td>\n",
              "      <td>9.730000</td>\n",
              "      <td>Music</td>\n",
              "      <td>31.68</td>\n",
              "      <td>Tuesday</td>\n",
              "      <td>Morning</td>\n",
              "      <td>52.060000</td>\n",
              "      <td>1.0</td>\n",
              "      <td>Neutral</td>\n",
              "      <td>6.01368</td>\n",
              "    </tr>\n",
              "    <tr>\n",
              "      <th>127</th>\n",
              "      <td>127</td>\n",
              "      <td>Music Matters</td>\n",
              "      <td>Episode 59</td>\n",
              "      <td>64.570000</td>\n",
              "      <td>Music</td>\n",
              "      <td>84.75</td>\n",
              "      <td>Thursday</td>\n",
              "      <td>Morning</td>\n",
              "      <td>52.054404</td>\n",
              "      <td>1.0</td>\n",
              "      <td>Neutral</td>\n",
              "      <td>53.49181</td>\n",
              "    </tr>\n",
              "    <tr>\n",
              "      <th>209</th>\n",
              "      <td>209</td>\n",
              "      <td>Music Matters</td>\n",
              "      <td>Episode 21</td>\n",
              "      <td>85.180000</td>\n",
              "      <td>Music</td>\n",
              "      <td>85.61</td>\n",
              "      <td>Wednesday</td>\n",
              "      <td>Evening</td>\n",
              "      <td>96.450000</td>\n",
              "      <td>1.0</td>\n",
              "      <td>Neutral</td>\n",
              "      <td>73.71758</td>\n",
              "    </tr>\n",
              "    <tr>\n",
              "      <th>...</th>\n",
              "      <td>...</td>\n",
              "      <td>...</td>\n",
              "      <td>...</td>\n",
              "      <td>...</td>\n",
              "      <td>...</td>\n",
              "      <td>...</td>\n",
              "      <td>...</td>\n",
              "      <td>...</td>\n",
              "      <td>...</td>\n",
              "      <td>...</td>\n",
              "      <td>...</td>\n",
              "      <td>...</td>\n",
              "    </tr>\n",
              "    <tr>\n",
              "      <th>745564</th>\n",
              "      <td>745564</td>\n",
              "      <td>Music Matters</td>\n",
              "      <td>Episode 45</td>\n",
              "      <td>65.192867</td>\n",
              "      <td>Music</td>\n",
              "      <td>71.76</td>\n",
              "      <td>Tuesday</td>\n",
              "      <td>Night</td>\n",
              "      <td>33.560000</td>\n",
              "      <td>2.0</td>\n",
              "      <td>Negative</td>\n",
              "      <td>97.47198</td>\n",
              "    </tr>\n",
              "    <tr>\n",
              "      <th>745642</th>\n",
              "      <td>745642</td>\n",
              "      <td>Music Matters</td>\n",
              "      <td>Episode 69</td>\n",
              "      <td>65.192867</td>\n",
              "      <td>Music</td>\n",
              "      <td>23.22</td>\n",
              "      <td>Sunday</td>\n",
              "      <td>Afternoon</td>\n",
              "      <td>18.900000</td>\n",
              "      <td>0.0</td>\n",
              "      <td>Negative</td>\n",
              "      <td>66.61818</td>\n",
              "    </tr>\n",
              "    <tr>\n",
              "      <th>748086</th>\n",
              "      <td>748086</td>\n",
              "      <td>Music Matters</td>\n",
              "      <td>Episode 85</td>\n",
              "      <td>65.192867</td>\n",
              "      <td>Music</td>\n",
              "      <td>41.10</td>\n",
              "      <td>Saturday</td>\n",
              "      <td>Afternoon</td>\n",
              "      <td>79.400000</td>\n",
              "      <td>0.0</td>\n",
              "      <td>Positive</td>\n",
              "      <td>91.31101</td>\n",
              "    </tr>\n",
              "    <tr>\n",
              "      <th>749364</th>\n",
              "      <td>749364</td>\n",
              "      <td>Music Matters</td>\n",
              "      <td>Episode 34</td>\n",
              "      <td>65.192867</td>\n",
              "      <td>Music</td>\n",
              "      <td>76.19</td>\n",
              "      <td>Friday</td>\n",
              "      <td>Morning</td>\n",
              "      <td>99.080000</td>\n",
              "      <td>3.0</td>\n",
              "      <td>Positive</td>\n",
              "      <td>51.55510</td>\n",
              "    </tr>\n",
              "    <tr>\n",
              "      <th>749812</th>\n",
              "      <td>749812</td>\n",
              "      <td>Music Matters</td>\n",
              "      <td>Episode 48</td>\n",
              "      <td>65.192867</td>\n",
              "      <td>Music</td>\n",
              "      <td>37.21</td>\n",
              "      <td>Saturday</td>\n",
              "      <td>Evening</td>\n",
              "      <td>1.510000</td>\n",
              "      <td>1.0</td>\n",
              "      <td>Positive</td>\n",
              "      <td>0.00000</td>\n",
              "    </tr>\n",
              "  </tbody>\n",
              "</table>\n",
              "<p>12652 rows × 12 columns</p>\n",
              "</div>\n",
              "    <div class=\"colab-df-buttons\">\n",
              "\n",
              "  <div class=\"colab-df-container\">\n",
              "    <button class=\"colab-df-convert\" onclick=\"convertToInteractive('df-d1172059-4722-4266-9173-f542ae30d8d4')\"\n",
              "            title=\"Convert this dataframe to an interactive table.\"\n",
              "            style=\"display:none;\">\n",
              "\n",
              "  <svg xmlns=\"http://www.w3.org/2000/svg\" height=\"24px\" viewBox=\"0 -960 960 960\">\n",
              "    <path d=\"M120-120v-720h720v720H120Zm60-500h600v-160H180v160Zm220 220h160v-160H400v160Zm0 220h160v-160H400v160ZM180-400h160v-160H180v160Zm440 0h160v-160H620v160ZM180-180h160v-160H180v160Zm440 0h160v-160H620v160Z\"/>\n",
              "  </svg>\n",
              "    </button>\n",
              "\n",
              "  <style>\n",
              "    .colab-df-container {\n",
              "      display:flex;\n",
              "      gap: 12px;\n",
              "    }\n",
              "\n",
              "    .colab-df-convert {\n",
              "      background-color: #E8F0FE;\n",
              "      border: none;\n",
              "      border-radius: 50%;\n",
              "      cursor: pointer;\n",
              "      display: none;\n",
              "      fill: #1967D2;\n",
              "      height: 32px;\n",
              "      padding: 0 0 0 0;\n",
              "      width: 32px;\n",
              "    }\n",
              "\n",
              "    .colab-df-convert:hover {\n",
              "      background-color: #E2EBFA;\n",
              "      box-shadow: 0px 1px 2px rgba(60, 64, 67, 0.3), 0px 1px 3px 1px rgba(60, 64, 67, 0.15);\n",
              "      fill: #174EA6;\n",
              "    }\n",
              "\n",
              "    .colab-df-buttons div {\n",
              "      margin-bottom: 4px;\n",
              "    }\n",
              "\n",
              "    [theme=dark] .colab-df-convert {\n",
              "      background-color: #3B4455;\n",
              "      fill: #D2E3FC;\n",
              "    }\n",
              "\n",
              "    [theme=dark] .colab-df-convert:hover {\n",
              "      background-color: #434B5C;\n",
              "      box-shadow: 0px 1px 3px 1px rgba(0, 0, 0, 0.15);\n",
              "      filter: drop-shadow(0px 1px 2px rgba(0, 0, 0, 0.3));\n",
              "      fill: #FFFFFF;\n",
              "    }\n",
              "  </style>\n",
              "\n",
              "    <script>\n",
              "      const buttonEl =\n",
              "        document.querySelector('#df-d1172059-4722-4266-9173-f542ae30d8d4 button.colab-df-convert');\n",
              "      buttonEl.style.display =\n",
              "        google.colab.kernel.accessAllowed ? 'block' : 'none';\n",
              "\n",
              "      async function convertToInteractive(key) {\n",
              "        const element = document.querySelector('#df-d1172059-4722-4266-9173-f542ae30d8d4');\n",
              "        const dataTable =\n",
              "          await google.colab.kernel.invokeFunction('convertToInteractive',\n",
              "                                                    [key], {});\n",
              "        if (!dataTable) return;\n",
              "\n",
              "        const docLinkHtml = 'Like what you see? Visit the ' +\n",
              "          '<a target=\"_blank\" href=https://colab.research.google.com/notebooks/data_table.ipynb>data table notebook</a>'\n",
              "          + ' to learn more about interactive tables.';\n",
              "        element.innerHTML = '';\n",
              "        dataTable['output_type'] = 'display_data';\n",
              "        await google.colab.output.renderOutput(dataTable, element);\n",
              "        const docLink = document.createElement('div');\n",
              "        docLink.innerHTML = docLinkHtml;\n",
              "        element.appendChild(docLink);\n",
              "      }\n",
              "    </script>\n",
              "  </div>\n",
              "\n",
              "\n",
              "    <div id=\"df-e9115181-00f2-48ab-85d0-4b1bc6f88ce9\">\n",
              "      <button class=\"colab-df-quickchart\" onclick=\"quickchart('df-e9115181-00f2-48ab-85d0-4b1bc6f88ce9')\"\n",
              "                title=\"Suggest charts\"\n",
              "                style=\"display:none;\">\n",
              "\n",
              "<svg xmlns=\"http://www.w3.org/2000/svg\" height=\"24px\"viewBox=\"0 0 24 24\"\n",
              "     width=\"24px\">\n",
              "    <g>\n",
              "        <path d=\"M19 3H5c-1.1 0-2 .9-2 2v14c0 1.1.9 2 2 2h14c1.1 0 2-.9 2-2V5c0-1.1-.9-2-2-2zM9 17H7v-7h2v7zm4 0h-2V7h2v10zm4 0h-2v-4h2v4z\"/>\n",
              "    </g>\n",
              "</svg>\n",
              "      </button>\n",
              "\n",
              "<style>\n",
              "  .colab-df-quickchart {\n",
              "      --bg-color: #E8F0FE;\n",
              "      --fill-color: #1967D2;\n",
              "      --hover-bg-color: #E2EBFA;\n",
              "      --hover-fill-color: #174EA6;\n",
              "      --disabled-fill-color: #AAA;\n",
              "      --disabled-bg-color: #DDD;\n",
              "  }\n",
              "\n",
              "  [theme=dark] .colab-df-quickchart {\n",
              "      --bg-color: #3B4455;\n",
              "      --fill-color: #D2E3FC;\n",
              "      --hover-bg-color: #434B5C;\n",
              "      --hover-fill-color: #FFFFFF;\n",
              "      --disabled-bg-color: #3B4455;\n",
              "      --disabled-fill-color: #666;\n",
              "  }\n",
              "\n",
              "  .colab-df-quickchart {\n",
              "    background-color: var(--bg-color);\n",
              "    border: none;\n",
              "    border-radius: 50%;\n",
              "    cursor: pointer;\n",
              "    display: none;\n",
              "    fill: var(--fill-color);\n",
              "    height: 32px;\n",
              "    padding: 0;\n",
              "    width: 32px;\n",
              "  }\n",
              "\n",
              "  .colab-df-quickchart:hover {\n",
              "    background-color: var(--hover-bg-color);\n",
              "    box-shadow: 0 1px 2px rgba(60, 64, 67, 0.3), 0 1px 3px 1px rgba(60, 64, 67, 0.15);\n",
              "    fill: var(--button-hover-fill-color);\n",
              "  }\n",
              "\n",
              "  .colab-df-quickchart-complete:disabled,\n",
              "  .colab-df-quickchart-complete:disabled:hover {\n",
              "    background-color: var(--disabled-bg-color);\n",
              "    fill: var(--disabled-fill-color);\n",
              "    box-shadow: none;\n",
              "  }\n",
              "\n",
              "  .colab-df-spinner {\n",
              "    border: 2px solid var(--fill-color);\n",
              "    border-color: transparent;\n",
              "    border-bottom-color: var(--fill-color);\n",
              "    animation:\n",
              "      spin 1s steps(1) infinite;\n",
              "  }\n",
              "\n",
              "  @keyframes spin {\n",
              "    0% {\n",
              "      border-color: transparent;\n",
              "      border-bottom-color: var(--fill-color);\n",
              "      border-left-color: var(--fill-color);\n",
              "    }\n",
              "    20% {\n",
              "      border-color: transparent;\n",
              "      border-left-color: var(--fill-color);\n",
              "      border-top-color: var(--fill-color);\n",
              "    }\n",
              "    30% {\n",
              "      border-color: transparent;\n",
              "      border-left-color: var(--fill-color);\n",
              "      border-top-color: var(--fill-color);\n",
              "      border-right-color: var(--fill-color);\n",
              "    }\n",
              "    40% {\n",
              "      border-color: transparent;\n",
              "      border-right-color: var(--fill-color);\n",
              "      border-top-color: var(--fill-color);\n",
              "    }\n",
              "    60% {\n",
              "      border-color: transparent;\n",
              "      border-right-color: var(--fill-color);\n",
              "    }\n",
              "    80% {\n",
              "      border-color: transparent;\n",
              "      border-right-color: var(--fill-color);\n",
              "      border-bottom-color: var(--fill-color);\n",
              "    }\n",
              "    90% {\n",
              "      border-color: transparent;\n",
              "      border-bottom-color: var(--fill-color);\n",
              "    }\n",
              "  }\n",
              "</style>\n",
              "\n",
              "      <script>\n",
              "        async function quickchart(key) {\n",
              "          const quickchartButtonEl =\n",
              "            document.querySelector('#' + key + ' button');\n",
              "          quickchartButtonEl.disabled = true;  // To prevent multiple clicks.\n",
              "          quickchartButtonEl.classList.add('colab-df-spinner');\n",
              "          try {\n",
              "            const charts = await google.colab.kernel.invokeFunction(\n",
              "                'suggestCharts', [key], {});\n",
              "          } catch (error) {\n",
              "            console.error('Error during call to suggestCharts:', error);\n",
              "          }\n",
              "          quickchartButtonEl.classList.remove('colab-df-spinner');\n",
              "          quickchartButtonEl.classList.add('colab-df-quickchart-complete');\n",
              "        }\n",
              "        (() => {\n",
              "          let quickchartButtonEl =\n",
              "            document.querySelector('#df-e9115181-00f2-48ab-85d0-4b1bc6f88ce9 button');\n",
              "          quickchartButtonEl.style.display =\n",
              "            google.colab.kernel.accessAllowed ? 'block' : 'none';\n",
              "        })();\n",
              "      </script>\n",
              "    </div>\n",
              "\n",
              "    </div>\n",
              "  </div>\n"
            ],
            "application/vnd.google.colaboratory.intrinsic+json": {
              "type": "dataframe",
              "summary": "{\n  \"name\": \"df\",\n  \"rows\": 12652,\n  \"fields\": [\n    {\n      \"column\": \"id\",\n      \"properties\": {\n        \"dtype\": \"number\",\n        \"std\": 216206,\n        \"min\": 9,\n        \"max\": 749988,\n        \"num_unique_values\": 12652,\n        \"samples\": [\n          322793,\n          489441,\n          632158\n        ],\n        \"semantic_type\": \"\",\n        \"description\": \"\"\n      }\n    },\n    {\n      \"column\": \"Podcast_Name\",\n      \"properties\": {\n        \"dtype\": \"category\",\n        \"num_unique_values\": 1,\n        \"samples\": [\n          \"Music Matters\"\n        ],\n        \"semantic_type\": \"\",\n        \"description\": \"\"\n      }\n    },\n    {\n      \"column\": \"Episode_Title\",\n      \"properties\": {\n        \"dtype\": \"category\",\n        \"num_unique_values\": 100,\n        \"samples\": [\n          \"Episode 58\"\n        ],\n        \"semantic_type\": \"\",\n        \"description\": \"\"\n      }\n    },\n    {\n      \"column\": \"Episode_Length_minutes\",\n      \"properties\": {\n        \"dtype\": \"number\",\n        \"std\": 31.514123783956215,\n        \"min\": 5.0,\n        \"max\": 119.95,\n        \"num_unique_values\": 5808,\n        \"samples\": [\n          89.67\n        ],\n        \"semantic_type\": \"\",\n        \"description\": \"\"\n      }\n    },\n    {\n      \"column\": \"Genre\",\n      \"properties\": {\n        \"dtype\": \"category\",\n        \"num_unique_values\": 3,\n        \"samples\": [\n          \"Music\"\n        ],\n        \"semantic_type\": \"\",\n        \"description\": \"\"\n      }\n    },\n    {\n      \"column\": \"Host_Popularity_percentage\",\n      \"properties\": {\n        \"dtype\": \"number\",\n        \"std\": 22.641318435611236,\n        \"min\": 20.01,\n        \"max\": 99.99,\n        \"num_unique_values\": 5485,\n        \"samples\": [\n          47.6\n        ],\n        \"semantic_type\": \"\",\n        \"description\": \"\"\n      }\n    },\n    {\n      \"column\": \"Publication_Day\",\n      \"properties\": {\n        \"dtype\": \"category\",\n        \"num_unique_values\": 7,\n        \"samples\": [\n          \"Thursday\"\n        ],\n        \"semantic_type\": \"\",\n        \"description\": \"\"\n      }\n    },\n    {\n      \"column\": \"Publication_Time\",\n      \"properties\": {\n        \"dtype\": \"category\",\n        \"num_unique_values\": 4,\n        \"samples\": [\n          \"Evening\"\n        ],\n        \"semantic_type\": \"\",\n        \"description\": \"\"\n      }\n    },\n    {\n      \"column\": \"Guest_Popularity_percentage\",\n      \"properties\": {\n        \"dtype\": \"number\",\n        \"std\": 25.462745832265064,\n        \"min\": 0.01,\n        \"max\": 107.58,\n        \"num_unique_values\": 5492,\n        \"samples\": [\n          8.22\n        ],\n        \"semantic_type\": \"\",\n        \"description\": \"\"\n      }\n    },\n    {\n      \"column\": \"Number_of_Ads\",\n      \"properties\": {\n        \"dtype\": \"number\",\n        \"std\": 1.097067174360251,\n        \"min\": 0.0,\n        \"max\": 3.0,\n        \"num_unique_values\": 4,\n        \"samples\": [\n          2.0\n        ],\n        \"semantic_type\": \"\",\n        \"description\": \"\"\n      }\n    },\n    {\n      \"column\": \"Episode_Sentiment\",\n      \"properties\": {\n        \"dtype\": \"category\",\n        \"num_unique_values\": 3,\n        \"samples\": [\n          \"Neutral\"\n        ],\n        \"semantic_type\": \"\",\n        \"description\": \"\"\n      }\n    },\n    {\n      \"column\": \"Listening_Time_minutes\",\n      \"properties\": {\n        \"dtype\": \"number\",\n        \"std\": 28.274913656629558,\n        \"min\": 0.0,\n        \"max\": 119.66,\n        \"num_unique_values\": 8888,\n        \"samples\": [\n          46.44844\n        ],\n        \"semantic_type\": \"\",\n        \"description\": \"\"\n      }\n    }\n  ]\n}"
            }
          },
          "metadata": {},
          "execution_count": 80
        }
      ]
    },
    {
      "cell_type": "code",
      "source": [
        "# imputing Episode Length Minutes test data\n",
        "test_mean_len = df_test.groupby('Podcast_Name')['Episode_Length_minutes'].mean().reset_index(name = 'Mean_Dur')\n",
        "test_mean_len_map = test_mean_len.set_index('Podcast_Name')['Mean_Dur'].to_dict()\n",
        "test_mean_len_map"
      ],
      "metadata": {
        "colab": {
          "base_uri": "https://localhost:8080/"
        },
        "id": "ewZsyTtwKryD",
        "outputId": "9af1d0e8-359a-4433-8928-4fa7482a2d21"
      },
      "execution_count": null,
      "outputs": [
        {
          "output_type": "execute_result",
          "data": {
            "text/plain": [
              "{\"Athlete's Arena\": 65.12400223990402,\n",
              " 'Brain Boost': 63.55702779197694,\n",
              " 'Business Briefs': 66.73816472337504,\n",
              " 'Business Insights': 62.53988221420274,\n",
              " 'Comedy Corner': 63.11928717586774,\n",
              " 'Crime Chronicles': 65.9042661971855,\n",
              " 'Criminal Minds': 61.119463578531416,\n",
              " 'Current Affairs': 62.19247706330044,\n",
              " 'Daily Digest': 65.47994189256232,\n",
              " 'Detective Diaries': 66.18937561614567,\n",
              " 'Digital Digest': 62.77205851416113,\n",
              " 'Educational Nuggets': 64.17391255298105,\n",
              " 'Fashion Forward': 64.35771060252483,\n",
              " 'Finance Focus': 62.35637068779561,\n",
              " 'Fitness First': 66.1003914756141,\n",
              " 'Funny Folks': 63.6383543978125,\n",
              " 'Gadget Geek': 64.93357723912322,\n",
              " 'Game Day': 62.70095211626103,\n",
              " 'Global News': 65.58818986538334,\n",
              " 'Health Hour': 63.28424440501039,\n",
              " 'Healthy Living': 65.03355382776243,\n",
              " 'Home & Living': 66.23382526629666,\n",
              " 'Humor Hub': 65.92613874577283,\n",
              " 'Innovators': 66.35921274283481,\n",
              " 'Joke Junction': 61.4982957730889,\n",
              " 'Laugh Line': 63.28202952327669,\n",
              " 'Learning Lab': 65.86662320897504,\n",
              " 'Life Lessons': 64.29917072883586,\n",
              " 'Lifestyle Lounge': 64.13441656245284,\n",
              " 'Market Masters': 66.40880775718946,\n",
              " 'Melody Mix': 68.95538666800711,\n",
              " 'Mind & Body': 66.36191168848904,\n",
              " 'Money Matters': 66.36839618474706,\n",
              " 'Music Matters': 64.84328979855268,\n",
              " 'Mystery Matters': 65.2727472038516,\n",
              " 'News Roundup': 62.019057204879815,\n",
              " 'Sound Waves': 64.23087507209274,\n",
              " 'Sport Spot': 63.85284455246686,\n",
              " 'Sports Central': 61.135590508710834,\n",
              " 'Sports Weekly': 66.63367325922998,\n",
              " 'Study Sessions': 65.6796814370414,\n",
              " 'Style Guide': 64.42994278697212,\n",
              " 'Tech Talks': 64.64059308051279,\n",
              " 'Tech Trends': 63.22290338781826,\n",
              " 'True Crime Stories': 64.45131509956425,\n",
              " 'Tune Time': 66.12483599210266,\n",
              " 'Wellness Wave': 65.46109011927878,\n",
              " 'World Watch': 62.791819090887124}"
            ]
          },
          "metadata": {},
          "execution_count": 81
        }
      ]
    },
    {
      "cell_type": "code",
      "source": [
        "# imputing Guest_Popularity_percentage test data\n",
        "test_pop_rating_gener = df_test.groupby('Genre')['Guest_Popularity_percentage'].mean().reset_index(name = 'Mean_Pop')\n",
        "test_rating_map = test_pop_rating_gener.set_index('Genre')['Mean_Pop'].to_dict()\n",
        "test_rating_map"
      ],
      "metadata": {
        "colab": {
          "base_uri": "https://localhost:8080/"
        },
        "id": "LT702gYHdLkW",
        "outputId": "19ef88e0-71f3-4cd5-8c56-ac6e341d17c6"
      },
      "execution_count": null,
      "outputs": [
        {
          "output_type": "execute_result",
          "data": {
            "text/plain": [
              "{'Business': 51.377071085996484,\n",
              " 'Comedy': 53.15304508484497,\n",
              " 'Education': 52.10616224529027,\n",
              " 'Health': 51.406536136187775,\n",
              " 'Lifestyle': 52.06262862694873,\n",
              " 'Music': 51.90412944073162,\n",
              " 'News': 52.46579460801703,\n",
              " 'Sports': 53.058590066426426,\n",
              " 'Technology': 51.55995068396122,\n",
              " 'True Crime': 52.61235182058276}"
            ]
          },
          "metadata": {},
          "execution_count": 82
        }
      ]
    },
    {
      "cell_type": "code",
      "source": [
        "df_test.loc[df_test['Guest_Popularity_percentage'].isna(),'Guest_Popularity_percentage'] = (df_test.loc[df_test['Guest_Popularity_percentage'].isna(),'Genre'].map(test_rating_map))\n",
        "print(df_test.isna().sum())"
      ],
      "metadata": {
        "colab": {
          "base_uri": "https://localhost:8080/"
        },
        "id": "IKzEP6vGda19",
        "outputId": "0dbd77c5-b583-4a71-8041-704099f2fa6b"
      },
      "execution_count": null,
      "outputs": [
        {
          "output_type": "stream",
          "name": "stdout",
          "text": [
            "id                                 0\n",
            "Podcast_Name                       0\n",
            "Episode_Title                      0\n",
            "Episode_Length_minutes         28736\n",
            "Genre                              0\n",
            "Host_Popularity_percentage         0\n",
            "Publication_Day                    0\n",
            "Publication_Time                   0\n",
            "Guest_Popularity_percentage        0\n",
            "Number_of_Ads                      0\n",
            "Episode_Sentiment                  0\n",
            "dtype: int64\n"
          ]
        }
      ]
    },
    {
      "cell_type": "code",
      "source": [
        "df_test.loc[df_test['Episode_Length_minutes'].isna(),'Episode_Length_minutes'] = (df_test.loc[df_test['Episode_Length_minutes'].isna(),'Podcast_Name'].map(test_mean_len_map))\n",
        "print(df_test.isna().sum())\n",
        "df_test.loc[df_test['Podcast_Name']=='Music Matters',:]"
      ],
      "metadata": {
        "colab": {
          "base_uri": "https://localhost:8080/",
          "height": 661
        },
        "id": "qQ8PAneodozX",
        "outputId": "4958e805-09d5-44f3-97f5-4c42715e1fdf"
      },
      "execution_count": null,
      "outputs": [
        {
          "output_type": "stream",
          "name": "stdout",
          "text": [
            "id                             0\n",
            "Podcast_Name                   0\n",
            "Episode_Title                  0\n",
            "Episode_Length_minutes         0\n",
            "Genre                          0\n",
            "Host_Popularity_percentage     0\n",
            "Publication_Day                0\n",
            "Publication_Time               0\n",
            "Guest_Popularity_percentage    0\n",
            "Number_of_Ads                  0\n",
            "Episode_Sentiment              0\n",
            "dtype: int64\n"
          ]
        },
        {
          "output_type": "execute_result",
          "data": {
            "text/plain": [
              "            id   Podcast_Name Episode_Title  Episode_Length_minutes  Genre  \\\n",
              "88      750088  Music Matters    Episode 25                20.32000  Music   \n",
              "119     750119  Music Matters    Episode 75                34.97000  Music   \n",
              "149     750149  Music Matters    Episode 38                12.87000  Music   \n",
              "154     750154  Music Matters    Episode 33                78.22000  Music   \n",
              "168     750168  Music Matters    Episode 75                72.02000  Music   \n",
              "...        ...            ...           ...                     ...    ...   \n",
              "249331  999331  Music Matters    Episode 69                64.84329  Music   \n",
              "249672  999672  Music Matters    Episode 88                64.84329  Music   \n",
              "249718  999718  Music Matters    Episode 49                64.84329  Music   \n",
              "249877  999877  Music Matters    Episode 69                64.84329  Music   \n",
              "249902  999902  Music Matters    Episode 75                64.84329  Music   \n",
              "\n",
              "        Host_Popularity_percentage Publication_Day Publication_Time  \\\n",
              "88                           94.12        Thursday          Evening   \n",
              "119                          84.58         Tuesday          Morning   \n",
              "149                          28.38          Monday          Evening   \n",
              "154                          88.07         Tuesday            Night   \n",
              "168                          96.93        Thursday        Afternoon   \n",
              "...                            ...             ...              ...   \n",
              "249331                       26.40          Friday        Afternoon   \n",
              "249672                       28.96          Friday            Night   \n",
              "249718                       42.85          Friday        Afternoon   \n",
              "249877                       98.26          Monday          Morning   \n",
              "249902                       80.86         Tuesday          Morning   \n",
              "\n",
              "        Guest_Popularity_percentage  Number_of_Ads Episode_Sentiment  \n",
              "88                        51.904129            2.0          Positive  \n",
              "119                       92.240000            1.0          Positive  \n",
              "149                       66.930000            0.0           Neutral  \n",
              "154                       51.904129            1.0          Negative  \n",
              "168                       82.410000            0.0           Neutral  \n",
              "...                             ...            ...               ...  \n",
              "249331                    26.690000            0.0          Negative  \n",
              "249672                    86.360000            0.0          Negative  \n",
              "249718                    51.904129            3.0          Negative  \n",
              "249877                    34.520000            2.0          Negative  \n",
              "249902                    51.904129            1.0           Neutral  \n",
              "\n",
              "[4272 rows x 11 columns]"
            ],
            "text/html": [
              "\n",
              "  <div id=\"df-b1ec3eb3-5f8a-418d-bde2-8e9d8129955c\" class=\"colab-df-container\">\n",
              "    <div>\n",
              "<style scoped>\n",
              "    .dataframe tbody tr th:only-of-type {\n",
              "        vertical-align: middle;\n",
              "    }\n",
              "\n",
              "    .dataframe tbody tr th {\n",
              "        vertical-align: top;\n",
              "    }\n",
              "\n",
              "    .dataframe thead th {\n",
              "        text-align: right;\n",
              "    }\n",
              "</style>\n",
              "<table border=\"1\" class=\"dataframe\">\n",
              "  <thead>\n",
              "    <tr style=\"text-align: right;\">\n",
              "      <th></th>\n",
              "      <th>id</th>\n",
              "      <th>Podcast_Name</th>\n",
              "      <th>Episode_Title</th>\n",
              "      <th>Episode_Length_minutes</th>\n",
              "      <th>Genre</th>\n",
              "      <th>Host_Popularity_percentage</th>\n",
              "      <th>Publication_Day</th>\n",
              "      <th>Publication_Time</th>\n",
              "      <th>Guest_Popularity_percentage</th>\n",
              "      <th>Number_of_Ads</th>\n",
              "      <th>Episode_Sentiment</th>\n",
              "    </tr>\n",
              "  </thead>\n",
              "  <tbody>\n",
              "    <tr>\n",
              "      <th>88</th>\n",
              "      <td>750088</td>\n",
              "      <td>Music Matters</td>\n",
              "      <td>Episode 25</td>\n",
              "      <td>20.32000</td>\n",
              "      <td>Music</td>\n",
              "      <td>94.12</td>\n",
              "      <td>Thursday</td>\n",
              "      <td>Evening</td>\n",
              "      <td>51.904129</td>\n",
              "      <td>2.0</td>\n",
              "      <td>Positive</td>\n",
              "    </tr>\n",
              "    <tr>\n",
              "      <th>119</th>\n",
              "      <td>750119</td>\n",
              "      <td>Music Matters</td>\n",
              "      <td>Episode 75</td>\n",
              "      <td>34.97000</td>\n",
              "      <td>Music</td>\n",
              "      <td>84.58</td>\n",
              "      <td>Tuesday</td>\n",
              "      <td>Morning</td>\n",
              "      <td>92.240000</td>\n",
              "      <td>1.0</td>\n",
              "      <td>Positive</td>\n",
              "    </tr>\n",
              "    <tr>\n",
              "      <th>149</th>\n",
              "      <td>750149</td>\n",
              "      <td>Music Matters</td>\n",
              "      <td>Episode 38</td>\n",
              "      <td>12.87000</td>\n",
              "      <td>Music</td>\n",
              "      <td>28.38</td>\n",
              "      <td>Monday</td>\n",
              "      <td>Evening</td>\n",
              "      <td>66.930000</td>\n",
              "      <td>0.0</td>\n",
              "      <td>Neutral</td>\n",
              "    </tr>\n",
              "    <tr>\n",
              "      <th>154</th>\n",
              "      <td>750154</td>\n",
              "      <td>Music Matters</td>\n",
              "      <td>Episode 33</td>\n",
              "      <td>78.22000</td>\n",
              "      <td>Music</td>\n",
              "      <td>88.07</td>\n",
              "      <td>Tuesday</td>\n",
              "      <td>Night</td>\n",
              "      <td>51.904129</td>\n",
              "      <td>1.0</td>\n",
              "      <td>Negative</td>\n",
              "    </tr>\n",
              "    <tr>\n",
              "      <th>168</th>\n",
              "      <td>750168</td>\n",
              "      <td>Music Matters</td>\n",
              "      <td>Episode 75</td>\n",
              "      <td>72.02000</td>\n",
              "      <td>Music</td>\n",
              "      <td>96.93</td>\n",
              "      <td>Thursday</td>\n",
              "      <td>Afternoon</td>\n",
              "      <td>82.410000</td>\n",
              "      <td>0.0</td>\n",
              "      <td>Neutral</td>\n",
              "    </tr>\n",
              "    <tr>\n",
              "      <th>...</th>\n",
              "      <td>...</td>\n",
              "      <td>...</td>\n",
              "      <td>...</td>\n",
              "      <td>...</td>\n",
              "      <td>...</td>\n",
              "      <td>...</td>\n",
              "      <td>...</td>\n",
              "      <td>...</td>\n",
              "      <td>...</td>\n",
              "      <td>...</td>\n",
              "      <td>...</td>\n",
              "    </tr>\n",
              "    <tr>\n",
              "      <th>249331</th>\n",
              "      <td>999331</td>\n",
              "      <td>Music Matters</td>\n",
              "      <td>Episode 69</td>\n",
              "      <td>64.84329</td>\n",
              "      <td>Music</td>\n",
              "      <td>26.40</td>\n",
              "      <td>Friday</td>\n",
              "      <td>Afternoon</td>\n",
              "      <td>26.690000</td>\n",
              "      <td>0.0</td>\n",
              "      <td>Negative</td>\n",
              "    </tr>\n",
              "    <tr>\n",
              "      <th>249672</th>\n",
              "      <td>999672</td>\n",
              "      <td>Music Matters</td>\n",
              "      <td>Episode 88</td>\n",
              "      <td>64.84329</td>\n",
              "      <td>Music</td>\n",
              "      <td>28.96</td>\n",
              "      <td>Friday</td>\n",
              "      <td>Night</td>\n",
              "      <td>86.360000</td>\n",
              "      <td>0.0</td>\n",
              "      <td>Negative</td>\n",
              "    </tr>\n",
              "    <tr>\n",
              "      <th>249718</th>\n",
              "      <td>999718</td>\n",
              "      <td>Music Matters</td>\n",
              "      <td>Episode 49</td>\n",
              "      <td>64.84329</td>\n",
              "      <td>Music</td>\n",
              "      <td>42.85</td>\n",
              "      <td>Friday</td>\n",
              "      <td>Afternoon</td>\n",
              "      <td>51.904129</td>\n",
              "      <td>3.0</td>\n",
              "      <td>Negative</td>\n",
              "    </tr>\n",
              "    <tr>\n",
              "      <th>249877</th>\n",
              "      <td>999877</td>\n",
              "      <td>Music Matters</td>\n",
              "      <td>Episode 69</td>\n",
              "      <td>64.84329</td>\n",
              "      <td>Music</td>\n",
              "      <td>98.26</td>\n",
              "      <td>Monday</td>\n",
              "      <td>Morning</td>\n",
              "      <td>34.520000</td>\n",
              "      <td>2.0</td>\n",
              "      <td>Negative</td>\n",
              "    </tr>\n",
              "    <tr>\n",
              "      <th>249902</th>\n",
              "      <td>999902</td>\n",
              "      <td>Music Matters</td>\n",
              "      <td>Episode 75</td>\n",
              "      <td>64.84329</td>\n",
              "      <td>Music</td>\n",
              "      <td>80.86</td>\n",
              "      <td>Tuesday</td>\n",
              "      <td>Morning</td>\n",
              "      <td>51.904129</td>\n",
              "      <td>1.0</td>\n",
              "      <td>Neutral</td>\n",
              "    </tr>\n",
              "  </tbody>\n",
              "</table>\n",
              "<p>4272 rows × 11 columns</p>\n",
              "</div>\n",
              "    <div class=\"colab-df-buttons\">\n",
              "\n",
              "  <div class=\"colab-df-container\">\n",
              "    <button class=\"colab-df-convert\" onclick=\"convertToInteractive('df-b1ec3eb3-5f8a-418d-bde2-8e9d8129955c')\"\n",
              "            title=\"Convert this dataframe to an interactive table.\"\n",
              "            style=\"display:none;\">\n",
              "\n",
              "  <svg xmlns=\"http://www.w3.org/2000/svg\" height=\"24px\" viewBox=\"0 -960 960 960\">\n",
              "    <path d=\"M120-120v-720h720v720H120Zm60-500h600v-160H180v160Zm220 220h160v-160H400v160Zm0 220h160v-160H400v160ZM180-400h160v-160H180v160Zm440 0h160v-160H620v160ZM180-180h160v-160H180v160Zm440 0h160v-160H620v160Z\"/>\n",
              "  </svg>\n",
              "    </button>\n",
              "\n",
              "  <style>\n",
              "    .colab-df-container {\n",
              "      display:flex;\n",
              "      gap: 12px;\n",
              "    }\n",
              "\n",
              "    .colab-df-convert {\n",
              "      background-color: #E8F0FE;\n",
              "      border: none;\n",
              "      border-radius: 50%;\n",
              "      cursor: pointer;\n",
              "      display: none;\n",
              "      fill: #1967D2;\n",
              "      height: 32px;\n",
              "      padding: 0 0 0 0;\n",
              "      width: 32px;\n",
              "    }\n",
              "\n",
              "    .colab-df-convert:hover {\n",
              "      background-color: #E2EBFA;\n",
              "      box-shadow: 0px 1px 2px rgba(60, 64, 67, 0.3), 0px 1px 3px 1px rgba(60, 64, 67, 0.15);\n",
              "      fill: #174EA6;\n",
              "    }\n",
              "\n",
              "    .colab-df-buttons div {\n",
              "      margin-bottom: 4px;\n",
              "    }\n",
              "\n",
              "    [theme=dark] .colab-df-convert {\n",
              "      background-color: #3B4455;\n",
              "      fill: #D2E3FC;\n",
              "    }\n",
              "\n",
              "    [theme=dark] .colab-df-convert:hover {\n",
              "      background-color: #434B5C;\n",
              "      box-shadow: 0px 1px 3px 1px rgba(0, 0, 0, 0.15);\n",
              "      filter: drop-shadow(0px 1px 2px rgba(0, 0, 0, 0.3));\n",
              "      fill: #FFFFFF;\n",
              "    }\n",
              "  </style>\n",
              "\n",
              "    <script>\n",
              "      const buttonEl =\n",
              "        document.querySelector('#df-b1ec3eb3-5f8a-418d-bde2-8e9d8129955c button.colab-df-convert');\n",
              "      buttonEl.style.display =\n",
              "        google.colab.kernel.accessAllowed ? 'block' : 'none';\n",
              "\n",
              "      async function convertToInteractive(key) {\n",
              "        const element = document.querySelector('#df-b1ec3eb3-5f8a-418d-bde2-8e9d8129955c');\n",
              "        const dataTable =\n",
              "          await google.colab.kernel.invokeFunction('convertToInteractive',\n",
              "                                                    [key], {});\n",
              "        if (!dataTable) return;\n",
              "\n",
              "        const docLinkHtml = 'Like what you see? Visit the ' +\n",
              "          '<a target=\"_blank\" href=https://colab.research.google.com/notebooks/data_table.ipynb>data table notebook</a>'\n",
              "          + ' to learn more about interactive tables.';\n",
              "        element.innerHTML = '';\n",
              "        dataTable['output_type'] = 'display_data';\n",
              "        await google.colab.output.renderOutput(dataTable, element);\n",
              "        const docLink = document.createElement('div');\n",
              "        docLink.innerHTML = docLinkHtml;\n",
              "        element.appendChild(docLink);\n",
              "      }\n",
              "    </script>\n",
              "  </div>\n",
              "\n",
              "\n",
              "    <div id=\"df-f021a40e-2551-4bc6-bfd6-f80a6539e6cb\">\n",
              "      <button class=\"colab-df-quickchart\" onclick=\"quickchart('df-f021a40e-2551-4bc6-bfd6-f80a6539e6cb')\"\n",
              "                title=\"Suggest charts\"\n",
              "                style=\"display:none;\">\n",
              "\n",
              "<svg xmlns=\"http://www.w3.org/2000/svg\" height=\"24px\"viewBox=\"0 0 24 24\"\n",
              "     width=\"24px\">\n",
              "    <g>\n",
              "        <path d=\"M19 3H5c-1.1 0-2 .9-2 2v14c0 1.1.9 2 2 2h14c1.1 0 2-.9 2-2V5c0-1.1-.9-2-2-2zM9 17H7v-7h2v7zm4 0h-2V7h2v10zm4 0h-2v-4h2v4z\"/>\n",
              "    </g>\n",
              "</svg>\n",
              "      </button>\n",
              "\n",
              "<style>\n",
              "  .colab-df-quickchart {\n",
              "      --bg-color: #E8F0FE;\n",
              "      --fill-color: #1967D2;\n",
              "      --hover-bg-color: #E2EBFA;\n",
              "      --hover-fill-color: #174EA6;\n",
              "      --disabled-fill-color: #AAA;\n",
              "      --disabled-bg-color: #DDD;\n",
              "  }\n",
              "\n",
              "  [theme=dark] .colab-df-quickchart {\n",
              "      --bg-color: #3B4455;\n",
              "      --fill-color: #D2E3FC;\n",
              "      --hover-bg-color: #434B5C;\n",
              "      --hover-fill-color: #FFFFFF;\n",
              "      --disabled-bg-color: #3B4455;\n",
              "      --disabled-fill-color: #666;\n",
              "  }\n",
              "\n",
              "  .colab-df-quickchart {\n",
              "    background-color: var(--bg-color);\n",
              "    border: none;\n",
              "    border-radius: 50%;\n",
              "    cursor: pointer;\n",
              "    display: none;\n",
              "    fill: var(--fill-color);\n",
              "    height: 32px;\n",
              "    padding: 0;\n",
              "    width: 32px;\n",
              "  }\n",
              "\n",
              "  .colab-df-quickchart:hover {\n",
              "    background-color: var(--hover-bg-color);\n",
              "    box-shadow: 0 1px 2px rgba(60, 64, 67, 0.3), 0 1px 3px 1px rgba(60, 64, 67, 0.15);\n",
              "    fill: var(--button-hover-fill-color);\n",
              "  }\n",
              "\n",
              "  .colab-df-quickchart-complete:disabled,\n",
              "  .colab-df-quickchart-complete:disabled:hover {\n",
              "    background-color: var(--disabled-bg-color);\n",
              "    fill: var(--disabled-fill-color);\n",
              "    box-shadow: none;\n",
              "  }\n",
              "\n",
              "  .colab-df-spinner {\n",
              "    border: 2px solid var(--fill-color);\n",
              "    border-color: transparent;\n",
              "    border-bottom-color: var(--fill-color);\n",
              "    animation:\n",
              "      spin 1s steps(1) infinite;\n",
              "  }\n",
              "\n",
              "  @keyframes spin {\n",
              "    0% {\n",
              "      border-color: transparent;\n",
              "      border-bottom-color: var(--fill-color);\n",
              "      border-left-color: var(--fill-color);\n",
              "    }\n",
              "    20% {\n",
              "      border-color: transparent;\n",
              "      border-left-color: var(--fill-color);\n",
              "      border-top-color: var(--fill-color);\n",
              "    }\n",
              "    30% {\n",
              "      border-color: transparent;\n",
              "      border-left-color: var(--fill-color);\n",
              "      border-top-color: var(--fill-color);\n",
              "      border-right-color: var(--fill-color);\n",
              "    }\n",
              "    40% {\n",
              "      border-color: transparent;\n",
              "      border-right-color: var(--fill-color);\n",
              "      border-top-color: var(--fill-color);\n",
              "    }\n",
              "    60% {\n",
              "      border-color: transparent;\n",
              "      border-right-color: var(--fill-color);\n",
              "    }\n",
              "    80% {\n",
              "      border-color: transparent;\n",
              "      border-right-color: var(--fill-color);\n",
              "      border-bottom-color: var(--fill-color);\n",
              "    }\n",
              "    90% {\n",
              "      border-color: transparent;\n",
              "      border-bottom-color: var(--fill-color);\n",
              "    }\n",
              "  }\n",
              "</style>\n",
              "\n",
              "      <script>\n",
              "        async function quickchart(key) {\n",
              "          const quickchartButtonEl =\n",
              "            document.querySelector('#' + key + ' button');\n",
              "          quickchartButtonEl.disabled = true;  // To prevent multiple clicks.\n",
              "          quickchartButtonEl.classList.add('colab-df-spinner');\n",
              "          try {\n",
              "            const charts = await google.colab.kernel.invokeFunction(\n",
              "                'suggestCharts', [key], {});\n",
              "          } catch (error) {\n",
              "            console.error('Error during call to suggestCharts:', error);\n",
              "          }\n",
              "          quickchartButtonEl.classList.remove('colab-df-spinner');\n",
              "          quickchartButtonEl.classList.add('colab-df-quickchart-complete');\n",
              "        }\n",
              "        (() => {\n",
              "          let quickchartButtonEl =\n",
              "            document.querySelector('#df-f021a40e-2551-4bc6-bfd6-f80a6539e6cb button');\n",
              "          quickchartButtonEl.style.display =\n",
              "            google.colab.kernel.accessAllowed ? 'block' : 'none';\n",
              "        })();\n",
              "      </script>\n",
              "    </div>\n",
              "\n",
              "    </div>\n",
              "  </div>\n"
            ],
            "application/vnd.google.colaboratory.intrinsic+json": {
              "type": "dataframe",
              "summary": "{\n  \"name\": \"df_test\",\n  \"rows\": 4272,\n  \"fields\": [\n    {\n      \"column\": \"id\",\n      \"properties\": {\n        \"dtype\": \"number\",\n        \"std\": 71555,\n        \"min\": 750088,\n        \"max\": 999902,\n        \"num_unique_values\": 4272,\n        \"samples\": [\n          843388,\n          826780,\n          770767\n        ],\n        \"semantic_type\": \"\",\n        \"description\": \"\"\n      }\n    },\n    {\n      \"column\": \"Podcast_Name\",\n      \"properties\": {\n        \"dtype\": \"category\",\n        \"num_unique_values\": 1,\n        \"samples\": [\n          \"Music Matters\"\n        ],\n        \"semantic_type\": \"\",\n        \"description\": \"\"\n      }\n    },\n    {\n      \"column\": \"Episode_Title\",\n      \"properties\": {\n        \"dtype\": \"category\",\n        \"num_unique_values\": 100,\n        \"samples\": [\n          \"Episode 4\"\n        ],\n        \"semantic_type\": \"\",\n        \"description\": \"\"\n      }\n    },\n    {\n      \"column\": \"Episode_Length_minutes\",\n      \"properties\": {\n        \"dtype\": \"number\",\n        \"std\": 32.23087627399692,\n        \"min\": 5.008275889,\n        \"max\": 119.9,\n        \"num_unique_values\": 2831,\n        \"samples\": [\n          35.37\n        ],\n        \"semantic_type\": \"\",\n        \"description\": \"\"\n      }\n    },\n    {\n      \"column\": \"Genre\",\n      \"properties\": {\n        \"dtype\": \"category\",\n        \"num_unique_values\": 4,\n        \"samples\": [\n          \"Sports\"\n        ],\n        \"semantic_type\": \"\",\n        \"description\": \"\"\n      }\n    },\n    {\n      \"column\": \"Host_Popularity_percentage\",\n      \"properties\": {\n        \"dtype\": \"number\",\n        \"std\": 22.840461374836117,\n        \"min\": 20.01,\n        \"max\": 99.87,\n        \"num_unique_values\": 2988,\n        \"samples\": [\n          26.97\n        ],\n        \"semantic_type\": \"\",\n        \"description\": \"\"\n      }\n    },\n    {\n      \"column\": \"Publication_Day\",\n      \"properties\": {\n        \"dtype\": \"category\",\n        \"num_unique_values\": 7,\n        \"samples\": [\n          \"Thursday\"\n        ],\n        \"semantic_type\": \"\",\n        \"description\": \"\"\n      }\n    },\n    {\n      \"column\": \"Publication_Time\",\n      \"properties\": {\n        \"dtype\": \"category\",\n        \"num_unique_values\": 4,\n        \"samples\": [\n          \"Morning\"\n        ],\n        \"semantic_type\": \"\",\n        \"description\": \"\"\n      }\n    },\n    {\n      \"column\": \"Guest_Popularity_percentage\",\n      \"properties\": {\n        \"dtype\": \"number\",\n        \"std\": 25.6432028075249,\n        \"min\": 0.09,\n        \"max\": 99.99,\n        \"num_unique_values\": 2630,\n        \"samples\": [\n          75.37\n        ],\n        \"semantic_type\": \"\",\n        \"description\": \"\"\n      }\n    },\n    {\n      \"column\": \"Number_of_Ads\",\n      \"properties\": {\n        \"dtype\": \"number\",\n        \"std\": 1.0981431395559342,\n        \"min\": 0.0,\n        \"max\": 3.0,\n        \"num_unique_values\": 4,\n        \"samples\": [\n          1.0\n        ],\n        \"semantic_type\": \"\",\n        \"description\": \"\"\n      }\n    },\n    {\n      \"column\": \"Episode_Sentiment\",\n      \"properties\": {\n        \"dtype\": \"category\",\n        \"num_unique_values\": 3,\n        \"samples\": [\n          \"Positive\"\n        ],\n        \"semantic_type\": \"\",\n        \"description\": \"\"\n      }\n    }\n  ]\n}"
            }
          },
          "metadata": {},
          "execution_count": 84
        }
      ]
    },
    {
      "cell_type": "code",
      "source": [
        "cols = list(df.columns)\n",
        "cols.remove('Episode_Title')\n",
        "cols.remove('id')\n",
        "df = df.loc[:,cols]\n",
        "df.info()"
      ],
      "metadata": {
        "id": "Lgwa1frdZyzX",
        "colab": {
          "base_uri": "https://localhost:8080/"
        },
        "outputId": "2ea5a710-3799-478c-cd9d-71b612130fd0"
      },
      "execution_count": null,
      "outputs": [
        {
          "output_type": "stream",
          "name": "stdout",
          "text": [
            "<class 'pandas.core.frame.DataFrame'>\n",
            "Index: 749989 entries, 1 to 749984\n",
            "Data columns (total 10 columns):\n",
            " #   Column                       Non-Null Count   Dtype  \n",
            "---  ------                       --------------   -----  \n",
            " 0   Podcast_Name                 749989 non-null  object \n",
            " 1   Episode_Length_minutes       749989 non-null  float64\n",
            " 2   Genre                        749989 non-null  object \n",
            " 3   Host_Popularity_percentage   749989 non-null  float64\n",
            " 4   Publication_Day              749989 non-null  object \n",
            " 5   Publication_Time             749989 non-null  object \n",
            " 6   Guest_Popularity_percentage  749989 non-null  float64\n",
            " 7   Number_of_Ads                749989 non-null  float64\n",
            " 8   Episode_Sentiment            749989 non-null  object \n",
            " 9   Listening_Time_minutes       749989 non-null  float64\n",
            "dtypes: float64(5), object(5)\n",
            "memory usage: 62.9+ MB\n"
          ]
        }
      ]
    },
    {
      "cell_type": "code",
      "source": [
        "cols = list(df_test.columns)\n",
        "cols.remove('Episode_Title')\n",
        "cols.remove('id')\n",
        "df_test = df_test.loc[:,cols]\n",
        "df_test.info()"
      ],
      "metadata": {
        "colab": {
          "base_uri": "https://localhost:8080/"
        },
        "id": "PJ9h4Xtqd7uR",
        "outputId": "1bcdcd40-19ba-4a76-9b6c-bc5be738ab04"
      },
      "execution_count": null,
      "outputs": [
        {
          "output_type": "stream",
          "name": "stdout",
          "text": [
            "<class 'pandas.core.frame.DataFrame'>\n",
            "Index: 249996 entries, 0 to 249982\n",
            "Data columns (total 9 columns):\n",
            " #   Column                       Non-Null Count   Dtype  \n",
            "---  ------                       --------------   -----  \n",
            " 0   Podcast_Name                 249996 non-null  object \n",
            " 1   Episode_Length_minutes       249996 non-null  float64\n",
            " 2   Genre                        249996 non-null  object \n",
            " 3   Host_Popularity_percentage   249996 non-null  float64\n",
            " 4   Publication_Day              249996 non-null  object \n",
            " 5   Publication_Time             249996 non-null  object \n",
            " 6   Guest_Popularity_percentage  249996 non-null  float64\n",
            " 7   Number_of_Ads                249996 non-null  float64\n",
            " 8   Episode_Sentiment            249996 non-null  object \n",
            "dtypes: float64(4), object(5)\n",
            "memory usage: 19.1+ MB\n"
          ]
        }
      ]
    },
    {
      "cell_type": "code",
      "source": [
        "encoder = LabelEncoder()\n",
        "df.loc[:,'Genre'] = encoder.fit_transform(df.loc[:,'Genre'])\n",
        "df.loc[:,'Podcast_Name'] = encoder.fit_transform(df.loc[:,'Podcast_Name'])\n",
        "df.loc[:,'Publication_Day'] = encoder.fit_transform(df.loc[:,'Publication_Day'])\n",
        "df.loc[:,'Publication_Time'] = encoder.fit_transform(df.loc[:,'Publication_Time'])\n",
        "df.loc[:,'Episode_Sentiment'] = encoder.fit_transform(df.loc[:,'Episode_Sentiment'])\n",
        "df.info()"
      ],
      "metadata": {
        "id": "JooUYEprZ73m",
        "colab": {
          "base_uri": "https://localhost:8080/"
        },
        "outputId": "943bbf40-ef0d-4fa2-b4a0-791f3b11337f"
      },
      "execution_count": null,
      "outputs": [
        {
          "output_type": "stream",
          "name": "stdout",
          "text": [
            "<class 'pandas.core.frame.DataFrame'>\n",
            "Index: 749989 entries, 1 to 749984\n",
            "Data columns (total 10 columns):\n",
            " #   Column                       Non-Null Count   Dtype  \n",
            "---  ------                       --------------   -----  \n",
            " 0   Podcast_Name                 749989 non-null  object \n",
            " 1   Episode_Length_minutes       749989 non-null  float64\n",
            " 2   Genre                        749989 non-null  object \n",
            " 3   Host_Popularity_percentage   749989 non-null  float64\n",
            " 4   Publication_Day              749989 non-null  object \n",
            " 5   Publication_Time             749989 non-null  object \n",
            " 6   Guest_Popularity_percentage  749989 non-null  float64\n",
            " 7   Number_of_Ads                749989 non-null  float64\n",
            " 8   Episode_Sentiment            749989 non-null  object \n",
            " 9   Listening_Time_minutes       749989 non-null  float64\n",
            "dtypes: float64(5), object(5)\n",
            "memory usage: 62.9+ MB\n"
          ]
        }
      ]
    },
    {
      "cell_type": "code",
      "source": [
        "df_test.loc[:,'Genre'] = encoder.fit_transform(df_test.loc[:,'Genre'])\n",
        "df_test.loc[:,'Podcast_Name'] = encoder.fit_transform(df_test.loc[:,'Podcast_Name'])\n",
        "df_test.loc[:,'Publication_Day'] = encoder.fit_transform(df_test.loc[:,'Publication_Day'])\n",
        "df_test.loc[:,'Publication_Time'] = encoder.fit_transform(df_test.loc[:,'Publication_Time'])\n",
        "df_test.loc[:,'Episode_Sentiment'] = encoder.fit_transform(df_test.loc[:,'Episode_Sentiment'])\n",
        "df_test.info()"
      ],
      "metadata": {
        "colab": {
          "base_uri": "https://localhost:8080/"
        },
        "id": "U_5z8s_ZeOBK",
        "outputId": "73fe395f-7abe-47a6-e430-b4e212e38d84"
      },
      "execution_count": null,
      "outputs": [
        {
          "output_type": "stream",
          "name": "stdout",
          "text": [
            "<class 'pandas.core.frame.DataFrame'>\n",
            "Index: 249996 entries, 0 to 249982\n",
            "Data columns (total 9 columns):\n",
            " #   Column                       Non-Null Count   Dtype  \n",
            "---  ------                       --------------   -----  \n",
            " 0   Podcast_Name                 249996 non-null  object \n",
            " 1   Episode_Length_minutes       249996 non-null  float64\n",
            " 2   Genre                        249996 non-null  object \n",
            " 3   Host_Popularity_percentage   249996 non-null  float64\n",
            " 4   Publication_Day              249996 non-null  object \n",
            " 5   Publication_Time             249996 non-null  object \n",
            " 6   Guest_Popularity_percentage  249996 non-null  float64\n",
            " 7   Number_of_Ads                249996 non-null  float64\n",
            " 8   Episode_Sentiment            249996 non-null  object \n",
            "dtypes: float64(4), object(5)\n",
            "memory usage: 19.1+ MB\n"
          ]
        }
      ]
    },
    {
      "cell_type": "code",
      "source": [
        "for col in df.columns:\n",
        "    if df[col].dtype == 'object':\n",
        "        df[col] = df[col].astype('int')\n",
        "df.info()"
      ],
      "metadata": {
        "colab": {
          "base_uri": "https://localhost:8080/"
        },
        "id": "U_gI7G2SDzYi",
        "outputId": "b108a469-3b77-43d6-df89-1a7e785e6a63"
      },
      "execution_count": null,
      "outputs": [
        {
          "output_type": "stream",
          "name": "stdout",
          "text": [
            "<class 'pandas.core.frame.DataFrame'>\n",
            "Index: 749989 entries, 1 to 749984\n",
            "Data columns (total 10 columns):\n",
            " #   Column                       Non-Null Count   Dtype  \n",
            "---  ------                       --------------   -----  \n",
            " 0   Podcast_Name                 749989 non-null  int64  \n",
            " 1   Episode_Length_minutes       749989 non-null  float64\n",
            " 2   Genre                        749989 non-null  int64  \n",
            " 3   Host_Popularity_percentage   749989 non-null  float64\n",
            " 4   Publication_Day              749989 non-null  int64  \n",
            " 5   Publication_Time             749989 non-null  int64  \n",
            " 6   Guest_Popularity_percentage  749989 non-null  float64\n",
            " 7   Number_of_Ads                749989 non-null  float64\n",
            " 8   Episode_Sentiment            749989 non-null  int64  \n",
            " 9   Listening_Time_minutes       749989 non-null  float64\n",
            "dtypes: float64(5), int64(5)\n",
            "memory usage: 62.9 MB\n"
          ]
        }
      ]
    },
    {
      "cell_type": "code",
      "source": [
        "for col in df_test.columns:\n",
        "    if df_test[col].dtype == 'object':\n",
        "        df_test[col] = df_test[col].astype('int')\n",
        "df_test.info()"
      ],
      "metadata": {
        "colab": {
          "base_uri": "https://localhost:8080/"
        },
        "id": "k9r1wjLseaPW",
        "outputId": "2acb017c-5af2-445d-bd38-6a0b5c3d6253"
      },
      "execution_count": null,
      "outputs": [
        {
          "output_type": "stream",
          "name": "stdout",
          "text": [
            "<class 'pandas.core.frame.DataFrame'>\n",
            "Index: 249996 entries, 0 to 249982\n",
            "Data columns (total 9 columns):\n",
            " #   Column                       Non-Null Count   Dtype  \n",
            "---  ------                       --------------   -----  \n",
            " 0   Podcast_Name                 249996 non-null  int64  \n",
            " 1   Episode_Length_minutes       249996 non-null  float64\n",
            " 2   Genre                        249996 non-null  int64  \n",
            " 3   Host_Popularity_percentage   249996 non-null  float64\n",
            " 4   Publication_Day              249996 non-null  int64  \n",
            " 5   Publication_Time             249996 non-null  int64  \n",
            " 6   Guest_Popularity_percentage  249996 non-null  float64\n",
            " 7   Number_of_Ads                249996 non-null  float64\n",
            " 8   Episode_Sentiment            249996 non-null  int64  \n",
            "dtypes: float64(4), int64(5)\n",
            "memory usage: 19.1 MB\n"
          ]
        }
      ]
    },
    {
      "cell_type": "markdown",
      "source": [
        "### training and testing on train data"
      ],
      "metadata": {
        "id": "tDMVRSPvfx4B"
      }
    },
    {
      "cell_type": "code",
      "source": [
        "features, target = df.drop(['Listening_Time_minutes','Podcast_Name'], axis=1), df['Listening_Time_minutes']\n",
        "cm = features.corr()\n",
        "sns.heatmap(cm, annot=True, cmap='coolwarm', fmt='.2f', linewidths=0.5)\n",
        "plt.show()"
      ],
      "metadata": {
        "colab": {
          "base_uri": "https://localhost:8080/",
          "height": 594
        },
        "id": "KmdNhFO4nNuM",
        "outputId": "9a6fb61c-7a70-4a19-837d-fe4d2c39dbe1"
      },
      "execution_count": null,
      "outputs": [
        {
          "output_type": "display_data",
          "data": {
            "text/plain": [
              "<Figure size 640x480 with 2 Axes>"
            ],
            "image/png": "[encoded data removed]"
          },
          "metadata": {}
        }
      ]
    },
    {
      "cell_type": "code",
      "source": [
        "features, target = df.drop(['Listening_Time_minutes','Podcast_Name'], axis=1), df['Listening_Time_minutes']\n",
        "# features = MinMaxScaler().fit_transform(features)\n",
        "X_train, X_test, y_train, y_test = train_test_split(features, target, test_size=0.2, random_state=42)"
      ],
      "metadata": {
        "id": "bIanDcuxBwl0"
      },
      "execution_count": null,
      "outputs": []
    },
    {
      "cell_type": "code",
      "source": [
        "model_xgb = XGBRegressor()\n",
        "model_xgb.fit(X_train, y_train)\n",
        "y_pred = model_xgb.predict(X_test)"
      ],
      "metadata": {
        "id": "Qcs5nwPRh6YO"
      },
      "execution_count": null,
      "outputs": []
    },
    {
      "cell_type": "code",
      "source": [
        "mse = mean_squared_error(y_test, y_pred)\n",
        "rmse = np.sqrt(mse)\n",
        "print(f\"Root Mean Squared Error: {rmse:.2f}\")"
      ],
      "metadata": {
        "colab": {
          "base_uri": "https://localhost:8080/"
        },
        "id": "z6bVevlYenAx",
        "outputId": "e58796a2-0a53-486f-c8bd-11e3ecd66e75"
      },
      "execution_count": null,
      "outputs": [
        {
          "output_type": "stream",
          "name": "stdout",
          "text": [
            "Root Mean Squared Error: 13.03\n"
          ]
        }
      ]
    }
  ]
}