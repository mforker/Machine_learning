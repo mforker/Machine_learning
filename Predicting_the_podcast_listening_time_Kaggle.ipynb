{
  "nbformat": 4,
  "nbformat_minor": 0,
  "metadata": {
    "colab": {
      "provenance": [],
      "authorship_tag": "ABX9TyNJ6n2E8CMXiVZRFfpVlVU+",
      "include_colab_link": true
    },
    "kernelspec": {
      "name": "python3",
      "display_name": "Python 3"
    },
    "language_info": {
      "name": "python"
    }
  },
  "cells": [
    {
      "cell_type": "markdown",
      "metadata": {
        "id": "view-in-github",
        "colab_type": "text"
      },
      "source": [
        "<a href=\"https://colab.research.google.com/github/mforker/Machine_learning/blob/main/Predicting_the_podcast_listening_time_Kaggle.ipynb\" target=\"_parent\"><img src=\"https://colab.research.google.com/assets/colab-badge.svg\" alt=\"Open In Colab\"/></a>"
      ]
    },
    {
      "cell_type": "markdown",
      "source": [
        "# Predicting Podcast Listening Time - Kaggle\n",
        "\n",
        "This notebook provides a detailed walkthrough of the code used to predict podcast listening time from the given dataset.\n",
        "\n",
        "## 1. Importing Libraries\n",
        "\n",
        "The following Python libraries are essential for this analysis:\n",
        "\n",
        "- `pandas (pd)`: For data manipulation and handling.\n",
        "- `numpy (np)`: For numerical computations.\n",
        "- `matplotlib.pyplot (plt)`: For data visualization.\n",
        "- `seaborn (sns)`: For enhanced data visualization.\n",
        "- `xgboost (XGBRegressor)`: For implementing the XGBoost regression model.\n",
        "- `sklearn.model_selection`: For splitting the data into training and testing sets.\n",
        "- `sklearn.preprocessing`: For encoding categorical features and scaling numerical features.\n",
        "- `sklearn.metrics`: For evaluating the model's performance."
      ],
      "metadata": {
        "id": "-c-qUdvo4Syf"
      }
    },
    {
      "cell_type": "code",
      "execution_count": null,
      "metadata": {
        "id": "z3sLWAMxIKDB"
      },
      "outputs": [],
      "source": [
        "import pandas as pd\n",
        "import numpy as np\n",
        "import matplotlib.pyplot as plt\n",
        "import seaborn as sns\n",
        "from xgboost import XGBRegressor\n",
        "from sklearn.model_selection import train_test_split\n",
        "from sklearn.preprocessing import LabelEncoder, MinMaxScaler\n",
        "from sklearn.metrics import root_mean_squared_error\n"
      ]
    },
    {
      "cell_type": "markdown",
      "source": [
        "## 2. Loading the Data\n",
        "\n",
        "The code loads the training and testing datasets from CSV files into pandas DataFrames."
      ],
      "metadata": {
        "id": "KTJuuFzZMqkG"
      }
    },
    {
      "cell_type": "code",
      "source": [
        "df = pd.read_csv('train.csv')\n",
        "df_test = pd.read_csv('test.csv')\n",
        "\n",
        "print(df.info())\n",
        "print(df_test.info())"
      ],
      "metadata": {
        "colab": {
          "base_uri": "https://localhost:8080/"
        },
        "id": "kN908G0c2Sru",
        "outputId": "91e9f9f2-e046-49e7-cd90-e144c6014167"
      },
      "execution_count": null,
      "outputs": [
        {
          "output_type": "stream",
          "name": "stdout",
          "text": [
            "<class 'pandas.core.frame.DataFrame'>\n",
            "RangeIndex: 750000 entries, 0 to 749999\n",
            "Data columns (total 12 columns):\n",
            " #   Column                       Non-Null Count   Dtype  \n",
            "---  ------                       --------------   -----  \n",
            " 0   id                           750000 non-null  int64  \n",
            " 1   Podcast_Name                 750000 non-null  object \n",
            " 2   Episode_Title                750000 non-null  object \n",
            " 3   Episode_Length_minutes       662907 non-null  float64\n",
            " 4   Genre                        750000 non-null  object \n",
            " 5   Host_Popularity_percentage   750000 non-null  float64\n",
            " 6   Publication_Day              750000 non-null  object \n",
            " 7   Publication_Time             750000 non-null  object \n",
            " 8   Guest_Popularity_percentage  603970 non-null  float64\n",
            " 9   Number_of_Ads                749999 non-null  float64\n",
            " 10  Episode_Sentiment            750000 non-null  object \n",
            " 11  Listening_Time_minutes       750000 non-null  float64\n",
            "dtypes: float64(5), int64(1), object(6)\n",
            "memory usage: 68.7+ MB\n",
            "None\n",
            "<class 'pandas.core.frame.DataFrame'>\n",
            "RangeIndex: 250000 entries, 0 to 249999\n",
            "Data columns (total 11 columns):\n",
            " #   Column                       Non-Null Count   Dtype  \n",
            "---  ------                       --------------   -----  \n",
            " 0   id                           250000 non-null  int64  \n",
            " 1   Podcast_Name                 250000 non-null  object \n",
            " 2   Episode_Title                250000 non-null  object \n",
            " 3   Episode_Length_minutes       221264 non-null  float64\n",
            " 4   Genre                        250000 non-null  object \n",
            " 5   Host_Popularity_percentage   250000 non-null  float64\n",
            " 6   Publication_Day              250000 non-null  object \n",
            " 7   Publication_Time             250000 non-null  object \n",
            " 8   Guest_Popularity_percentage  201168 non-null  float64\n",
            " 9   Number_of_Ads                250000 non-null  float64\n",
            " 10  Episode_Sentiment            250000 non-null  object \n",
            "dtypes: float64(4), int64(1), object(6)\n",
            "memory usage: 21.0+ MB\n",
            "None\n"
          ]
        }
      ]
    },
    {
      "cell_type": "markdown",
      "source": [
        "\n",
        "## 3. Initial Data Inspection\n",
        "\n",
        "The code prints the information (data types and non-null counts) and shape (number of rows and columns) of the training and testing sets. This step helps in understanding the structure of the data and identifying potential issues like missing values.\n"
      ],
      "metadata": {
        "id": "BpyGBfvd5Ubi"
      }
    },
    {
      "cell_type": "code",
      "source": [
        "print(df.shape)\n",
        "print(df_test.shape)"
      ],
      "metadata": {
        "colab": {
          "base_uri": "https://localhost:8080/"
        },
        "id": "mXGn1dMLPRch",
        "outputId": "d0de5dc2-5aaa-458d-9770-f46f90f7e300"
      },
      "execution_count": null,
      "outputs": [
        {
          "output_type": "stream",
          "name": "stdout",
          "text": [
            "(750000, 12)\n",
            "(250000, 11)\n"
          ]
        }
      ]
    },
    {
      "cell_type": "code",
      "source": [
        "print('--------------train data----------')\n",
        "print(df.isna().sum())\n",
        "print('--------------test data------------')\n",
        "print(df_test.isna().sum())"
      ],
      "metadata": {
        "colab": {
          "base_uri": "https://localhost:8080/"
        },
        "id": "-s5JDWUMPBVs",
        "outputId": "88f69f66-a50d-49f6-c375-b3107eb88a0e"
      },
      "execution_count": null,
      "outputs": [
        {
          "output_type": "stream",
          "name": "stdout",
          "text": [
            "--------------train data----------\n",
            "id                                  0\n",
            "Podcast_Name                        0\n",
            "Episode_Title                       0\n",
            "Episode_Length_minutes          87093\n",
            "Genre                               0\n",
            "Host_Popularity_percentage          0\n",
            "Publication_Day                     0\n",
            "Publication_Time                    0\n",
            "Guest_Popularity_percentage    146030\n",
            "Number_of_Ads                       1\n",
            "Episode_Sentiment                   0\n",
            "Listening_Time_minutes              0\n",
            "dtype: int64\n",
            "--------------test data------------\n",
            "id                                 0\n",
            "Podcast_Name                       0\n",
            "Episode_Title                      0\n",
            "Episode_Length_minutes         28736\n",
            "Genre                              0\n",
            "Host_Popularity_percentage         0\n",
            "Publication_Day                    0\n",
            "Publication_Time                   0\n",
            "Guest_Popularity_percentage    48832\n",
            "Number_of_Ads                      0\n",
            "Episode_Sentiment                  0\n",
            "dtype: int64\n"
          ]
        }
      ]
    },
    {
      "cell_type": "code",
      "source": [
        "df = df[~df['Number_of_Ads'].isna()]\n",
        "print('train data shape:',df.shape)\n",
        "\n",
        "df_test = df_test[~df_test['Number_of_Ads'].isna()]\n",
        "print('test data shape:',df_test.shape)"
      ],
      "metadata": {
        "colab": {
          "base_uri": "https://localhost:8080/"
        },
        "id": "ZniCCbK0PsXm",
        "outputId": "3b6668d2-163e-4459-a7c1-62881d6f963a"
      },
      "execution_count": null,
      "outputs": [
        {
          "output_type": "stream",
          "name": "stdout",
          "text": [
            "train data shape: (749999, 12)\n",
            "test data shape: (250000, 11)\n"
          ]
        }
      ]
    },
    {
      "cell_type": "markdown",
      "source": [
        "## 4. Handling Duplicates\n",
        "\n",
        "Duplicate rows are removed from both the training and testing sets to ensure data integrity.\n"
      ],
      "metadata": {
        "id": "xCRaOSAo5fgJ"
      }
    },
    {
      "cell_type": "code",
      "source": [
        "df = df.drop_duplicates()\n",
        "df_test = df_test.drop_duplicates()\n",
        "print(df.shape)\n",
        "print(df_test.shape)"
      ],
      "metadata": {
        "colab": {
          "base_uri": "https://localhost:8080/"
        },
        "id": "9qH3W4-F3DCh",
        "outputId": "49832c18-fecb-4a0e-b2f4-2e2f993353f3"
      },
      "execution_count": null,
      "outputs": [
        {
          "output_type": "stream",
          "name": "stdout",
          "text": [
            "(750000, 12)\n",
            "(250000, 11)\n"
          ]
        }
      ]
    },
    {
      "cell_type": "markdown",
      "source": [
        "## 6. Outlier Detection and Removal\n",
        "\n",
        "Box plots are used to visualize the distribution of `Episode_Length_minutes` and `Number_of_Ads` in the training data, helping to identify potential outliers. Outliers are removed using the IQR method.\n"
      ],
      "metadata": {
        "id": "myyFt79i6CFc"
      }
    },
    {
      "cell_type": "code",
      "source": [
        "#plotting outliers for train data\n",
        "sns.boxplot(x = df['Episode_Length_minutes'])\n",
        "plt.xlabel('Episode Length (Minutes)')\n",
        "plt.title('Boxplot of Episode Lengths')\n",
        "plt.show()"
      ],
      "metadata": {
        "colab": {
          "base_uri": "https://localhost:8080/",
          "height": 472
        },
        "id": "-88II55rYHf5",
        "outputId": "713b7d68-7967-4a00-e8e3-e50f7e5ac86f"
      },
      "execution_count": null,
      "outputs": [
        {
          "output_type": "display_data",
          "data": {
            "text/plain": [
              "<Figure size 640x480 with 1 Axes>"
            ],
            "image/png": "[encoded data removed]"
          },
          "metadata": {}
        }
      ]
    },
    {
      "cell_type": "code",
      "source": [
        "#plotting outliers for train data\n",
        "sns.boxplot(x = df['Number_of_Ads'])\n",
        "plt.xlabel('Number_of_Ads')\n",
        "plt.title('Boxplot of Number_of_Ads')\n",
        "plt.show()"
      ],
      "metadata": {
        "colab": {
          "base_uri": "https://localhost:8080/",
          "height": 472
        },
        "id": "sZYCwXL_ZBGk",
        "outputId": "e9dbfeb6-7f54-41b8-87f4-2445098aaa72"
      },
      "execution_count": null,
      "outputs": [
        {
          "output_type": "display_data",
          "data": {
            "text/plain": [
              "<Figure size 640x480 with 1 Axes>"
            ],
            "image/png": "[encoded data removed]"
          },
          "metadata": {}
        }
      ]
    },
    {
      "cell_type": "code",
      "source": [
        "# removing outliers for train data\n",
        "q1 = df['Episode_Length_minutes'].quantile(0.25)\n",
        "q3 = df['Episode_Length_minutes'].quantile(0.75)\n",
        "iqr = q3 - q1\n",
        "lower_bound = q1 - 1.5 * iqr\n",
        "upper_bound = q3 + 1.5 * iqr\n",
        "df_nan = df[df['Episode_Length_minutes'].isna()]\n",
        "df = df[~df['Episode_Length_minutes'].isna()]\n",
        "df = df[(df['Episode_Length_minutes'] >= lower_bound) & (df['Episode_Length_minutes'] <= upper_bound)]\n",
        "df = pd.concat([df,df_nan])\n",
        "print(df.shape)"
      ],
      "metadata": {
        "colab": {
          "base_uri": "https://localhost:8080/"
        },
        "id": "-AFbLYmbG74c",
        "outputId": "b2c51212-9ab8-4e5f-cf6a-91a66f56d427"
      },
      "execution_count": null,
      "outputs": [
        {
          "output_type": "stream",
          "name": "stdout",
          "text": [
            "(749998, 12)\n"
          ]
        }
      ]
    },
    {
      "cell_type": "code",
      "source": [
        "# removing outliers for train data\n",
        "q1 = df['Number_of_Ads'].quantile(0.25)\n",
        "q3 = df['Number_of_Ads'].quantile(0.75)\n",
        "iqr = q3 - q1\n",
        "lower_bound = q1 - 1.5 * iqr\n",
        "upper_bound = q3 + 1.5 * iqr\n",
        "df_nan = df[df['Number_of_Ads'].isna()]\n",
        "df = df[~df['Number_of_Ads'].isna()]\n",
        "df = df[(df['Number_of_Ads'] >= lower_bound) & (df['Number_of_Ads'] <= upper_bound)]\n",
        "df = pd.concat([df,df_nan])\n",
        "print(df.shape)"
      ],
      "metadata": {
        "colab": {
          "base_uri": "https://localhost:8080/"
        },
        "id": "4K3mh4e3ZFGl",
        "outputId": "af21fd2a-9d86-42a1-faa9-a776cc3504f0"
      },
      "execution_count": null,
      "outputs": [
        {
          "output_type": "stream",
          "name": "stdout",
          "text": [
            "(749989, 12)\n"
          ]
        }
      ]
    },
    {
      "cell_type": "markdown",
      "source": [
        "## 7. Imputing Missing Values\n",
        "\n",
        "Missing values in `Episode_Length_minutes` are imputed using the mean episode length for each podcast, and missing values in `Guest_Popularity_percentage` are imputed using the mean popularity for each genre. This is done for both the training and test sets.\n"
      ],
      "metadata": {
        "id": "TzAY93Lm6H0N"
      }
    },
    {
      "cell_type": "code",
      "source": [
        "# imputing Episode Length Minutes train data\n",
        "mean_len = df.groupby('Podcast_Name')['Episode_Length_minutes'].mean().reset_index(name = 'Mean_Dur')\n",
        "mean_len_map = mean_len.set_index('Podcast_Name')['Mean_Dur'].to_dict()\n",
        "mean_len_map\n"
      ],
      "metadata": {
        "colab": {
          "base_uri": "https://localhost:8080/"
        },
        "collapsed": true,
        "id": "d9KZjKRmQKLf",
        "outputId": "d9ed1954-d2d8-4e1d-93cd-deaac36c2f26"
      },
      "execution_count": null,
      "outputs": [
        {
          "output_type": "execute_result",
          "data": {
            "text/plain": [
              "{\"Athlete's Arena\": 65.84145002666152,\n",
              " 'Brain Boost': 63.45841916371799,\n",
              " 'Business Briefs': 66.67273117600233,\n",
              " 'Business Insights': 62.85052578646617,\n",
              " 'Comedy Corner': 62.63415984873937,\n",
              " 'Crime Chronicles': 66.09306282286539,\n",
              " 'Criminal Minds': 61.44970857441532,\n",
              " 'Current Affairs': 62.01022120059374,\n",
              " 'Daily Digest': 65.28976221517944,\n",
              " 'Detective Diaries': 65.83168232027475,\n",
              " 'Digital Digest': 63.4173656755638,\n",
              " 'Educational Nuggets': 65.06675002035371,\n",
              " 'Fashion Forward': 64.62641731163349,\n",
              " 'Finance Focus': 62.0513269868116,\n",
              " 'Fitness First': 65.38452896585173,\n",
              " 'Funny Folks': 63.73354234956822,\n",
              " 'Gadget Geek': 65.03048366346326,\n",
              " 'Game Day': 62.7135723936742,\n",
              " 'Global News': 65.77577336517001,\n",
              " 'Health Hour': 64.41884199562652,\n",
              " 'Healthy Living': 64.53538735710995,\n",
              " 'Home & Living': 66.50949387549903,\n",
              " 'Humor Hub': 65.41717706239568,\n",
              " 'Innovators': 64.52611539726462,\n",
              " 'Joke Junction': 61.348252092201896,\n",
              " 'Laugh Line': 63.03206505745214,\n",
              " 'Learning Lab': 65.2761204178481,\n",
              " 'Life Lessons': 64.58458663705046,\n",
              " 'Lifestyle Lounge': 64.30525008571662,\n",
              " 'Market Masters': 65.20796240727051,\n",
              " 'Melody Mix': 67.9097364390318,\n",
              " 'Mind & Body': 66.28200243170421,\n",
              " 'Money Matters': 66.89709626346625,\n",
              " 'Music Matters': 65.19286744002962,\n",
              " 'Mystery Matters': 64.3884612689252,\n",
              " 'News Roundup': 61.108864215386326,\n",
              " 'Sound Waves': 64.0740686061277,\n",
              " 'Sport Spot': 64.51232737636283,\n",
              " 'Sports Central': 60.80670948747911,\n",
              " 'Sports Weekly': 67.11740574405195,\n",
              " 'Study Sessions': 65.980351101018,\n",
              " 'Style Guide': 64.39016450927645,\n",
              " 'Tech Talks': 64.30774070262983,\n",
              " 'Tech Trends': 63.16688750312118,\n",
              " 'True Crime Stories': 64.94377054370266,\n",
              " 'Tune Time': 66.07705168437427,\n",
              " 'Wellness Wave': 65.54562688575768,\n",
              " 'World Watch': 63.52654019797761}"
            ]
          },
          "metadata": {},
          "execution_count": 105
        }
      ]
    },
    {
      "cell_type": "code",
      "source": [
        "# imputing Guest_Popularity_percentage train data\n",
        "pop_rating_gener = df.groupby('Genre')['Guest_Popularity_percentage'].mean().reset_index(name = 'Mean_Pop')\n",
        "rating_map = pop_rating_gener.set_index('Genre')['Mean_Pop'].to_dict()\n",
        "rating_map"
      ],
      "metadata": {
        "colab": {
          "base_uri": "https://localhost:8080/"
        },
        "id": "QrEQMvyOWIi6",
        "outputId": "06f7c7f0-aea9-4e93-f416-c9b9fe902604"
      },
      "execution_count": null,
      "outputs": [
        {
          "output_type": "execute_result",
          "data": {
            "text/plain": [
              "{'Business': 51.22199563894205,\n",
              " 'Comedy': 53.36126372340106,\n",
              " 'Education': 52.3152052570545,\n",
              " 'Health': 51.441465000343804,\n",
              " 'Lifestyle': 51.757591048236094,\n",
              " 'Music': 52.054404132064754,\n",
              " 'News': 52.43683772161711,\n",
              " 'Sports': 53.077234609328485,\n",
              " 'Technology': 51.83673721373768,\n",
              " 'True Crime': 52.714811690746025}"
            ]
          },
          "metadata": {},
          "execution_count": 106
        }
      ]
    },
    {
      "cell_type": "code",
      "source": [
        "df.loc[df['Guest_Popularity_percentage'].isna(),'Guest_Popularity_percentage'] = (df.loc[df['Guest_Popularity_percentage'].isna(),'Genre'].map(rating_map))\n",
        "print(df.isna().sum())"
      ],
      "metadata": {
        "colab": {
          "base_uri": "https://localhost:8080/"
        },
        "id": "Blx6uNpGXVp-",
        "outputId": "062b8421-4481-4bfa-db14-23acfc25e09a"
      },
      "execution_count": null,
      "outputs": [
        {
          "output_type": "stream",
          "name": "stdout",
          "text": [
            "id                                 0\n",
            "Podcast_Name                       0\n",
            "Episode_Title                      0\n",
            "Episode_Length_minutes         87093\n",
            "Genre                              0\n",
            "Host_Popularity_percentage         0\n",
            "Publication_Day                    0\n",
            "Publication_Time                   0\n",
            "Guest_Popularity_percentage        0\n",
            "Number_of_Ads                      0\n",
            "Episode_Sentiment                  0\n",
            "Listening_Time_minutes             0\n",
            "dtype: int64\n"
          ]
        }
      ]
    },
    {
      "cell_type": "code",
      "source": [
        "df.loc[df['Episode_Length_minutes'].isna(),'Episode_Length_minutes'] = (df.loc[df['Episode_Length_minutes'].isna(),'Podcast_Name'].map(mean_len_map))\n",
        "print(df.isna().sum())\n",
        "df.loc[df['Podcast_Name']=='Music Matters',:]"
      ],
      "metadata": {
        "colab": {
          "base_uri": "https://localhost:8080/",
          "height": 679
        },
        "id": "YAl7rOh_RGwG",
        "outputId": "34642ba7-7655-4fc1-9254-3bc0d43f9e7c"
      },
      "execution_count": null,
      "outputs": [
        {
          "output_type": "stream",
          "name": "stdout",
          "text": [
            "id                             0\n",
            "Podcast_Name                   0\n",
            "Episode_Title                  0\n",
            "Episode_Length_minutes         0\n",
            "Genre                          0\n",
            "Host_Popularity_percentage     0\n",
            "Publication_Day                0\n",
            "Publication_Time               0\n",
            "Guest_Popularity_percentage    0\n",
            "Number_of_Ads                  0\n",
            "Episode_Sentiment              0\n",
            "Listening_Time_minutes         0\n",
            "dtype: int64\n"
          ]
        },
        {
          "output_type": "execute_result",
          "data": {
            "text/plain": [
              "            id   Podcast_Name Episode_Title  Episode_Length_minutes  Genre  \\\n",
              "38          38  Music Matters    Episode 32               86.840000  Music   \n",
              "64          64  Music Matters    Episode 69               81.130000  Music   \n",
              "85          85  Music Matters    Episode 23                9.730000  Music   \n",
              "127        127  Music Matters    Episode 59               64.570000  Music   \n",
              "209        209  Music Matters    Episode 21               85.180000  Music   \n",
              "...        ...            ...           ...                     ...    ...   \n",
              "745564  745564  Music Matters    Episode 45               65.192867  Music   \n",
              "745642  745642  Music Matters    Episode 69               65.192867  Music   \n",
              "748086  748086  Music Matters    Episode 85               65.192867  Music   \n",
              "749364  749364  Music Matters    Episode 34               65.192867  Music   \n",
              "749812  749812  Music Matters    Episode 48               65.192867  Music   \n",
              "\n",
              "        Host_Popularity_percentage Publication_Day Publication_Time  \\\n",
              "38                           86.65        Thursday          Morning   \n",
              "64                           66.37       Wednesday          Evening   \n",
              "85                           31.68         Tuesday          Morning   \n",
              "127                          84.75        Thursday          Morning   \n",
              "209                          85.61       Wednesday          Evening   \n",
              "...                            ...             ...              ...   \n",
              "745564                       71.76         Tuesday            Night   \n",
              "745642                       23.22          Sunday        Afternoon   \n",
              "748086                       41.10        Saturday        Afternoon   \n",
              "749364                       76.19          Friday          Morning   \n",
              "749812                       37.21        Saturday          Evening   \n",
              "\n",
              "        Guest_Popularity_percentage  Number_of_Ads Episode_Sentiment  \\\n",
              "38                        28.270000            1.0           Neutral   \n",
              "64                        97.430000            1.0          Negative   \n",
              "85                        52.060000            1.0           Neutral   \n",
              "127                       52.054404            1.0           Neutral   \n",
              "209                       96.450000            1.0           Neutral   \n",
              "...                             ...            ...               ...   \n",
              "745564                    33.560000            2.0          Negative   \n",
              "745642                    18.900000            0.0          Negative   \n",
              "748086                    79.400000            0.0          Positive   \n",
              "749364                    99.080000            3.0          Positive   \n",
              "749812                     1.510000            1.0          Positive   \n",
              "\n",
              "        Listening_Time_minutes  \n",
              "38                    81.49839  \n",
              "64                    55.97010  \n",
              "85                     6.01368  \n",
              "127                   53.49181  \n",
              "209                   73.71758  \n",
              "...                        ...  \n",
              "745564                97.47198  \n",
              "745642                66.61818  \n",
              "748086                91.31101  \n",
              "749364                51.55510  \n",
              "749812                 0.00000  \n",
              "\n",
              "[12652 rows x 12 columns]"
            ],
            "text/html": [
              "\n",
              "  <div id=\"df-bec8e587-d901-49df-855f-2e67316cfe90\" class=\"colab-df-container\">\n",
              "    <div>\n",
              "<style scoped>\n",
              "    .dataframe tbody tr th:only-of-type {\n",
              "        vertical-align: middle;\n",
              "    }\n",
              "\n",
              "    .dataframe tbody tr th {\n",
              "        vertical-align: top;\n",
              "    }\n",
              "\n",
              "    .dataframe thead th {\n",
              "        text-align: right;\n",
              "    }\n",
              "</style>\n",
              "<table border=\"1\" class=\"dataframe\">\n",
              "  <thead>\n",
              "    <tr style=\"text-align: right;\">\n",
              "      <th></th>\n",
              "      <th>id</th>\n",
              "      <th>Podcast_Name</th>\n",
              "      <th>Episode_Title</th>\n",
              "      <th>Episode_Length_minutes</th>\n",
              "      <th>Genre</th>\n",
              "      <th>Host_Popularity_percentage</th>\n",
              "      <th>Publication_Day</th>\n",
              "      <th>Publication_Time</th>\n",
              "      <th>Guest_Popularity_percentage</th>\n",
              "      <th>Number_of_Ads</th>\n",
              "      <th>Episode_Sentiment</th>\n",
              "      <th>Listening_Time_minutes</th>\n",
              "    </tr>\n",
              "  </thead>\n",
              "  <tbody>\n",
              "    <tr>\n",
              "      <th>38</th>\n",
              "      <td>38</td>\n",
              "      <td>Music Matters</td>\n",
              "      <td>Episode 32</td>\n",
              "      <td>86.840000</td>\n",
              "      <td>Music</td>\n",
              "      <td>86.65</td>\n",
              "      <td>Thursday</td>\n",
              "      <td>Morning</td>\n",
              "      <td>28.270000</td>\n",
              "      <td>1.0</td>\n",
              "      <td>Neutral</td>\n",
              "      <td>81.49839</td>\n",
              "    </tr>\n",
              "    <tr>\n",
              "      <th>64</th>\n",
              "      <td>64</td>\n",
              "      <td>Music Matters</td>\n",
              "      <td>Episode 69</td>\n",
              "      <td>81.130000</td>\n",
              "      <td>Music</td>\n",
              "      <td>66.37</td>\n",
              "      <td>Wednesday</td>\n",
              "      <td>Evening</td>\n",
              "      <td>97.430000</td>\n",
              "      <td>1.0</td>\n",
              "      <td>Negative</td>\n",
              "      <td>55.97010</td>\n",
              "    </tr>\n",
              "    <tr>\n",
              "      <th>85</th>\n",
              "      <td>85</td>\n",
              "      <td>Music Matters</td>\n",
              "      <td>Episode 23</td>\n",
              "      <td>9.730000</td>\n",
              "      <td>Music</td>\n",
              "      <td>31.68</td>\n",
              "      <td>Tuesday</td>\n",
              "      <td>Morning</td>\n",
              "      <td>52.060000</td>\n",
              "      <td>1.0</td>\n",
              "      <td>Neutral</td>\n",
              "      <td>6.01368</td>\n",
              "    </tr>\n",
              "    <tr>\n",
              "      <th>127</th>\n",
              "      <td>127</td>\n",
              "      <td>Music Matters</td>\n",
              "      <td>Episode 59</td>\n",
              "      <td>64.570000</td>\n",
              "      <td>Music</td>\n",
              "      <td>84.75</td>\n",
              "      <td>Thursday</td>\n",
              "      <td>Morning</td>\n",
              "      <td>52.054404</td>\n",
              "      <td>1.0</td>\n",
              "      <td>Neutral</td>\n",
              "      <td>53.49181</td>\n",
              "    </tr>\n",
              "    <tr>\n",
              "      <th>209</th>\n",
              "      <td>209</td>\n",
              "      <td>Music Matters</td>\n",
              "      <td>Episode 21</td>\n",
              "      <td>85.180000</td>\n",
              "      <td>Music</td>\n",
              "      <td>85.61</td>\n",
              "      <td>Wednesday</td>\n",
              "      <td>Evening</td>\n",
              "      <td>96.450000</td>\n",
              "      <td>1.0</td>\n",
              "      <td>Neutral</td>\n",
              "      <td>73.71758</td>\n",
              "    </tr>\n",
              "    <tr>\n",
              "      <th>...</th>\n",
              "      <td>...</td>\n",
              "      <td>...</td>\n",
              "      <td>...</td>\n",
              "      <td>...</td>\n",
              "      <td>...</td>\n",
              "      <td>...</td>\n",
              "      <td>...</td>\n",
              "      <td>...</td>\n",
              "      <td>...</td>\n",
              "      <td>...</td>\n",
              "      <td>...</td>\n",
              "      <td>...</td>\n",
              "    </tr>\n",
              "    <tr>\n",
              "      <th>745564</th>\n",
              "      <td>745564</td>\n",
              "      <td>Music Matters</td>\n",
              "      <td>Episode 45</td>\n",
              "      <td>65.192867</td>\n",
              "      <td>Music</td>\n",
              "      <td>71.76</td>\n",
              "      <td>Tuesday</td>\n",
              "      <td>Night</td>\n",
              "      <td>33.560000</td>\n",
              "      <td>2.0</td>\n",
              "      <td>Negative</td>\n",
              "      <td>97.47198</td>\n",
              "    </tr>\n",
              "    <tr>\n",
              "      <th>745642</th>\n",
              "      <td>745642</td>\n",
              "      <td>Music Matters</td>\n",
              "      <td>Episode 69</td>\n",
              "      <td>65.192867</td>\n",
              "      <td>Music</td>\n",
              "      <td>23.22</td>\n",
              "      <td>Sunday</td>\n",
              "      <td>Afternoon</td>\n",
              "      <td>18.900000</td>\n",
              "      <td>0.0</td>\n",
              "      <td>Negative</td>\n",
              "      <td>66.61818</td>\n",
              "    </tr>\n",
              "    <tr>\n",
              "      <th>748086</th>\n",
              "      <td>748086</td>\n",
              "      <td>Music Matters</td>\n",
              "      <td>Episode 85</td>\n",
              "      <td>65.192867</td>\n",
              "      <td>Music</td>\n",
              "      <td>41.10</td>\n",
              "      <td>Saturday</td>\n",
              "      <td>Afternoon</td>\n",
              "      <td>79.400000</td>\n",
              "      <td>0.0</td>\n",
              "      <td>Positive</td>\n",
              "      <td>91.31101</td>\n",
              "    </tr>\n",
              "    <tr>\n",
              "      <th>749364</th>\n",
              "      <td>749364</td>\n",
              "      <td>Music Matters</td>\n",
              "      <td>Episode 34</td>\n",
              "      <td>65.192867</td>\n",
              "      <td>Music</td>\n",
              "      <td>76.19</td>\n",
              "      <td>Friday</td>\n",
              "      <td>Morning</td>\n",
              "      <td>99.080000</td>\n",
              "      <td>3.0</td>\n",
              "      <td>Positive</td>\n",
              "      <td>51.55510</td>\n",
              "    </tr>\n",
              "    <tr>\n",
              "      <th>749812</th>\n",
              "      <td>749812</td>\n",
              "      <td>Music Matters</td>\n",
              "      <td>Episode 48</td>\n",
              "      <td>65.192867</td>\n",
              "      <td>Music</td>\n",
              "      <td>37.21</td>\n",
              "      <td>Saturday</td>\n",
              "      <td>Evening</td>\n",
              "      <td>1.510000</td>\n",
              "      <td>1.0</td>\n",
              "      <td>Positive</td>\n",
              "      <td>0.00000</td>\n",
              "    </tr>\n",
              "  </tbody>\n",
              "</table>\n",
              "<p>12652 rows × 12 columns</p>\n",
              "</div>\n",
              "    <div class=\"colab-df-buttons\">\n",
              "\n",
              "  <div class=\"colab-df-container\">\n",
              "    <button class=\"colab-df-convert\" onclick=\"convertToInteractive('df-bec8e587-d901-49df-855f-2e67316cfe90')\"\n",
              "            title=\"Convert this dataframe to an interactive table.\"\n",
              "            style=\"display:none;\">\n",
              "\n",
              "  <svg xmlns=\"http://www.w3.org/2000/svg\" height=\"24px\" viewBox=\"0 -960 960 960\">\n",
              "    <path d=\"M120-120v-720h720v720H120Zm60-500h600v-160H180v160Zm220 220h160v-160H400v160Zm0 220h160v-160H400v160ZM180-400h160v-160H180v160Zm440 0h160v-160H620v160ZM180-180h160v-160H180v160Zm440 0h160v-160H620v160Z\"/>\n",
              "  </svg>\n",
              "    </button>\n",
              "\n",
              "  <style>\n",
              "    .colab-df-container {\n",
              "      display:flex;\n",
              "      gap: 12px;\n",
              "    }\n",
              "\n",
              "    .colab-df-convert {\n",
              "      background-color: #E8F0FE;\n",
              "      border: none;\n",
              "      border-radius: 50%;\n",
              "      cursor: pointer;\n",
              "      display: none;\n",
              "      fill: #1967D2;\n",
              "      height: 32px;\n",
              "      padding: 0 0 0 0;\n",
              "      width: 32px;\n",
              "    }\n",
              "\n",
              "    .colab-df-convert:hover {\n",
              "      background-color: #E2EBFA;\n",
              "      box-shadow: 0px 1px 2px rgba(60, 64, 67, 0.3), 0px 1px 3px 1px rgba(60, 64, 67, 0.15);\n",
              "      fill: #174EA6;\n",
              "    }\n",
              "\n",
              "    .colab-df-buttons div {\n",
              "      margin-bottom: 4px;\n",
              "    }\n",
              "\n",
              "    [theme=dark] .colab-df-convert {\n",
              "      background-color: #3B4455;\n",
              "      fill: #D2E3FC;\n",
              "    }\n",
              "\n",
              "    [theme=dark] .colab-df-convert:hover {\n",
              "      background-color: #434B5C;\n",
              "      box-shadow: 0px 1px 3px 1px rgba(0, 0, 0, 0.15);\n",
              "      filter: drop-shadow(0px 1px 2px rgba(0, 0, 0, 0.3));\n",
              "      fill: #FFFFFF;\n",
              "    }\n",
              "  </style>\n",
              "\n",
              "    <script>\n",
              "      const buttonEl =\n",
              "        document.querySelector('#df-bec8e587-d901-49df-855f-2e67316cfe90 button.colab-df-convert');\n",
              "      buttonEl.style.display =\n",
              "        google.colab.kernel.accessAllowed ? 'block' : 'none';\n",
              "\n",
              "      async function convertToInteractive(key) {\n",
              "        const element = document.querySelector('#df-bec8e587-d901-49df-855f-2e67316cfe90');\n",
              "        const dataTable =\n",
              "          await google.colab.kernel.invokeFunction('convertToInteractive',\n",
              "                                                    [key], {});\n",
              "        if (!dataTable) return;\n",
              "\n",
              "        const docLinkHtml = 'Like what you see? Visit the ' +\n",
              "          '<a target=\"_blank\" href=https://colab.research.google.com/notebooks/data_table.ipynb>data table notebook</a>'\n",
              "          + ' to learn more about interactive tables.';\n",
              "        element.innerHTML = '';\n",
              "        dataTable['output_type'] = 'display_data';\n",
              "        await google.colab.output.renderOutput(dataTable, element);\n",
              "        const docLink = document.createElement('div');\n",
              "        docLink.innerHTML = docLinkHtml;\n",
              "        element.appendChild(docLink);\n",
              "      }\n",
              "    </script>\n",
              "  </div>\n",
              "\n",
              "\n",
              "    <div id=\"df-b392c262-1097-45e5-8a29-ad12b9e0fa31\">\n",
              "      <button class=\"colab-df-quickchart\" onclick=\"quickchart('df-b392c262-1097-45e5-8a29-ad12b9e0fa31')\"\n",
              "                title=\"Suggest charts\"\n",
              "                style=\"display:none;\">\n",
              "\n",
              "<svg xmlns=\"http://www.w3.org/2000/svg\" height=\"24px\"viewBox=\"0 0 24 24\"\n",
              "     width=\"24px\">\n",
              "    <g>\n",
              "        <path d=\"M19 3H5c-1.1 0-2 .9-2 2v14c0 1.1.9 2 2 2h14c1.1 0 2-.9 2-2V5c0-1.1-.9-2-2-2zM9 17H7v-7h2v7zm4 0h-2V7h2v10zm4 0h-2v-4h2v4z\"/>\n",
              "    </g>\n",
              "</svg>\n",
              "      </button>\n",
              "\n",
              "<style>\n",
              "  .colab-df-quickchart {\n",
              "      --bg-color: #E8F0FE;\n",
              "      --fill-color: #1967D2;\n",
              "      --hover-bg-color: #E2EBFA;\n",
              "      --hover-fill-color: #174EA6;\n",
              "      --disabled-fill-color: #AAA;\n",
              "      --disabled-bg-color: #DDD;\n",
              "  }\n",
              "\n",
              "  [theme=dark] .colab-df-quickchart {\n",
              "      --bg-color: #3B4455;\n",
              "      --fill-color: #D2E3FC;\n",
              "      --hover-bg-color: #434B5C;\n",
              "      --hover-fill-color: #FFFFFF;\n",
              "      --disabled-bg-color: #3B4455;\n",
              "      --disabled-fill-color: #666;\n",
              "  }\n",
              "\n",
              "  .colab-df-quickchart {\n",
              "    background-color: var(--bg-color);\n",
              "    border: none;\n",
              "    border-radius: 50%;\n",
              "    cursor: pointer;\n",
              "    display: none;\n",
              "    fill: var(--fill-color);\n",
              "    height: 32px;\n",
              "    padding: 0;\n",
              "    width: 32px;\n",
              "  }\n",
              "\n",
              "  .colab-df-quickchart:hover {\n",
              "    background-color: var(--hover-bg-color);\n",
              "    box-shadow: 0 1px 2px rgba(60, 64, 67, 0.3), 0 1px 3px 1px rgba(60, 64, 67, 0.15);\n",
              "    fill: var(--button-hover-fill-color);\n",
              "  }\n",
              "\n",
              "  .colab-df-quickchart-complete:disabled,\n",
              "  .colab-df-quickchart-complete:disabled:hover {\n",
              "    background-color: var(--disabled-bg-color);\n",
              "    fill: var(--disabled-fill-color);\n",
              "    box-shadow: none;\n",
              "  }\n",
              "\n",
              "  .colab-df-spinner {\n",
              "    border: 2px solid var(--fill-color);\n",
              "    border-color: transparent;\n",
              "    border-bottom-color: var(--fill-color);\n",
              "    animation:\n",
              "      spin 1s steps(1) infinite;\n",
              "  }\n",
              "\n",
              "  @keyframes spin {\n",
              "    0% {\n",
              "      border-color: transparent;\n",
              "      border-bottom-color: var(--fill-color);\n",
              "      border-left-color: var(--fill-color);\n",
              "    }\n",
              "    20% {\n",
              "      border-color: transparent;\n",
              "      border-left-color: var(--fill-color);\n",
              "      border-top-color: var(--fill-color);\n",
              "    }\n",
              "    30% {\n",
              "      border-color: transparent;\n",
              "      border-left-color: var(--fill-color);\n",
              "      border-top-color: var(--fill-color);\n",
              "      border-right-color: var(--fill-color);\n",
              "    }\n",
              "    40% {\n",
              "      border-color: transparent;\n",
              "      border-right-color: var(--fill-color);\n",
              "      border-top-color: var(--fill-color);\n",
              "    }\n",
              "    60% {\n",
              "      border-color: transparent;\n",
              "      border-right-color: var(--fill-color);\n",
              "    }\n",
              "    80% {\n",
              "      border-color: transparent;\n",
              "      border-right-color: var(--fill-color);\n",
              "      border-bottom-color: var(--fill-color);\n",
              "    }\n",
              "    90% {\n",
              "      border-color: transparent;\n",
              "      border-bottom-color: var(--fill-color);\n",
              "    }\n",
              "  }\n",
              "</style>\n",
              "\n",
              "      <script>\n",
              "        async function quickchart(key) {\n",
              "          const quickchartButtonEl =\n",
              "            document.querySelector('#' + key + ' button');\n",
              "          quickchartButtonEl.disabled = true;  // To prevent multiple clicks.\n",
              "          quickchartButtonEl.classList.add('colab-df-spinner');\n",
              "          try {\n",
              "            const charts = await google.colab.kernel.invokeFunction(\n",
              "                'suggestCharts', [key], {});\n",
              "          } catch (error) {\n",
              "            console.error('Error during call to suggestCharts:', error);\n",
              "          }\n",
              "          quickchartButtonEl.classList.remove('colab-df-spinner');\n",
              "          quickchartButtonEl.classList.add('colab-df-quickchart-complete');\n",
              "        }\n",
              "        (() => {\n",
              "          let quickchartButtonEl =\n",
              "            document.querySelector('#df-b392c262-1097-45e5-8a29-ad12b9e0fa31 button');\n",
              "          quickchartButtonEl.style.display =\n",
              "            google.colab.kernel.accessAllowed ? 'block' : 'none';\n",
              "        })();\n",
              "      </script>\n",
              "    </div>\n",
              "\n",
              "    </div>\n",
              "  </div>\n"
            ],
            "application/vnd.google.colaboratory.intrinsic+json": {
              "type": "dataframe",
              "summary": "{\n  \"name\": \"df\",\n  \"rows\": 12652,\n  \"fields\": [\n    {\n      \"column\": \"id\",\n      \"properties\": {\n        \"dtype\": \"number\",\n        \"std\": 216206,\n        \"min\": 9,\n        \"max\": 749988,\n        \"num_unique_values\": 12652,\n        \"samples\": [\n          322793,\n          489441,\n          632158\n        ],\n        \"semantic_type\": \"\",\n        \"description\": \"\"\n      }\n    },\n    {\n      \"column\": \"Podcast_Name\",\n      \"properties\": {\n        \"dtype\": \"category\",\n        \"num_unique_values\": 1,\n        \"samples\": [\n          \"Music Matters\"\n        ],\n        \"semantic_type\": \"\",\n        \"description\": \"\"\n      }\n    },\n    {\n      \"column\": \"Episode_Title\",\n      \"properties\": {\n        \"dtype\": \"category\",\n        \"num_unique_values\": 100,\n        \"samples\": [\n          \"Episode 58\"\n        ],\n        \"semantic_type\": \"\",\n        \"description\": \"\"\n      }\n    },\n    {\n      \"column\": \"Episode_Length_minutes\",\n      \"properties\": {\n        \"dtype\": \"number\",\n        \"std\": 31.514123783956215,\n        \"min\": 5.0,\n        \"max\": 119.95,\n        \"num_unique_values\": 5808,\n        \"samples\": [\n          89.67\n        ],\n        \"semantic_type\": \"\",\n        \"description\": \"\"\n      }\n    },\n    {\n      \"column\": \"Genre\",\n      \"properties\": {\n        \"dtype\": \"category\",\n        \"num_unique_values\": 3,\n        \"samples\": [\n          \"Music\"\n        ],\n        \"semantic_type\": \"\",\n        \"description\": \"\"\n      }\n    },\n    {\n      \"column\": \"Host_Popularity_percentage\",\n      \"properties\": {\n        \"dtype\": \"number\",\n        \"std\": 22.641318435611236,\n        \"min\": 20.01,\n        \"max\": 99.99,\n        \"num_unique_values\": 5485,\n        \"samples\": [\n          47.6\n        ],\n        \"semantic_type\": \"\",\n        \"description\": \"\"\n      }\n    },\n    {\n      \"column\": \"Publication_Day\",\n      \"properties\": {\n        \"dtype\": \"category\",\n        \"num_unique_values\": 7,\n        \"samples\": [\n          \"Thursday\"\n        ],\n        \"semantic_type\": \"\",\n        \"description\": \"\"\n      }\n    },\n    {\n      \"column\": \"Publication_Time\",\n      \"properties\": {\n        \"dtype\": \"category\",\n        \"num_unique_values\": 4,\n        \"samples\": [\n          \"Evening\"\n        ],\n        \"semantic_type\": \"\",\n        \"description\": \"\"\n      }\n    },\n    {\n      \"column\": \"Guest_Popularity_percentage\",\n      \"properties\": {\n        \"dtype\": \"number\",\n        \"std\": 25.462745832265064,\n        \"min\": 0.01,\n        \"max\": 107.58,\n        \"num_unique_values\": 5492,\n        \"samples\": [\n          8.22\n        ],\n        \"semantic_type\": \"\",\n        \"description\": \"\"\n      }\n    },\n    {\n      \"column\": \"Number_of_Ads\",\n      \"properties\": {\n        \"dtype\": \"number\",\n        \"std\": 1.097067174360251,\n        \"min\": 0.0,\n        \"max\": 3.0,\n        \"num_unique_values\": 4,\n        \"samples\": [\n          2.0\n        ],\n        \"semantic_type\": \"\",\n        \"description\": \"\"\n      }\n    },\n    {\n      \"column\": \"Episode_Sentiment\",\n      \"properties\": {\n        \"dtype\": \"category\",\n        \"num_unique_values\": 3,\n        \"samples\": [\n          \"Neutral\"\n        ],\n        \"semantic_type\": \"\",\n        \"description\": \"\"\n      }\n    },\n    {\n      \"column\": \"Listening_Time_minutes\",\n      \"properties\": {\n        \"dtype\": \"number\",\n        \"std\": 28.274913656629558,\n        \"min\": 0.0,\n        \"max\": 119.66,\n        \"num_unique_values\": 8888,\n        \"samples\": [\n          46.44844\n        ],\n        \"semantic_type\": \"\",\n        \"description\": \"\"\n      }\n    }\n  ]\n}"
            }
          },
          "metadata": {},
          "execution_count": 108
        }
      ]
    },
    {
      "cell_type": "code",
      "source": [
        "# imputing Episode Length Minutes test data\n",
        "test_mean_len = df_test.groupby('Podcast_Name')['Episode_Length_minutes'].mean().reset_index(name = 'Mean_Dur')\n",
        "test_mean_len_map = test_mean_len.set_index('Podcast_Name')['Mean_Dur'].to_dict()\n",
        "test_mean_len_map"
      ],
      "metadata": {
        "colab": {
          "base_uri": "https://localhost:8080/"
        },
        "id": "ewZsyTtwKryD",
        "outputId": "cd356409-d2e5-4fc1-aefa-03aa343aa13a"
      },
      "execution_count": null,
      "outputs": [
        {
          "output_type": "execute_result",
          "data": {
            "text/plain": [
              "{\"Athlete's Arena\": 65.12400223990402,\n",
              " 'Brain Boost': 63.55702779197694,\n",
              " 'Business Briefs': 66.73816472337504,\n",
              " 'Business Insights': 62.53988221420274,\n",
              " 'Comedy Corner': 63.11928717586774,\n",
              " 'Crime Chronicles': 65.9042661971855,\n",
              " 'Criminal Minds': 61.119463578531416,\n",
              " 'Current Affairs': 64.11785059557535,\n",
              " 'Daily Digest': 65.47994189256232,\n",
              " 'Detective Diaries': 66.18937561614567,\n",
              " 'Digital Digest': 62.77205851416113,\n",
              " 'Educational Nuggets': 64.17391255298105,\n",
              " 'Fashion Forward': 64.35771060252483,\n",
              " 'Finance Focus': 62.35637068779561,\n",
              " 'Fitness First': 66.1003914756141,\n",
              " 'Funny Folks': 63.6383543978125,\n",
              " 'Gadget Geek': 64.93357723912322,\n",
              " 'Game Day': 62.70095211626103,\n",
              " 'Global News': 65.58818986538334,\n",
              " 'Health Hour': 63.28424440501039,\n",
              " 'Healthy Living': 65.03355382776243,\n",
              " 'Home & Living': 66.23382526629666,\n",
              " 'Humor Hub': 65.92613874577283,\n",
              " 'Innovators': 66.35921274283481,\n",
              " 'Joke Junction': 61.4982957730889,\n",
              " 'Laugh Line': 63.28202952327669,\n",
              " 'Learning Lab': 65.86662320897504,\n",
              " 'Life Lessons': 64.30505706883844,\n",
              " 'Lifestyle Lounge': 64.13441656245284,\n",
              " 'Market Masters': 20742.435570452722,\n",
              " 'Melody Mix': 68.95538666800711,\n",
              " 'Mind & Body': 66.36191168848904,\n",
              " 'Money Matters': 66.36839618474706,\n",
              " 'Music Matters': 64.84328979855268,\n",
              " 'Mystery Matters': 65.2727472038516,\n",
              " 'News Roundup': 62.019057204879815,\n",
              " 'Sound Waves': 64.23087507209274,\n",
              " 'Sport Spot': 63.85284455246686,\n",
              " 'Sports Central': 61.135590508710834,\n",
              " 'Sports Weekly': 66.63367325922998,\n",
              " 'Study Sessions': 65.6796814370414,\n",
              " 'Style Guide': 64.42994278697212,\n",
              " 'Tech Talks': 64.64059308051279,\n",
              " 'Tech Trends': 63.21300176263941,\n",
              " 'True Crime Stories': 64.45131509956425,\n",
              " 'Tune Time': 66.12483599210266,\n",
              " 'Wellness Wave': 65.46109011927878,\n",
              " 'World Watch': 62.791819090887124}"
            ]
          },
          "metadata": {},
          "execution_count": 109
        }
      ]
    },
    {
      "cell_type": "code",
      "source": [
        "# imputing Guest_Popularity_percentage test data\n",
        "test_pop_rating_gener = df_test.groupby('Genre')['Guest_Popularity_percentage'].mean().reset_index(name = 'Mean_Pop')\n",
        "test_rating_map = test_pop_rating_gener.set_index('Genre')['Mean_Pop'].to_dict()\n",
        "test_rating_map"
      ],
      "metadata": {
        "colab": {
          "base_uri": "https://localhost:8080/"
        },
        "id": "LT702gYHdLkW",
        "outputId": "5d87f699-6302-46de-f39c-f531ba9b7afd"
      },
      "execution_count": null,
      "outputs": [
        {
          "output_type": "execute_result",
          "data": {
            "text/plain": [
              "{'Business': 51.37693447293447,\n",
              " 'Comedy': 53.15304508484497,\n",
              " 'Education': 52.10616224529027,\n",
              " 'Health': 51.406536136187775,\n",
              " 'Lifestyle': 52.0630732202791,\n",
              " 'Music': 51.90412944073162,\n",
              " 'News': 52.46579460801703,\n",
              " 'Sports': 53.058590066426426,\n",
              " 'Technology': 51.55843806994245,\n",
              " 'True Crime': 52.61235182058276}"
            ]
          },
          "metadata": {},
          "execution_count": 110
        }
      ]
    },
    {
      "cell_type": "code",
      "source": [
        "df_test.loc[df_test['Guest_Popularity_percentage'].isna(),'Guest_Popularity_percentage'] = (df_test.loc[df_test['Guest_Popularity_percentage'].isna(),'Genre'].map(test_rating_map))\n",
        "print(df_test.isna().sum())"
      ],
      "metadata": {
        "colab": {
          "base_uri": "https://localhost:8080/"
        },
        "id": "IKzEP6vGda19",
        "outputId": "5be016d7-9123-47a7-84a5-c17ee72dd55e"
      },
      "execution_count": null,
      "outputs": [
        {
          "output_type": "stream",
          "name": "stdout",
          "text": [
            "id                                 0\n",
            "Podcast_Name                       0\n",
            "Episode_Title                      0\n",
            "Episode_Length_minutes         28736\n",
            "Genre                              0\n",
            "Host_Popularity_percentage         0\n",
            "Publication_Day                    0\n",
            "Publication_Time                   0\n",
            "Guest_Popularity_percentage        0\n",
            "Number_of_Ads                      0\n",
            "Episode_Sentiment                  0\n",
            "dtype: int64\n"
          ]
        }
      ]
    },
    {
      "cell_type": "code",
      "source": [
        "df_test.loc[df_test['Episode_Length_minutes'].isna(),'Episode_Length_minutes'] = (df_test.loc[df_test['Episode_Length_minutes'].isna(),'Podcast_Name'].map(test_mean_len_map))\n",
        "print(df_test.isna().sum())\n",
        "df_test.loc[df_test['Podcast_Name']=='Music Matters',:]"
      ],
      "metadata": {
        "colab": {
          "base_uri": "https://localhost:8080/",
          "height": 661
        },
        "id": "qQ8PAneodozX",
        "outputId": "641360e2-f9d8-4d1c-d679-d48824ba60a2"
      },
      "execution_count": null,
      "outputs": [
        {
          "output_type": "stream",
          "name": "stdout",
          "text": [
            "id                             0\n",
            "Podcast_Name                   0\n",
            "Episode_Title                  0\n",
            "Episode_Length_minutes         0\n",
            "Genre                          0\n",
            "Host_Popularity_percentage     0\n",
            "Publication_Day                0\n",
            "Publication_Time               0\n",
            "Guest_Popularity_percentage    0\n",
            "Number_of_Ads                  0\n",
            "Episode_Sentiment              0\n",
            "dtype: int64\n"
          ]
        },
        {
          "output_type": "execute_result",
          "data": {
            "text/plain": [
              "            id   Podcast_Name Episode_Title  Episode_Length_minutes  Genre  \\\n",
              "88      750088  Music Matters    Episode 25                20.32000  Music   \n",
              "119     750119  Music Matters    Episode 75                34.97000  Music   \n",
              "149     750149  Music Matters    Episode 38                12.87000  Music   \n",
              "154     750154  Music Matters    Episode 33                78.22000  Music   \n",
              "168     750168  Music Matters    Episode 75                72.02000  Music   \n",
              "...        ...            ...           ...                     ...    ...   \n",
              "249768  999768  Music Matters    Episode 51                 6.89000  Music   \n",
              "249772  999772  Music Matters    Episode 32                23.16000  Music   \n",
              "249863  999863  Music Matters    Episode 68                89.33000  Music   \n",
              "249877  999877  Music Matters    Episode 69                64.84329  Music   \n",
              "249902  999902  Music Matters    Episode 75                64.84329  Music   \n",
              "\n",
              "        Host_Popularity_percentage Publication_Day Publication_Time  \\\n",
              "88                           94.12        Thursday          Evening   \n",
              "119                          84.58         Tuesday          Morning   \n",
              "149                          28.38          Monday          Evening   \n",
              "154                          88.07         Tuesday            Night   \n",
              "168                          96.93        Thursday        Afternoon   \n",
              "...                            ...             ...              ...   \n",
              "249768                       64.30       Wednesday          Morning   \n",
              "249772                       56.57          Friday          Evening   \n",
              "249863                       36.31       Wednesday          Evening   \n",
              "249877                       98.26          Monday          Morning   \n",
              "249902                       80.86         Tuesday          Morning   \n",
              "\n",
              "        Guest_Popularity_percentage  Number_of_Ads Episode_Sentiment  \n",
              "88                        51.904129            2.0          Positive  \n",
              "119                       92.240000            1.0          Positive  \n",
              "149                       66.930000            0.0           Neutral  \n",
              "154                       51.904129            1.0          Negative  \n",
              "168                       82.410000            0.0           Neutral  \n",
              "...                             ...            ...               ...  \n",
              "249768                    55.460000            3.0           Neutral  \n",
              "249772                     7.290000            3.0          Negative  \n",
              "249863                    62.980000            3.0          Positive  \n",
              "249877                    34.520000            2.0          Negative  \n",
              "249902                    51.904129            1.0           Neutral  \n",
              "\n",
              "[4272 rows x 11 columns]"
            ],
            "text/html": [
              "\n",
              "  <div id=\"df-c9ece6de-884d-4b9c-8082-ea35ea80f3e1\" class=\"colab-df-container\">\n",
              "    <div>\n",
              "<style scoped>\n",
              "    .dataframe tbody tr th:only-of-type {\n",
              "        vertical-align: middle;\n",
              "    }\n",
              "\n",
              "    .dataframe tbody tr th {\n",
              "        vertical-align: top;\n",
              "    }\n",
              "\n",
              "    .dataframe thead th {\n",
              "        text-align: right;\n",
              "    }\n",
              "</style>\n",
              "<table border=\"1\" class=\"dataframe\">\n",
              "  <thead>\n",
              "    <tr style=\"text-align: right;\">\n",
              "      <th></th>\n",
              "      <th>id</th>\n",
              "      <th>Podcast_Name</th>\n",
              "      <th>Episode_Title</th>\n",
              "      <th>Episode_Length_minutes</th>\n",
              "      <th>Genre</th>\n",
              "      <th>Host_Popularity_percentage</th>\n",
              "      <th>Publication_Day</th>\n",
              "      <th>Publication_Time</th>\n",
              "      <th>Guest_Popularity_percentage</th>\n",
              "      <th>Number_of_Ads</th>\n",
              "      <th>Episode_Sentiment</th>\n",
              "    </tr>\n",
              "  </thead>\n",
              "  <tbody>\n",
              "    <tr>\n",
              "      <th>88</th>\n",
              "      <td>750088</td>\n",
              "      <td>Music Matters</td>\n",
              "      <td>Episode 25</td>\n",
              "      <td>20.32000</td>\n",
              "      <td>Music</td>\n",
              "      <td>94.12</td>\n",
              "      <td>Thursday</td>\n",
              "      <td>Evening</td>\n",
              "      <td>51.904129</td>\n",
              "      <td>2.0</td>\n",
              "      <td>Positive</td>\n",
              "    </tr>\n",
              "    <tr>\n",
              "      <th>119</th>\n",
              "      <td>750119</td>\n",
              "      <td>Music Matters</td>\n",
              "      <td>Episode 75</td>\n",
              "      <td>34.97000</td>\n",
              "      <td>Music</td>\n",
              "      <td>84.58</td>\n",
              "      <td>Tuesday</td>\n",
              "      <td>Morning</td>\n",
              "      <td>92.240000</td>\n",
              "      <td>1.0</td>\n",
              "      <td>Positive</td>\n",
              "    </tr>\n",
              "    <tr>\n",
              "      <th>149</th>\n",
              "      <td>750149</td>\n",
              "      <td>Music Matters</td>\n",
              "      <td>Episode 38</td>\n",
              "      <td>12.87000</td>\n",
              "      <td>Music</td>\n",
              "      <td>28.38</td>\n",
              "      <td>Monday</td>\n",
              "      <td>Evening</td>\n",
              "      <td>66.930000</td>\n",
              "      <td>0.0</td>\n",
              "      <td>Neutral</td>\n",
              "    </tr>\n",
              "    <tr>\n",
              "      <th>154</th>\n",
              "      <td>750154</td>\n",
              "      <td>Music Matters</td>\n",
              "      <td>Episode 33</td>\n",
              "      <td>78.22000</td>\n",
              "      <td>Music</td>\n",
              "      <td>88.07</td>\n",
              "      <td>Tuesday</td>\n",
              "      <td>Night</td>\n",
              "      <td>51.904129</td>\n",
              "      <td>1.0</td>\n",
              "      <td>Negative</td>\n",
              "    </tr>\n",
              "    <tr>\n",
              "      <th>168</th>\n",
              "      <td>750168</td>\n",
              "      <td>Music Matters</td>\n",
              "      <td>Episode 75</td>\n",
              "      <td>72.02000</td>\n",
              "      <td>Music</td>\n",
              "      <td>96.93</td>\n",
              "      <td>Thursday</td>\n",
              "      <td>Afternoon</td>\n",
              "      <td>82.410000</td>\n",
              "      <td>0.0</td>\n",
              "      <td>Neutral</td>\n",
              "    </tr>\n",
              "    <tr>\n",
              "      <th>...</th>\n",
              "      <td>...</td>\n",
              "      <td>...</td>\n",
              "      <td>...</td>\n",
              "      <td>...</td>\n",
              "      <td>...</td>\n",
              "      <td>...</td>\n",
              "      <td>...</td>\n",
              "      <td>...</td>\n",
              "      <td>...</td>\n",
              "      <td>...</td>\n",
              "      <td>...</td>\n",
              "    </tr>\n",
              "    <tr>\n",
              "      <th>249768</th>\n",
              "      <td>999768</td>\n",
              "      <td>Music Matters</td>\n",
              "      <td>Episode 51</td>\n",
              "      <td>6.89000</td>\n",
              "      <td>Music</td>\n",
              "      <td>64.30</td>\n",
              "      <td>Wednesday</td>\n",
              "      <td>Morning</td>\n",
              "      <td>55.460000</td>\n",
              "      <td>3.0</td>\n",
              "      <td>Neutral</td>\n",
              "    </tr>\n",
              "    <tr>\n",
              "      <th>249772</th>\n",
              "      <td>999772</td>\n",
              "      <td>Music Matters</td>\n",
              "      <td>Episode 32</td>\n",
              "      <td>23.16000</td>\n",
              "      <td>Music</td>\n",
              "      <td>56.57</td>\n",
              "      <td>Friday</td>\n",
              "      <td>Evening</td>\n",
              "      <td>7.290000</td>\n",
              "      <td>3.0</td>\n",
              "      <td>Negative</td>\n",
              "    </tr>\n",
              "    <tr>\n",
              "      <th>249863</th>\n",
              "      <td>999863</td>\n",
              "      <td>Music Matters</td>\n",
              "      <td>Episode 68</td>\n",
              "      <td>89.33000</td>\n",
              "      <td>Music</td>\n",
              "      <td>36.31</td>\n",
              "      <td>Wednesday</td>\n",
              "      <td>Evening</td>\n",
              "      <td>62.980000</td>\n",
              "      <td>3.0</td>\n",
              "      <td>Positive</td>\n",
              "    </tr>\n",
              "    <tr>\n",
              "      <th>249877</th>\n",
              "      <td>999877</td>\n",
              "      <td>Music Matters</td>\n",
              "      <td>Episode 69</td>\n",
              "      <td>64.84329</td>\n",
              "      <td>Music</td>\n",
              "      <td>98.26</td>\n",
              "      <td>Monday</td>\n",
              "      <td>Morning</td>\n",
              "      <td>34.520000</td>\n",
              "      <td>2.0</td>\n",
              "      <td>Negative</td>\n",
              "    </tr>\n",
              "    <tr>\n",
              "      <th>249902</th>\n",
              "      <td>999902</td>\n",
              "      <td>Music Matters</td>\n",
              "      <td>Episode 75</td>\n",
              "      <td>64.84329</td>\n",
              "      <td>Music</td>\n",
              "      <td>80.86</td>\n",
              "      <td>Tuesday</td>\n",
              "      <td>Morning</td>\n",
              "      <td>51.904129</td>\n",
              "      <td>1.0</td>\n",
              "      <td>Neutral</td>\n",
              "    </tr>\n",
              "  </tbody>\n",
              "</table>\n",
              "<p>4272 rows × 11 columns</p>\n",
              "</div>\n",
              "    <div class=\"colab-df-buttons\">\n",
              "\n",
              "  <div class=\"colab-df-container\">\n",
              "    <button class=\"colab-df-convert\" onclick=\"convertToInteractive('df-c9ece6de-884d-4b9c-8082-ea35ea80f3e1')\"\n",
              "            title=\"Convert this dataframe to an interactive table.\"\n",
              "            style=\"display:none;\">\n",
              "\n",
              "  <svg xmlns=\"http://www.w3.org/2000/svg\" height=\"24px\" viewBox=\"0 -960 960 960\">\n",
              "    <path d=\"M120-120v-720h720v720H120Zm60-500h600v-160H180v160Zm220 220h160v-160H400v160Zm0 220h160v-160H400v160ZM180-400h160v-160H180v160Zm440 0h160v-160H620v160ZM180-180h160v-160H180v160Zm440 0h160v-160H620v160Z\"/>\n",
              "  </svg>\n",
              "    </button>\n",
              "\n",
              "  <style>\n",
              "    .colab-df-container {\n",
              "      display:flex;\n",
              "      gap: 12px;\n",
              "    }\n",
              "\n",
              "    .colab-df-convert {\n",
              "      background-color: #E8F0FE;\n",
              "      border: none;\n",
              "      border-radius: 50%;\n",
              "      cursor: pointer;\n",
              "      display: none;\n",
              "      fill: #1967D2;\n",
              "      height: 32px;\n",
              "      padding: 0 0 0 0;\n",
              "      width: 32px;\n",
              "    }\n",
              "\n",
              "    .colab-df-convert:hover {\n",
              "      background-color: #E2EBFA;\n",
              "      box-shadow: 0px 1px 2px rgba(60, 64, 67, 0.3), 0px 1px 3px 1px rgba(60, 64, 67, 0.15);\n",
              "      fill: #174EA6;\n",
              "    }\n",
              "\n",
              "    .colab-df-buttons div {\n",
              "      margin-bottom: 4px;\n",
              "    }\n",
              "\n",
              "    [theme=dark] .colab-df-convert {\n",
              "      background-color: #3B4455;\n",
              "      fill: #D2E3FC;\n",
              "    }\n",
              "\n",
              "    [theme=dark] .colab-df-convert:hover {\n",
              "      background-color: #434B5C;\n",
              "      box-shadow: 0px 1px 3px 1px rgba(0, 0, 0, 0.15);\n",
              "      filter: drop-shadow(0px 1px 2px rgba(0, 0, 0, 0.3));\n",
              "      fill: #FFFFFF;\n",
              "    }\n",
              "  </style>\n",
              "\n",
              "    <script>\n",
              "      const buttonEl =\n",
              "        document.querySelector('#df-c9ece6de-884d-4b9c-8082-ea35ea80f3e1 button.colab-df-convert');\n",
              "      buttonEl.style.display =\n",
              "        google.colab.kernel.accessAllowed ? 'block' : 'none';\n",
              "\n",
              "      async function convertToInteractive(key) {\n",
              "        const element = document.querySelector('#df-c9ece6de-884d-4b9c-8082-ea35ea80f3e1');\n",
              "        const dataTable =\n",
              "          await google.colab.kernel.invokeFunction('convertToInteractive',\n",
              "                                                    [key], {});\n",
              "        if (!dataTable) return;\n",
              "\n",
              "        const docLinkHtml = 'Like what you see? Visit the ' +\n",
              "          '<a target=\"_blank\" href=https://colab.research.google.com/notebooks/data_table.ipynb>data table notebook</a>'\n",
              "          + ' to learn more about interactive tables.';\n",
              "        element.innerHTML = '';\n",
              "        dataTable['output_type'] = 'display_data';\n",
              "        await google.colab.output.renderOutput(dataTable, element);\n",
              "        const docLink = document.createElement('div');\n",
              "        docLink.innerHTML = docLinkHtml;\n",
              "        element.appendChild(docLink);\n",
              "      }\n",
              "    </script>\n",
              "  </div>\n",
              "\n",
              "\n",
              "    <div id=\"df-a790f021-f3af-45f7-8259-2211720394dd\">\n",
              "      <button class=\"colab-df-quickchart\" onclick=\"quickchart('df-a790f021-f3af-45f7-8259-2211720394dd')\"\n",
              "                title=\"Suggest charts\"\n",
              "                style=\"display:none;\">\n",
              "\n",
              "<svg xmlns=\"http://www.w3.org/2000/svg\" height=\"24px\"viewBox=\"0 0 24 24\"\n",
              "     width=\"24px\">\n",
              "    <g>\n",
              "        <path d=\"M19 3H5c-1.1 0-2 .9-2 2v14c0 1.1.9 2 2 2h14c1.1 0 2-.9 2-2V5c0-1.1-.9-2-2-2zM9 17H7v-7h2v7zm4 0h-2V7h2v10zm4 0h-2v-4h2v4z\"/>\n",
              "    </g>\n",
              "</svg>\n",
              "      </button>\n",
              "\n",
              "<style>\n",
              "  .colab-df-quickchart {\n",
              "      --bg-color: #E8F0FE;\n",
              "      --fill-color: #1967D2;\n",
              "      --hover-bg-color: #E2EBFA;\n",
              "      --hover-fill-color: #174EA6;\n",
              "      --disabled-fill-color: #AAA;\n",
              "      --disabled-bg-color: #DDD;\n",
              "  }\n",
              "\n",
              "  [theme=dark] .colab-df-quickchart {\n",
              "      --bg-color: #3B4455;\n",
              "      --fill-color: #D2E3FC;\n",
              "      --hover-bg-color: #434B5C;\n",
              "      --hover-fill-color: #FFFFFF;\n",
              "      --disabled-bg-color: #3B4455;\n",
              "      --disabled-fill-color: #666;\n",
              "  }\n",
              "\n",
              "  .colab-df-quickchart {\n",
              "    background-color: var(--bg-color);\n",
              "    border: none;\n",
              "    border-radius: 50%;\n",
              "    cursor: pointer;\n",
              "    display: none;\n",
              "    fill: var(--fill-color);\n",
              "    height: 32px;\n",
              "    padding: 0;\n",
              "    width: 32px;\n",
              "  }\n",
              "\n",
              "  .colab-df-quickchart:hover {\n",
              "    background-color: var(--hover-bg-color);\n",
              "    box-shadow: 0 1px 2px rgba(60, 64, 67, 0.3), 0 1px 3px 1px rgba(60, 64, 67, 0.15);\n",
              "    fill: var(--button-hover-fill-color);\n",
              "  }\n",
              "\n",
              "  .colab-df-quickchart-complete:disabled,\n",
              "  .colab-df-quickchart-complete:disabled:hover {\n",
              "    background-color: var(--disabled-bg-color);\n",
              "    fill: var(--disabled-fill-color);\n",
              "    box-shadow: none;\n",
              "  }\n",
              "\n",
              "  .colab-df-spinner {\n",
              "    border: 2px solid var(--fill-color);\n",
              "    border-color: transparent;\n",
              "    border-bottom-color: var(--fill-color);\n",
              "    animation:\n",
              "      spin 1s steps(1) infinite;\n",
              "  }\n",
              "\n",
              "  @keyframes spin {\n",
              "    0% {\n",
              "      border-color: transparent;\n",
              "      border-bottom-color: var(--fill-color);\n",
              "      border-left-color: var(--fill-color);\n",
              "    }\n",
              "    20% {\n",
              "      border-color: transparent;\n",
              "      border-left-color: var(--fill-color);\n",
              "      border-top-color: var(--fill-color);\n",
              "    }\n",
              "    30% {\n",
              "      border-color: transparent;\n",
              "      border-left-color: var(--fill-color);\n",
              "      border-top-color: var(--fill-color);\n",
              "      border-right-color: var(--fill-color);\n",
              "    }\n",
              "    40% {\n",
              "      border-color: transparent;\n",
              "      border-right-color: var(--fill-color);\n",
              "      border-top-color: var(--fill-color);\n",
              "    }\n",
              "    60% {\n",
              "      border-color: transparent;\n",
              "      border-right-color: var(--fill-color);\n",
              "    }\n",
              "    80% {\n",
              "      border-color: transparent;\n",
              "      border-right-color: var(--fill-color);\n",
              "      border-bottom-color: var(--fill-color);\n",
              "    }\n",
              "    90% {\n",
              "      border-color: transparent;\n",
              "      border-bottom-color: var(--fill-color);\n",
              "    }\n",
              "  }\n",
              "</style>\n",
              "\n",
              "      <script>\n",
              "        async function quickchart(key) {\n",
              "          const quickchartButtonEl =\n",
              "            document.querySelector('#' + key + ' button');\n",
              "          quickchartButtonEl.disabled = true;  // To prevent multiple clicks.\n",
              "          quickchartButtonEl.classList.add('colab-df-spinner');\n",
              "          try {\n",
              "            const charts = await google.colab.kernel.invokeFunction(\n",
              "                'suggestCharts', [key], {});\n",
              "          } catch (error) {\n",
              "            console.error('Error during call to suggestCharts:', error);\n",
              "          }\n",
              "          quickchartButtonEl.classList.remove('colab-df-spinner');\n",
              "          quickchartButtonEl.classList.add('colab-df-quickchart-complete');\n",
              "        }\n",
              "        (() => {\n",
              "          let quickchartButtonEl =\n",
              "            document.querySelector('#df-a790f021-f3af-45f7-8259-2211720394dd button');\n",
              "          quickchartButtonEl.style.display =\n",
              "            google.colab.kernel.accessAllowed ? 'block' : 'none';\n",
              "        })();\n",
              "      </script>\n",
              "    </div>\n",
              "\n",
              "    </div>\n",
              "  </div>\n"
            ],
            "application/vnd.google.colaboratory.intrinsic+json": {
              "type": "dataframe",
              "summary": "{\n  \"name\": \"df_test\",\n  \"rows\": 4272,\n  \"fields\": [\n    {\n      \"column\": \"id\",\n      \"properties\": {\n        \"dtype\": \"number\",\n        \"std\": 71555,\n        \"min\": 750088,\n        \"max\": 999902,\n        \"num_unique_values\": 4272,\n        \"samples\": [\n          834479,\n          818922,\n          767850\n        ],\n        \"semantic_type\": \"\",\n        \"description\": \"\"\n      }\n    },\n    {\n      \"column\": \"Podcast_Name\",\n      \"properties\": {\n        \"dtype\": \"category\",\n        \"num_unique_values\": 1,\n        \"samples\": [\n          \"Music Matters\"\n        ],\n        \"semantic_type\": \"\",\n        \"description\": \"\"\n      }\n    },\n    {\n      \"column\": \"Episode_Title\",\n      \"properties\": {\n        \"dtype\": \"category\",\n        \"num_unique_values\": 100,\n        \"samples\": [\n          \"Episode 42\"\n        ],\n        \"semantic_type\": \"\",\n        \"description\": \"\"\n      }\n    },\n    {\n      \"column\": \"Episode_Length_minutes\",\n      \"properties\": {\n        \"dtype\": \"number\",\n        \"std\": 32.23087627399685,\n        \"min\": 5.008275889,\n        \"max\": 119.9,\n        \"num_unique_values\": 2831,\n        \"samples\": [\n          116.34\n        ],\n        \"semantic_type\": \"\",\n        \"description\": \"\"\n      }\n    },\n    {\n      \"column\": \"Genre\",\n      \"properties\": {\n        \"dtype\": \"category\",\n        \"num_unique_values\": 4,\n        \"samples\": [\n          \"Sports\"\n        ],\n        \"semantic_type\": \"\",\n        \"description\": \"\"\n      }\n    },\n    {\n      \"column\": \"Host_Popularity_percentage\",\n      \"properties\": {\n        \"dtype\": \"number\",\n        \"std\": 22.84046137483612,\n        \"min\": 20.01,\n        \"max\": 99.87,\n        \"num_unique_values\": 2988,\n        \"samples\": [\n          26.88\n        ],\n        \"semantic_type\": \"\",\n        \"description\": \"\"\n      }\n    },\n    {\n      \"column\": \"Publication_Day\",\n      \"properties\": {\n        \"dtype\": \"category\",\n        \"num_unique_values\": 7,\n        \"samples\": [\n          \"Thursday\"\n        ],\n        \"semantic_type\": \"\",\n        \"description\": \"\"\n      }\n    },\n    {\n      \"column\": \"Publication_Time\",\n      \"properties\": {\n        \"dtype\": \"category\",\n        \"num_unique_values\": 4,\n        \"samples\": [\n          \"Morning\"\n        ],\n        \"semantic_type\": \"\",\n        \"description\": \"\"\n      }\n    },\n    {\n      \"column\": \"Guest_Popularity_percentage\",\n      \"properties\": {\n        \"dtype\": \"number\",\n        \"std\": 25.643202807524883,\n        \"min\": 0.09,\n        \"max\": 99.99,\n        \"num_unique_values\": 2630,\n        \"samples\": [\n          17.85\n        ],\n        \"semantic_type\": \"\",\n        \"description\": \"\"\n      }\n    },\n    {\n      \"column\": \"Number_of_Ads\",\n      \"properties\": {\n        \"dtype\": \"number\",\n        \"std\": 1.098143139555934,\n        \"min\": 0.0,\n        \"max\": 3.0,\n        \"num_unique_values\": 4,\n        \"samples\": [\n          1.0\n        ],\n        \"semantic_type\": \"\",\n        \"description\": \"\"\n      }\n    },\n    {\n      \"column\": \"Episode_Sentiment\",\n      \"properties\": {\n        \"dtype\": \"category\",\n        \"num_unique_values\": 3,\n        \"samples\": [\n          \"Positive\"\n        ],\n        \"semantic_type\": \"\",\n        \"description\": \"\"\n      }\n    }\n  ]\n}"
            }
          },
          "metadata": {},
          "execution_count": 112
        }
      ]
    },
    {
      "cell_type": "markdown",
      "source": [
        "## 8. Feature Selection\n",
        "\n",
        "The code removes the `Episode_Title` and `id` columns from both the training and testing sets, as these columns are not needed for the model.\n"
      ],
      "metadata": {
        "id": "9ULAq2Jj6O2g"
      }
    },
    {
      "cell_type": "code",
      "source": [
        "cols = list(df.columns)\n",
        "cols.remove('Episode_Title')\n",
        "cols.remove('id')\n",
        "df = df.loc[:,cols]\n",
        "df.info()"
      ],
      "metadata": {
        "id": "Lgwa1frdZyzX",
        "colab": {
          "base_uri": "https://localhost:8080/"
        },
        "outputId": "08e80c7b-cc49-49ef-a630-468879e20d82"
      },
      "execution_count": null,
      "outputs": [
        {
          "output_type": "stream",
          "name": "stdout",
          "text": [
            "<class 'pandas.core.frame.DataFrame'>\n",
            "Index: 749989 entries, 1 to 749984\n",
            "Data columns (total 10 columns):\n",
            " #   Column                       Non-Null Count   Dtype  \n",
            "---  ------                       --------------   -----  \n",
            " 0   Podcast_Name                 749989 non-null  object \n",
            " 1   Episode_Length_minutes       749989 non-null  float64\n",
            " 2   Genre                        749989 non-null  object \n",
            " 3   Host_Popularity_percentage   749989 non-null  float64\n",
            " 4   Publication_Day              749989 non-null  object \n",
            " 5   Publication_Time             749989 non-null  object \n",
            " 6   Guest_Popularity_percentage  749989 non-null  float64\n",
            " 7   Number_of_Ads                749989 non-null  float64\n",
            " 8   Episode_Sentiment            749989 non-null  object \n",
            " 9   Listening_Time_minutes       749989 non-null  float64\n",
            "dtypes: float64(5), object(5)\n",
            "memory usage: 62.9+ MB\n"
          ]
        }
      ]
    },
    {
      "cell_type": "code",
      "source": [
        "cols = list(df_test.columns)\n",
        "cols.remove('Episode_Title')\n",
        "cols.remove('id')\n",
        "df_test = df_test.loc[:,cols]\n",
        "df_test.info()"
      ],
      "metadata": {
        "colab": {
          "base_uri": "https://localhost:8080/"
        },
        "id": "PJ9h4Xtqd7uR",
        "outputId": "6d3b088d-24ff-49a1-a906-04c615baa6b1"
      },
      "execution_count": null,
      "outputs": [
        {
          "output_type": "stream",
          "name": "stdout",
          "text": [
            "<class 'pandas.core.frame.DataFrame'>\n",
            "RangeIndex: 250000 entries, 0 to 249999\n",
            "Data columns (total 9 columns):\n",
            " #   Column                       Non-Null Count   Dtype  \n",
            "---  ------                       --------------   -----  \n",
            " 0   Podcast_Name                 250000 non-null  object \n",
            " 1   Episode_Length_minutes       250000 non-null  float64\n",
            " 2   Genre                        250000 non-null  object \n",
            " 3   Host_Popularity_percentage   250000 non-null  float64\n",
            " 4   Publication_Day              250000 non-null  object \n",
            " 5   Publication_Time             250000 non-null  object \n",
            " 6   Guest_Popularity_percentage  250000 non-null  float64\n",
            " 7   Number_of_Ads                250000 non-null  float64\n",
            " 8   Episode_Sentiment            250000 non-null  object \n",
            "dtypes: float64(4), object(5)\n",
            "memory usage: 17.2+ MB\n"
          ]
        }
      ]
    },
    {
      "cell_type": "markdown",
      "source": [
        "## 9. Categorical Feature Encoding\n",
        "\n",
        "Categorical features (`Genre`, `Podcast_Name`, `Publication_Day`, `Publication_Time`, and `Episode_Sentiment`) in both the training and testing sets are encoded using Label Encoding, converting them into numerical values.\n"
      ],
      "metadata": {
        "id": "oDoWh-2z6ThJ"
      }
    },
    {
      "cell_type": "code",
      "source": [
        "encoder = LabelEncoder()\n",
        "df.loc[:,'Genre'] = encoder.fit_transform(df.loc[:,'Genre'])\n",
        "df.loc[:,'Podcast_Name'] = encoder.fit_transform(df.loc[:,'Podcast_Name'])\n",
        "df.loc[:,'Publication_Day'] = encoder.fit_transform(df.loc[:,'Publication_Day'])\n",
        "df.loc[:,'Publication_Time'] = encoder.fit_transform(df.loc[:,'Publication_Time'])\n",
        "df.loc[:,'Episode_Sentiment'] = encoder.fit_transform(df.loc[:,'Episode_Sentiment'])\n",
        "df.info()"
      ],
      "metadata": {
        "id": "JooUYEprZ73m",
        "colab": {
          "base_uri": "https://localhost:8080/"
        },
        "outputId": "9029580d-42cf-478b-9d3b-1e0213c85294"
      },
      "execution_count": null,
      "outputs": [
        {
          "output_type": "stream",
          "name": "stdout",
          "text": [
            "<class 'pandas.core.frame.DataFrame'>\n",
            "Index: 749989 entries, 1 to 749984\n",
            "Data columns (total 10 columns):\n",
            " #   Column                       Non-Null Count   Dtype  \n",
            "---  ------                       --------------   -----  \n",
            " 0   Podcast_Name                 749989 non-null  object \n",
            " 1   Episode_Length_minutes       749989 non-null  float64\n",
            " 2   Genre                        749989 non-null  object \n",
            " 3   Host_Popularity_percentage   749989 non-null  float64\n",
            " 4   Publication_Day              749989 non-null  object \n",
            " 5   Publication_Time             749989 non-null  object \n",
            " 6   Guest_Popularity_percentage  749989 non-null  float64\n",
            " 7   Number_of_Ads                749989 non-null  float64\n",
            " 8   Episode_Sentiment            749989 non-null  object \n",
            " 9   Listening_Time_minutes       749989 non-null  float64\n",
            "dtypes: float64(5), object(5)\n",
            "memory usage: 62.9+ MB\n"
          ]
        }
      ]
    },
    {
      "cell_type": "code",
      "source": [
        "df_test.loc[:,'Genre'] = encoder.fit_transform(df_test.loc[:,'Genre'])\n",
        "df_test.loc[:,'Podcast_Name'] = encoder.fit_transform(df_test.loc[:,'Podcast_Name'])\n",
        "df_test.loc[:,'Publication_Day'] = encoder.fit_transform(df_test.loc[:,'Publication_Day'])\n",
        "df_test.loc[:,'Publication_Time'] = encoder.fit_transform(df_test.loc[:,'Publication_Time'])\n",
        "df_test.loc[:,'Episode_Sentiment'] = encoder.fit_transform(df_test.loc[:,'Episode_Sentiment'])\n",
        "df_test.info()"
      ],
      "metadata": {
        "colab": {
          "base_uri": "https://localhost:8080/"
        },
        "id": "U_5z8s_ZeOBK",
        "outputId": "409181de-d3a2-49f3-af6d-bccb19401d0a"
      },
      "execution_count": null,
      "outputs": [
        {
          "output_type": "stream",
          "name": "stdout",
          "text": [
            "<class 'pandas.core.frame.DataFrame'>\n",
            "RangeIndex: 250000 entries, 0 to 249999\n",
            "Data columns (total 9 columns):\n",
            " #   Column                       Non-Null Count   Dtype  \n",
            "---  ------                       --------------   -----  \n",
            " 0   Podcast_Name                 250000 non-null  object \n",
            " 1   Episode_Length_minutes       250000 non-null  float64\n",
            " 2   Genre                        250000 non-null  object \n",
            " 3   Host_Popularity_percentage   250000 non-null  float64\n",
            " 4   Publication_Day              250000 non-null  object \n",
            " 5   Publication_Time             250000 non-null  object \n",
            " 6   Guest_Popularity_percentage  250000 non-null  float64\n",
            " 7   Number_of_Ads                250000 non-null  float64\n",
            " 8   Episode_Sentiment            250000 non-null  object \n",
            "dtypes: float64(4), object(5)\n",
            "memory usage: 17.2+ MB\n"
          ]
        }
      ]
    },
    {
      "cell_type": "markdown",
      "source": [
        "## 10. Data Type Conversion\n",
        "\n",
        "The code ensures all columns in both the training and testing sets are of numeric data types.\n"
      ],
      "metadata": {
        "id": "9y-zLtyV6ZUO"
      }
    },
    {
      "cell_type": "code",
      "source": [
        "for col in df.columns:\n",
        "    if df[col].dtype == 'object':\n",
        "        df[col] = df[col].astype('int')\n",
        "df.info()"
      ],
      "metadata": {
        "colab": {
          "base_uri": "https://localhost:8080/"
        },
        "id": "U_gI7G2SDzYi",
        "outputId": "0b1cc64b-48fb-42fc-bcbe-6a185f9c2b60"
      },
      "execution_count": null,
      "outputs": [
        {
          "output_type": "stream",
          "name": "stdout",
          "text": [
            "<class 'pandas.core.frame.DataFrame'>\n",
            "Index: 749989 entries, 1 to 749984\n",
            "Data columns (total 10 columns):\n",
            " #   Column                       Non-Null Count   Dtype  \n",
            "---  ------                       --------------   -----  \n",
            " 0   Podcast_Name                 749989 non-null  int64  \n",
            " 1   Episode_Length_minutes       749989 non-null  float64\n",
            " 2   Genre                        749989 non-null  int64  \n",
            " 3   Host_Popularity_percentage   749989 non-null  float64\n",
            " 4   Publication_Day              749989 non-null  int64  \n",
            " 5   Publication_Time             749989 non-null  int64  \n",
            " 6   Guest_Popularity_percentage  749989 non-null  float64\n",
            " 7   Number_of_Ads                749989 non-null  float64\n",
            " 8   Episode_Sentiment            749989 non-null  int64  \n",
            " 9   Listening_Time_minutes       749989 non-null  float64\n",
            "dtypes: float64(5), int64(5)\n",
            "memory usage: 62.9 MB\n"
          ]
        }
      ]
    },
    {
      "cell_type": "code",
      "source": [
        "for col in df_test.columns:\n",
        "    if df_test[col].dtype == 'object':\n",
        "        df_test[col] = df_test[col].astype('int')\n",
        "df_test.info()"
      ],
      "metadata": {
        "colab": {
          "base_uri": "https://localhost:8080/"
        },
        "id": "k9r1wjLseaPW",
        "outputId": "638cf037-cfb2-45a3-9bb8-4b1819476e30"
      },
      "execution_count": null,
      "outputs": [
        {
          "output_type": "stream",
          "name": "stdout",
          "text": [
            "<class 'pandas.core.frame.DataFrame'>\n",
            "RangeIndex: 250000 entries, 0 to 249999\n",
            "Data columns (total 9 columns):\n",
            " #   Column                       Non-Null Count   Dtype  \n",
            "---  ------                       --------------   -----  \n",
            " 0   Podcast_Name                 250000 non-null  int64  \n",
            " 1   Episode_Length_minutes       250000 non-null  float64\n",
            " 2   Genre                        250000 non-null  int64  \n",
            " 3   Host_Popularity_percentage   250000 non-null  float64\n",
            " 4   Publication_Day              250000 non-null  int64  \n",
            " 5   Publication_Time             250000 non-null  int64  \n",
            " 6   Guest_Popularity_percentage  250000 non-null  float64\n",
            " 7   Number_of_Ads                250000 non-null  float64\n",
            " 8   Episode_Sentiment            250000 non-null  int64  \n",
            "dtypes: float64(4), int64(5)\n",
            "memory usage: 17.2 MB\n"
          ]
        }
      ]
    },
    {
      "cell_type": "markdown",
      "source": [
        "## 11. Model Training and Evaluation\n",
        "\n",
        "An XGBoost Regressor model is trained on the training data to predict the `Listening_Time_minutes`. The model's performance is evaluated using Root Mean Squared Error (RMSE) on the test set.\n"
      ],
      "metadata": {
        "id": "tDMVRSPvfx4B"
      }
    },
    {
      "cell_type": "code",
      "source": [
        "features, target = df.drop(['Listening_Time_minutes','Podcast_Name'], axis=1), df['Listening_Time_minutes']\n",
        "cm = features.corr()\n",
        "sns.heatmap(cm, annot=True, cmap='coolwarm', fmt='.2f', linewidths=0.5)\n",
        "plt.show()"
      ],
      "metadata": {
        "colab": {
          "base_uri": "https://localhost:8080/",
          "height": 594
        },
        "id": "KmdNhFO4nNuM",
        "outputId": "05811205-63be-473e-f1da-b215d0373d64"
      },
      "execution_count": null,
      "outputs": [
        {
          "output_type": "display_data",
          "data": {
            "text/plain": [
              "<Figure size 640x480 with 2 Axes>"
            ],
            "image/png": "[encoded data removed]"
          },
          "metadata": {}
        }
      ]
    },
    {
      "cell_type": "code",
      "source": [
        "features, target = df.drop(['Listening_Time_minutes','Podcast_Name'], axis=1), df['Listening_Time_minutes']\n",
        "# features = MinMaxScaler().fit_transform(features)\n",
        "X_train, X_test, y_train, y_test = train_test_split(features, target, test_size=0.2, random_state=42)"
      ],
      "metadata": {
        "id": "bIanDcuxBwl0"
      },
      "execution_count": null,
      "outputs": []
    },
    {
      "cell_type": "code",
      "source": [
        "model_xgb = XGBRegressor(n_estimators = 265, learning_rate = 0.02, max_depth  = 7, gamma = 0)\n",
        "model_xgb.fit(X_train, y_train)\n",
        "y_pred = model_xgb.predict(X_test)"
      ],
      "metadata": {
        "id": "Qcs5nwPRh6YO"
      },
      "execution_count": null,
      "outputs": []
    },
    {
      "cell_type": "code",
      "source": [
        "rmse = root_mean_squared_error(y_test, y_pred)\n",
        "print(f\"Root Mean Squared Error: {rmse:.2f}\")"
      ],
      "metadata": {
        "colab": {
          "base_uri": "https://localhost:8080/"
        },
        "id": "z6bVevlYenAx",
        "outputId": "19d61348-fabb-4e4e-fa01-a251ae3e1f88"
      },
      "execution_count": null,
      "outputs": [
        {
          "output_type": "stream",
          "name": "stdout",
          "text": [
            "Root Mean Squared Error: 13.08\n"
          ]
        }
      ]
    },
    {
      "cell_type": "markdown",
      "source": [
        "## 12. Prediction on Test Set\n",
        "\n",
        "The trained model is used to predict the listening times for the test set. The predictions are added as a new column to the test set DataFrame.\n",
        "\n",
        "\n",
        "\n",
        "\n",
        "\n",
        "\n",
        "\n"
      ],
      "metadata": {
        "id": "Slr8piC96joP"
      }
    },
    {
      "cell_type": "code",
      "source": [
        "df_test_pred = df_test.drop(['Podcast_Name'], axis=1)\n",
        "predictions_on_testset = model_xgb.predict(df_test_pred)\n",
        "print(predictions_on_testset)\n",
        "df_test['Listening_Time_Preds'] = predictions_on_testset\n",
        "df_test.head()"
      ],
      "metadata": {
        "colab": {
          "base_uri": "https://localhost:8080/",
          "height": 244
        },
        "id": "CP_GkyteNQYY",
        "outputId": "f57220e0-7ebf-4dbe-898d-6ec73b4d388a"
      },
      "execution_count": null,
      "outputs": [
        {
          "output_type": "stream",
          "name": "stdout",
          "text": [
            "[56.150883  17.974367  49.586613  ...  7.1233883 73.53261   56.946648 ]\n"
          ]
        },
        {
          "output_type": "execute_result",
          "data": {
            "text/plain": [
              "   Podcast_Name  Episode_Length_minutes  Genre  Host_Popularity_percentage  \\\n",
              "0            11                   78.96      2                       38.11   \n",
              "1            36                   27.87      5                       71.29   \n",
              "2            24                   69.10      1                       67.89   \n",
              "3             4                  115.39      1                       23.40   \n",
              "4            27                   72.32      4                       58.10   \n",
              "\n",
              "   Publication_Day  Publication_Time  Guest_Popularity_percentage  \\\n",
              "0                2                 1                    53.330000   \n",
              "1                3                 2                    51.904129   \n",
              "2                0                 1                    97.510000   \n",
              "3                3                 2                    51.750000   \n",
              "4                6                 2                    11.300000   \n",
              "\n",
              "   Number_of_Ads  Episode_Sentiment  Listening_Time_Preds  \n",
              "0            1.0                  1             56.150883  \n",
              "1            0.0                  1             17.974367  \n",
              "2            0.0                  2             49.586613  \n",
              "3            2.0                  2             79.217323  \n",
              "4            2.0                  1             48.714066  "
            ],
            "text/html": [
              "\n",
              "  <div id=\"df-7848b613-d20e-46be-8064-dce770e87566\" class=\"colab-df-container\">\n",
              "    <div>\n",
              "<style scoped>\n",
              "    .dataframe tbody tr th:only-of-type {\n",
              "        vertical-align: middle;\n",
              "    }\n",
              "\n",
              "    .dataframe tbody tr th {\n",
              "        vertical-align: top;\n",
              "    }\n",
              "\n",
              "    .dataframe thead th {\n",
              "        text-align: right;\n",
              "    }\n",
              "</style>\n",
              "<table border=\"1\" class=\"dataframe\">\n",
              "  <thead>\n",
              "    <tr style=\"text-align: right;\">\n",
              "      <th></th>\n",
              "      <th>Podcast_Name</th>\n",
              "      <th>Episode_Length_minutes</th>\n",
              "      <th>Genre</th>\n",
              "      <th>Host_Popularity_percentage</th>\n",
              "      <th>Publication_Day</th>\n",
              "      <th>Publication_Time</th>\n",
              "      <th>Guest_Popularity_percentage</th>\n",
              "      <th>Number_of_Ads</th>\n",
              "      <th>Episode_Sentiment</th>\n",
              "      <th>Listening_Time_Preds</th>\n",
              "    </tr>\n",
              "  </thead>\n",
              "  <tbody>\n",
              "    <tr>\n",
              "      <th>0</th>\n",
              "      <td>11</td>\n",
              "      <td>78.96</td>\n",
              "      <td>2</td>\n",
              "      <td>38.11</td>\n",
              "      <td>2</td>\n",
              "      <td>1</td>\n",
              "      <td>53.330000</td>\n",
              "      <td>1.0</td>\n",
              "      <td>1</td>\n",
              "      <td>56.150883</td>\n",
              "    </tr>\n",
              "    <tr>\n",
              "      <th>1</th>\n",
              "      <td>36</td>\n",
              "      <td>27.87</td>\n",
              "      <td>5</td>\n",
              "      <td>71.29</td>\n",
              "      <td>3</td>\n",
              "      <td>2</td>\n",
              "      <td>51.904129</td>\n",
              "      <td>0.0</td>\n",
              "      <td>1</td>\n",
              "      <td>17.974367</td>\n",
              "    </tr>\n",
              "    <tr>\n",
              "      <th>2</th>\n",
              "      <td>24</td>\n",
              "      <td>69.10</td>\n",
              "      <td>1</td>\n",
              "      <td>67.89</td>\n",
              "      <td>0</td>\n",
              "      <td>1</td>\n",
              "      <td>97.510000</td>\n",
              "      <td>0.0</td>\n",
              "      <td>2</td>\n",
              "      <td>49.586613</td>\n",
              "    </tr>\n",
              "    <tr>\n",
              "      <th>3</th>\n",
              "      <td>4</td>\n",
              "      <td>115.39</td>\n",
              "      <td>1</td>\n",
              "      <td>23.40</td>\n",
              "      <td>3</td>\n",
              "      <td>2</td>\n",
              "      <td>51.750000</td>\n",
              "      <td>2.0</td>\n",
              "      <td>2</td>\n",
              "      <td>79.217323</td>\n",
              "    </tr>\n",
              "    <tr>\n",
              "      <th>4</th>\n",
              "      <td>27</td>\n",
              "      <td>72.32</td>\n",
              "      <td>4</td>\n",
              "      <td>58.10</td>\n",
              "      <td>6</td>\n",
              "      <td>2</td>\n",
              "      <td>11.300000</td>\n",
              "      <td>2.0</td>\n",
              "      <td>1</td>\n",
              "      <td>48.714066</td>\n",
              "    </tr>\n",
              "  </tbody>\n",
              "</table>\n",
              "</div>\n",
              "    <div class=\"colab-df-buttons\">\n",
              "\n",
              "  <div class=\"colab-df-container\">\n",
              "    <button class=\"colab-df-convert\" onclick=\"convertToInteractive('df-7848b613-d20e-46be-8064-dce770e87566')\"\n",
              "            title=\"Convert this dataframe to an interactive table.\"\n",
              "            style=\"display:none;\">\n",
              "\n",
              "  <svg xmlns=\"http://www.w3.org/2000/svg\" height=\"24px\" viewBox=\"0 -960 960 960\">\n",
              "    <path d=\"M120-120v-720h720v720H120Zm60-500h600v-160H180v160Zm220 220h160v-160H400v160Zm0 220h160v-160H400v160ZM180-400h160v-160H180v160Zm440 0h160v-160H620v160ZM180-180h160v-160H180v160Zm440 0h160v-160H620v160Z\"/>\n",
              "  </svg>\n",
              "    </button>\n",
              "\n",
              "  <style>\n",
              "    .colab-df-container {\n",
              "      display:flex;\n",
              "      gap: 12px;\n",
              "    }\n",
              "\n",
              "    .colab-df-convert {\n",
              "      background-color: #E8F0FE;\n",
              "      border: none;\n",
              "      border-radius: 50%;\n",
              "      cursor: pointer;\n",
              "      display: none;\n",
              "      fill: #1967D2;\n",
              "      height: 32px;\n",
              "      padding: 0 0 0 0;\n",
              "      width: 32px;\n",
              "    }\n",
              "\n",
              "    .colab-df-convert:hover {\n",
              "      background-color: #E2EBFA;\n",
              "      box-shadow: 0px 1px 2px rgba(60, 64, 67, 0.3), 0px 1px 3px 1px rgba(60, 64, 67, 0.15);\n",
              "      fill: #174EA6;\n",
              "    }\n",
              "\n",
              "    .colab-df-buttons div {\n",
              "      margin-bottom: 4px;\n",
              "    }\n",
              "\n",
              "    [theme=dark] .colab-df-convert {\n",
              "      background-color: #3B4455;\n",
              "      fill: #D2E3FC;\n",
              "    }\n",
              "\n",
              "    [theme=dark] .colab-df-convert:hover {\n",
              "      background-color: #434B5C;\n",
              "      box-shadow: 0px 1px 3px 1px rgba(0, 0, 0, 0.15);\n",
              "      filter: drop-shadow(0px 1px 2px rgba(0, 0, 0, 0.3));\n",
              "      fill: #FFFFFF;\n",
              "    }\n",
              "  </style>\n",
              "\n",
              "    <script>\n",
              "      const buttonEl =\n",
              "        document.querySelector('#df-7848b613-d20e-46be-8064-dce770e87566 button.colab-df-convert');\n",
              "      buttonEl.style.display =\n",
              "        google.colab.kernel.accessAllowed ? 'block' : 'none';\n",
              "\n",
              "      async function convertToInteractive(key) {\n",
              "        const element = document.querySelector('#df-7848b613-d20e-46be-8064-dce770e87566');\n",
              "        const dataTable =\n",
              "          await google.colab.kernel.invokeFunction('convertToInteractive',\n",
              "                                                    [key], {});\n",
              "        if (!dataTable) return;\n",
              "\n",
              "        const docLinkHtml = 'Like what you see? Visit the ' +\n",
              "          '<a target=\"_blank\" href=https://colab.research.google.com/notebooks/data_table.ipynb>data table notebook</a>'\n",
              "          + ' to learn more about interactive tables.';\n",
              "        element.innerHTML = '';\n",
              "        dataTable['output_type'] = 'display_data';\n",
              "        await google.colab.output.renderOutput(dataTable, element);\n",
              "        const docLink = document.createElement('div');\n",
              "        docLink.innerHTML = docLinkHtml;\n",
              "        element.appendChild(docLink);\n",
              "      }\n",
              "    </script>\n",
              "  </div>\n",
              "\n",
              "\n",
              "    <div id=\"df-c0913714-5c4c-421b-9de1-b126cfed9955\">\n",
              "      <button class=\"colab-df-quickchart\" onclick=\"quickchart('df-c0913714-5c4c-421b-9de1-b126cfed9955')\"\n",
              "                title=\"Suggest charts\"\n",
              "                style=\"display:none;\">\n",
              "\n",
              "<svg xmlns=\"http://www.w3.org/2000/svg\" height=\"24px\"viewBox=\"0 0 24 24\"\n",
              "     width=\"24px\">\n",
              "    <g>\n",
              "        <path d=\"M19 3H5c-1.1 0-2 .9-2 2v14c0 1.1.9 2 2 2h14c1.1 0 2-.9 2-2V5c0-1.1-.9-2-2-2zM9 17H7v-7h2v7zm4 0h-2V7h2v10zm4 0h-2v-4h2v4z\"/>\n",
              "    </g>\n",
              "</svg>\n",
              "      </button>\n",
              "\n",
              "<style>\n",
              "  .colab-df-quickchart {\n",
              "      --bg-color: #E8F0FE;\n",
              "      --fill-color: #1967D2;\n",
              "      --hover-bg-color: #E2EBFA;\n",
              "      --hover-fill-color: #174EA6;\n",
              "      --disabled-fill-color: #AAA;\n",
              "      --disabled-bg-color: #DDD;\n",
              "  }\n",
              "\n",
              "  [theme=dark] .colab-df-quickchart {\n",
              "      --bg-color: #3B4455;\n",
              "      --fill-color: #D2E3FC;\n",
              "      --hover-bg-color: #434B5C;\n",
              "      --hover-fill-color: #FFFFFF;\n",
              "      --disabled-bg-color: #3B4455;\n",
              "      --disabled-fill-color: #666;\n",
              "  }\n",
              "\n",
              "  .colab-df-quickchart {\n",
              "    background-color: var(--bg-color);\n",
              "    border: none;\n",
              "    border-radius: 50%;\n",
              "    cursor: pointer;\n",
              "    display: none;\n",
              "    fill: var(--fill-color);\n",
              "    height: 32px;\n",
              "    padding: 0;\n",
              "    width: 32px;\n",
              "  }\n",
              "\n",
              "  .colab-df-quickchart:hover {\n",
              "    background-color: var(--hover-bg-color);\n",
              "    box-shadow: 0 1px 2px rgba(60, 64, 67, 0.3), 0 1px 3px 1px rgba(60, 64, 67, 0.15);\n",
              "    fill: var(--button-hover-fill-color);\n",
              "  }\n",
              "\n",
              "  .colab-df-quickchart-complete:disabled,\n",
              "  .colab-df-quickchart-complete:disabled:hover {\n",
              "    background-color: var(--disabled-bg-color);\n",
              "    fill: var(--disabled-fill-color);\n",
              "    box-shadow: none;\n",
              "  }\n",
              "\n",
              "  .colab-df-spinner {\n",
              "    border: 2px solid var(--fill-color);\n",
              "    border-color: transparent;\n",
              "    border-bottom-color: var(--fill-color);\n",
              "    animation:\n",
              "      spin 1s steps(1) infinite;\n",
              "  }\n",
              "\n",
              "  @keyframes spin {\n",
              "    0% {\n",
              "      border-color: transparent;\n",
              "      border-bottom-color: var(--fill-color);\n",
              "      border-left-color: var(--fill-color);\n",
              "    }\n",
              "    20% {\n",
              "      border-color: transparent;\n",
              "      border-left-color: var(--fill-color);\n",
              "      border-top-color: var(--fill-color);\n",
              "    }\n",
              "    30% {\n",
              "      border-color: transparent;\n",
              "      border-left-color: var(--fill-color);\n",
              "      border-top-color: var(--fill-color);\n",
              "      border-right-color: var(--fill-color);\n",
              "    }\n",
              "    40% {\n",
              "      border-color: transparent;\n",
              "      border-right-color: var(--fill-color);\n",
              "      border-top-color: var(--fill-color);\n",
              "    }\n",
              "    60% {\n",
              "      border-color: transparent;\n",
              "      border-right-color: var(--fill-color);\n",
              "    }\n",
              "    80% {\n",
              "      border-color: transparent;\n",
              "      border-right-color: var(--fill-color);\n",
              "      border-bottom-color: var(--fill-color);\n",
              "    }\n",
              "    90% {\n",
              "      border-color: transparent;\n",
              "      border-bottom-color: var(--fill-color);\n",
              "    }\n",
              "  }\n",
              "</style>\n",
              "\n",
              "      <script>\n",
              "        async function quickchart(key) {\n",
              "          const quickchartButtonEl =\n",
              "            document.querySelector('#' + key + ' button');\n",
              "          quickchartButtonEl.disabled = true;  // To prevent multiple clicks.\n",
              "          quickchartButtonEl.classList.add('colab-df-spinner');\n",
              "          try {\n",
              "            const charts = await google.colab.kernel.invokeFunction(\n",
              "                'suggestCharts', [key], {});\n",
              "          } catch (error) {\n",
              "            console.error('Error during call to suggestCharts:', error);\n",
              "          }\n",
              "          quickchartButtonEl.classList.remove('colab-df-spinner');\n",
              "          quickchartButtonEl.classList.add('colab-df-quickchart-complete');\n",
              "        }\n",
              "        (() => {\n",
              "          let quickchartButtonEl =\n",
              "            document.querySelector('#df-c0913714-5c4c-421b-9de1-b126cfed9955 button');\n",
              "          quickchartButtonEl.style.display =\n",
              "            google.colab.kernel.accessAllowed ? 'block' : 'none';\n",
              "        })();\n",
              "      </script>\n",
              "    </div>\n",
              "\n",
              "    </div>\n",
              "  </div>\n"
            ],
            "application/vnd.google.colaboratory.intrinsic+json": {
              "type": "dataframe",
              "variable_name": "df_test"
            }
          },
          "metadata": {},
          "execution_count": 123
        }
      ]
    }
  ]
}